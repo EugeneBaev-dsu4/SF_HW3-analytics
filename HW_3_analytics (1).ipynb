{
  "nbformat": 4,
  "nbformat_minor": 0,
  "metadata": {
    "colab": {
      "provenance": []
    },
    "kernelspec": {
      "name": "python3",
      "display_name": "Python 3"
    },
    "language_info": {
      "name": "python"
    }
  },
  "cells": [
    {
      "cell_type": "code",
      "execution_count": 1,
      "metadata": {
        "id": "GlWnPh-XaKo1"
      },
      "outputs": [],
      "source": [
        "# загружаем библиотеки\n",
        "import numpy as np\n",
        "import glob\n",
        "import pandas as pd\n",
        "from scipy import stats\n",
        "import matplotlib.pyplot as plt\n",
        "import seaborn as sns"
      ]
    },
    {
      "cell_type": "code",
      "source": [
        "# загружаем датасет\n",
        "!git clone https://github.com/JeffSackmann/tennis_atp"
      ],
      "metadata": {
        "colab": {
          "base_uri": "https://localhost:8080/"
        },
        "id": "2JhyKLnAaLdk",
        "outputId": "b1b5f180-41dd-42bd-9a91-2231c7163d7d"
      },
      "execution_count": 2,
      "outputs": [
        {
          "output_type": "stream",
          "name": "stdout",
          "text": [
            "Cloning into 'tennis_atp'...\n",
            "remote: Enumerating objects: 3353, done.\u001b[K\n",
            "remote: Counting objects: 100% (6/6), done.\u001b[K\n",
            "remote: Compressing objects: 100% (6/6), done.\u001b[K\n",
            "remote: Total 3353 (delta 0), reused 5 (delta 0), pack-reused 3347\u001b[K\n",
            "Receiving objects: 100% (3353/3353), 281.39 MiB | 17.57 MiB/s, done.\n",
            "Resolving deltas: 100% (2613/2613), done.\n",
            "Checking out files: 100% (174/174), done.\n"
          ]
        }
      ]
    },
    {
      "cell_type": "code",
      "source": [
        "glob.glob('tennis_atp/atp_matches_[12][019][01298]*')"
      ],
      "metadata": {
        "colab": {
          "base_uri": "https://localhost:8080/"
        },
        "id": "oM-IeHiBaRnv",
        "outputId": "40ef00ff-ebf6-4fef-b75f-40506a82cfa1"
      },
      "execution_count": 3,
      "outputs": [
        {
          "output_type": "execute_result",
          "data": {
            "text/plain": [
              "['tennis_atp/atp_matches_2017.csv',\n",
              " 'tennis_atp/atp_matches_2012.csv',\n",
              " 'tennis_atp/atp_matches_2021.csv',\n",
              " 'tennis_atp/atp_matches_2004.csv',\n",
              " 'tennis_atp/atp_matches_2014.csv',\n",
              " 'tennis_atp/atp_matches_1995.csv',\n",
              " 'tennis_atp/atp_matches_1982.csv',\n",
              " 'tennis_atp/atp_matches_1981.csv',\n",
              " 'tennis_atp/atp_matches_2002.csv',\n",
              " 'tennis_atp/atp_matches_1980.csv',\n",
              " 'tennis_atp/atp_matches_2015.csv',\n",
              " 'tennis_atp/atp_matches_1983.csv',\n",
              " 'tennis_atp/atp_matches_1987.csv',\n",
              " 'tennis_atp/atp_matches_2013.csv',\n",
              " 'tennis_atp/atp_matches_1990.csv',\n",
              " 'tennis_atp/atp_matches_2016.csv',\n",
              " 'tennis_atp/atp_matches_1989.csv',\n",
              " 'tennis_atp/atp_matches_1994.csv',\n",
              " 'tennis_atp/atp_matches_2020.csv',\n",
              " 'tennis_atp/atp_matches_2008.csv',\n",
              " 'tennis_atp/atp_matches_2011.csv',\n",
              " 'tennis_atp/atp_matches_1999.csv',\n",
              " 'tennis_atp/atp_matches_2001.csv',\n",
              " 'tennis_atp/atp_matches_1986.csv',\n",
              " 'tennis_atp/atp_matches_2022.csv',\n",
              " 'tennis_atp/atp_matches_1991.csv',\n",
              " 'tennis_atp/atp_matches_2006.csv',\n",
              " 'tennis_atp/atp_matches_1998.csv',\n",
              " 'tennis_atp/atp_matches_2018.csv',\n",
              " 'tennis_atp/atp_matches_1988.csv',\n",
              " 'tennis_atp/atp_matches_1996.csv',\n",
              " 'tennis_atp/atp_matches_2010.csv',\n",
              " 'tennis_atp/atp_matches_2009.csv',\n",
              " 'tennis_atp/atp_matches_1985.csv',\n",
              " 'tennis_atp/atp_matches_1984.csv',\n",
              " 'tennis_atp/atp_matches_2000.csv',\n",
              " 'tennis_atp/atp_matches_2003.csv',\n",
              " 'tennis_atp/atp_matches_2007.csv',\n",
              " 'tennis_atp/atp_matches_2005.csv',\n",
              " 'tennis_atp/atp_matches_1993.csv',\n",
              " 'tennis_atp/atp_matches_2019.csv',\n",
              " 'tennis_atp/atp_matches_1997.csv',\n",
              " 'tennis_atp/atp_matches_1992.csv']"
            ]
          },
          "metadata": {},
          "execution_count": 3
        }
      ]
    },
    {
      "cell_type": "code",
      "source": [
        "# создаем датфрейм\n",
        "df = pd.concat([pd.read_csv(i) for i in glob.glob('tennis_atp/atp_matches_[12][019][01298]*')], axis=0)"
      ],
      "metadata": {
        "id": "M2moJncNawtw"
      },
      "execution_count": 4,
      "outputs": []
    },
    {
      "cell_type": "code",
      "source": [
        "df.head()"
      ],
      "metadata": {
        "colab": {
          "base_uri": "https://localhost:8080/",
          "height": 299
        },
        "id": "0L5Jlb45a0Ug",
        "outputId": "f8164df7-ed8f-4517-8a22-08d2461cdcf5"
      },
      "execution_count": 5,
      "outputs": [
        {
          "output_type": "execute_result",
          "data": {
            "text/plain": [
              "  tourney_id tourney_name surface  draw_size tourney_level  tourney_date  \\\n",
              "0  2017-M020     Brisbane    Hard         32             A      20170102   \n",
              "1  2017-M020     Brisbane    Hard         32             A      20170102   \n",
              "2  2017-M020     Brisbane    Hard         32             A      20170102   \n",
              "3  2017-M020     Brisbane    Hard         32             A      20170102   \n",
              "4  2017-M020     Brisbane    Hard         32             A      20170102   \n",
              "\n",
              "   match_num  winner_id winner_seed winner_entry  ... l_1stIn l_1stWon  \\\n",
              "0        271     104678         NaN          NaN  ...    53.0     33.0   \n",
              "1        272     106378         NaN          NaN  ...    67.0     39.0   \n",
              "2        273     106298         6.0          NaN  ...    42.0     29.0   \n",
              "3        275     111577         NaN            Q  ...    37.0     27.0   \n",
              "4        276     111442         NaN           WC  ...    43.0     23.0   \n",
              "\n",
              "   l_2ndWon l_SvGms  l_bpSaved  l_bpFaced winner_rank winner_rank_points  \\\n",
              "0      13.0    11.0        6.0       10.0        29.0             1385.0   \n",
              "1      27.0    12.0        9.0       10.0        45.0             1001.0   \n",
              "2      16.0    12.0        0.0        4.0        15.0             2156.0   \n",
              "3       7.0    10.0        2.0        5.0       105.0              570.0   \n",
              "4      13.0     9.0       10.0       15.0        79.0              689.0   \n",
              "\n",
              "  loser_rank loser_rank_points  \n",
              "0      100.0             604.0  \n",
              "1      141.0             443.0  \n",
              "2       25.0            1585.0  \n",
              "3       34.0            1255.0  \n",
              "4      160.0             372.0  \n",
              "\n",
              "[5 rows x 49 columns]"
            ],
            "text/html": [
              "\n",
              "  <div id=\"df-2f7289b4-ea95-4247-9b01-40639416f6e5\">\n",
              "    <div class=\"colab-df-container\">\n",
              "      <div>\n",
              "<style scoped>\n",
              "    .dataframe tbody tr th:only-of-type {\n",
              "        vertical-align: middle;\n",
              "    }\n",
              "\n",
              "    .dataframe tbody tr th {\n",
              "        vertical-align: top;\n",
              "    }\n",
              "\n",
              "    .dataframe thead th {\n",
              "        text-align: right;\n",
              "    }\n",
              "</style>\n",
              "<table border=\"1\" class=\"dataframe\">\n",
              "  <thead>\n",
              "    <tr style=\"text-align: right;\">\n",
              "      <th></th>\n",
              "      <th>tourney_id</th>\n",
              "      <th>tourney_name</th>\n",
              "      <th>surface</th>\n",
              "      <th>draw_size</th>\n",
              "      <th>tourney_level</th>\n",
              "      <th>tourney_date</th>\n",
              "      <th>match_num</th>\n",
              "      <th>winner_id</th>\n",
              "      <th>winner_seed</th>\n",
              "      <th>winner_entry</th>\n",
              "      <th>...</th>\n",
              "      <th>l_1stIn</th>\n",
              "      <th>l_1stWon</th>\n",
              "      <th>l_2ndWon</th>\n",
              "      <th>l_SvGms</th>\n",
              "      <th>l_bpSaved</th>\n",
              "      <th>l_bpFaced</th>\n",
              "      <th>winner_rank</th>\n",
              "      <th>winner_rank_points</th>\n",
              "      <th>loser_rank</th>\n",
              "      <th>loser_rank_points</th>\n",
              "    </tr>\n",
              "  </thead>\n",
              "  <tbody>\n",
              "    <tr>\n",
              "      <th>0</th>\n",
              "      <td>2017-M020</td>\n",
              "      <td>Brisbane</td>\n",
              "      <td>Hard</td>\n",
              "      <td>32</td>\n",
              "      <td>A</td>\n",
              "      <td>20170102</td>\n",
              "      <td>271</td>\n",
              "      <td>104678</td>\n",
              "      <td>NaN</td>\n",
              "      <td>NaN</td>\n",
              "      <td>...</td>\n",
              "      <td>53.0</td>\n",
              "      <td>33.0</td>\n",
              "      <td>13.0</td>\n",
              "      <td>11.0</td>\n",
              "      <td>6.0</td>\n",
              "      <td>10.0</td>\n",
              "      <td>29.0</td>\n",
              "      <td>1385.0</td>\n",
              "      <td>100.0</td>\n",
              "      <td>604.0</td>\n",
              "    </tr>\n",
              "    <tr>\n",
              "      <th>1</th>\n",
              "      <td>2017-M020</td>\n",
              "      <td>Brisbane</td>\n",
              "      <td>Hard</td>\n",
              "      <td>32</td>\n",
              "      <td>A</td>\n",
              "      <td>20170102</td>\n",
              "      <td>272</td>\n",
              "      <td>106378</td>\n",
              "      <td>NaN</td>\n",
              "      <td>NaN</td>\n",
              "      <td>...</td>\n",
              "      <td>67.0</td>\n",
              "      <td>39.0</td>\n",
              "      <td>27.0</td>\n",
              "      <td>12.0</td>\n",
              "      <td>9.0</td>\n",
              "      <td>10.0</td>\n",
              "      <td>45.0</td>\n",
              "      <td>1001.0</td>\n",
              "      <td>141.0</td>\n",
              "      <td>443.0</td>\n",
              "    </tr>\n",
              "    <tr>\n",
              "      <th>2</th>\n",
              "      <td>2017-M020</td>\n",
              "      <td>Brisbane</td>\n",
              "      <td>Hard</td>\n",
              "      <td>32</td>\n",
              "      <td>A</td>\n",
              "      <td>20170102</td>\n",
              "      <td>273</td>\n",
              "      <td>106298</td>\n",
              "      <td>6.0</td>\n",
              "      <td>NaN</td>\n",
              "      <td>...</td>\n",
              "      <td>42.0</td>\n",
              "      <td>29.0</td>\n",
              "      <td>16.0</td>\n",
              "      <td>12.0</td>\n",
              "      <td>0.0</td>\n",
              "      <td>4.0</td>\n",
              "      <td>15.0</td>\n",
              "      <td>2156.0</td>\n",
              "      <td>25.0</td>\n",
              "      <td>1585.0</td>\n",
              "    </tr>\n",
              "    <tr>\n",
              "      <th>3</th>\n",
              "      <td>2017-M020</td>\n",
              "      <td>Brisbane</td>\n",
              "      <td>Hard</td>\n",
              "      <td>32</td>\n",
              "      <td>A</td>\n",
              "      <td>20170102</td>\n",
              "      <td>275</td>\n",
              "      <td>111577</td>\n",
              "      <td>NaN</td>\n",
              "      <td>Q</td>\n",
              "      <td>...</td>\n",
              "      <td>37.0</td>\n",
              "      <td>27.0</td>\n",
              "      <td>7.0</td>\n",
              "      <td>10.0</td>\n",
              "      <td>2.0</td>\n",
              "      <td>5.0</td>\n",
              "      <td>105.0</td>\n",
              "      <td>570.0</td>\n",
              "      <td>34.0</td>\n",
              "      <td>1255.0</td>\n",
              "    </tr>\n",
              "    <tr>\n",
              "      <th>4</th>\n",
              "      <td>2017-M020</td>\n",
              "      <td>Brisbane</td>\n",
              "      <td>Hard</td>\n",
              "      <td>32</td>\n",
              "      <td>A</td>\n",
              "      <td>20170102</td>\n",
              "      <td>276</td>\n",
              "      <td>111442</td>\n",
              "      <td>NaN</td>\n",
              "      <td>WC</td>\n",
              "      <td>...</td>\n",
              "      <td>43.0</td>\n",
              "      <td>23.0</td>\n",
              "      <td>13.0</td>\n",
              "      <td>9.0</td>\n",
              "      <td>10.0</td>\n",
              "      <td>15.0</td>\n",
              "      <td>79.0</td>\n",
              "      <td>689.0</td>\n",
              "      <td>160.0</td>\n",
              "      <td>372.0</td>\n",
              "    </tr>\n",
              "  </tbody>\n",
              "</table>\n",
              "<p>5 rows × 49 columns</p>\n",
              "</div>\n",
              "      <button class=\"colab-df-convert\" onclick=\"convertToInteractive('df-2f7289b4-ea95-4247-9b01-40639416f6e5')\"\n",
              "              title=\"Convert this dataframe to an interactive table.\"\n",
              "              style=\"display:none;\">\n",
              "        \n",
              "  <svg xmlns=\"http://www.w3.org/2000/svg\" height=\"24px\"viewBox=\"0 0 24 24\"\n",
              "       width=\"24px\">\n",
              "    <path d=\"M0 0h24v24H0V0z\" fill=\"none\"/>\n",
              "    <path d=\"M18.56 5.44l.94 2.06.94-2.06 2.06-.94-2.06-.94-.94-2.06-.94 2.06-2.06.94zm-11 1L8.5 8.5l.94-2.06 2.06-.94-2.06-.94L8.5 2.5l-.94 2.06-2.06.94zm10 10l.94 2.06.94-2.06 2.06-.94-2.06-.94-.94-2.06-.94 2.06-2.06.94z\"/><path d=\"M17.41 7.96l-1.37-1.37c-.4-.4-.92-.59-1.43-.59-.52 0-1.04.2-1.43.59L10.3 9.45l-7.72 7.72c-.78.78-.78 2.05 0 2.83L4 21.41c.39.39.9.59 1.41.59.51 0 1.02-.2 1.41-.59l7.78-7.78 2.81-2.81c.8-.78.8-2.07 0-2.86zM5.41 20L4 18.59l7.72-7.72 1.47 1.35L5.41 20z\"/>\n",
              "  </svg>\n",
              "      </button>\n",
              "      \n",
              "  <style>\n",
              "    .colab-df-container {\n",
              "      display:flex;\n",
              "      flex-wrap:wrap;\n",
              "      gap: 12px;\n",
              "    }\n",
              "\n",
              "    .colab-df-convert {\n",
              "      background-color: #E8F0FE;\n",
              "      border: none;\n",
              "      border-radius: 50%;\n",
              "      cursor: pointer;\n",
              "      display: none;\n",
              "      fill: #1967D2;\n",
              "      height: 32px;\n",
              "      padding: 0 0 0 0;\n",
              "      width: 32px;\n",
              "    }\n",
              "\n",
              "    .colab-df-convert:hover {\n",
              "      background-color: #E2EBFA;\n",
              "      box-shadow: 0px 1px 2px rgba(60, 64, 67, 0.3), 0px 1px 3px 1px rgba(60, 64, 67, 0.15);\n",
              "      fill: #174EA6;\n",
              "    }\n",
              "\n",
              "    [theme=dark] .colab-df-convert {\n",
              "      background-color: #3B4455;\n",
              "      fill: #D2E3FC;\n",
              "    }\n",
              "\n",
              "    [theme=dark] .colab-df-convert:hover {\n",
              "      background-color: #434B5C;\n",
              "      box-shadow: 0px 1px 3px 1px rgba(0, 0, 0, 0.15);\n",
              "      filter: drop-shadow(0px 1px 2px rgba(0, 0, 0, 0.3));\n",
              "      fill: #FFFFFF;\n",
              "    }\n",
              "  </style>\n",
              "\n",
              "      <script>\n",
              "        const buttonEl =\n",
              "          document.querySelector('#df-2f7289b4-ea95-4247-9b01-40639416f6e5 button.colab-df-convert');\n",
              "        buttonEl.style.display =\n",
              "          google.colab.kernel.accessAllowed ? 'block' : 'none';\n",
              "\n",
              "        async function convertToInteractive(key) {\n",
              "          const element = document.querySelector('#df-2f7289b4-ea95-4247-9b01-40639416f6e5');\n",
              "          const dataTable =\n",
              "            await google.colab.kernel.invokeFunction('convertToInteractive',\n",
              "                                                     [key], {});\n",
              "          if (!dataTable) return;\n",
              "\n",
              "          const docLinkHtml = 'Like what you see? Visit the ' +\n",
              "            '<a target=\"_blank\" href=https://colab.research.google.com/notebooks/data_table.ipynb>data table notebook</a>'\n",
              "            + ' to learn more about interactive tables.';\n",
              "          element.innerHTML = '';\n",
              "          dataTable['output_type'] = 'display_data';\n",
              "          await google.colab.output.renderOutput(dataTable, element);\n",
              "          const docLink = document.createElement('div');\n",
              "          docLink.innerHTML = docLinkHtml;\n",
              "          element.appendChild(docLink);\n",
              "        }\n",
              "      </script>\n",
              "    </div>\n",
              "  </div>\n",
              "  "
            ]
          },
          "metadata": {},
          "execution_count": 5
        }
      ]
    },
    {
      "cell_type": "code",
      "source": [
        "df.columns"
      ],
      "metadata": {
        "colab": {
          "base_uri": "https://localhost:8080/"
        },
        "id": "zyJlDj8Wa2Wp",
        "outputId": "6bab2627-dc40-4976-e99b-323c71910bbb"
      },
      "execution_count": 6,
      "outputs": [
        {
          "output_type": "execute_result",
          "data": {
            "text/plain": [
              "Index(['tourney_id', 'tourney_name', 'surface', 'draw_size', 'tourney_level',\n",
              "       'tourney_date', 'match_num', 'winner_id', 'winner_seed', 'winner_entry',\n",
              "       'winner_name', 'winner_hand', 'winner_ht', 'winner_ioc', 'winner_age',\n",
              "       'loser_id', 'loser_seed', 'loser_entry', 'loser_name', 'loser_hand',\n",
              "       'loser_ht', 'loser_ioc', 'loser_age', 'score', 'best_of', 'round',\n",
              "       'minutes', 'w_ace', 'w_df', 'w_svpt', 'w_1stIn', 'w_1stWon', 'w_2ndWon',\n",
              "       'w_SvGms', 'w_bpSaved', 'w_bpFaced', 'l_ace', 'l_df', 'l_svpt',\n",
              "       'l_1stIn', 'l_1stWon', 'l_2ndWon', 'l_SvGms', 'l_bpSaved', 'l_bpFaced',\n",
              "       'winner_rank', 'winner_rank_points', 'loser_rank', 'loser_rank_points'],\n",
              "      dtype='object')"
            ]
          },
          "metadata": {},
          "execution_count": 6
        }
      ]
    },
    {
      "cell_type": "code",
      "source": [
        "# создадим колонку year в удобном формате\n",
        "df.tourney_date.apply(lambda x: '%.0f' % round(x,0))\n",
        "df.loc[:, 'tourney_date'] = pd.to_datetime(df['tourney_date'], format='%Y%m%d')\n",
        "df['year'] = df['tourney_date'].dt.year"
      ],
      "metadata": {
        "id": "fe4WWJ70bLv5"
      },
      "execution_count": 7,
      "outputs": []
    },
    {
      "cell_type": "markdown",
      "source": [
        "### Задача 2\n",
        "Правда ли, что среднее количество сетов, которое необходимо любому игроку для победы в матче, сокращается со временем? Разбейте данные на две группы — с 1980 до 2001 гг. и 2002-2022 гг. Как изменилось среднее количество сетов, которое победитель затратил на игру? Является ли разница средних этих двух выборок статистически значимой? Выбор статистического теста обоснуйте."
      ],
      "metadata": {
        "id": "qB_MGPJNaBUj"
      }
    },
    {
      "cell_type": "code",
      "source": [
        "df['score'] = df['score'].fillna('')"
      ],
      "metadata": {
        "id": "s_575Vs2lRNu"
      },
      "execution_count": 8,
      "outputs": []
    },
    {
      "cell_type": "code",
      "source": [
        "df['sets_num'] = df['score'].map(lambda x: len(x.split(' ')))"
      ],
      "metadata": {
        "id": "rlRo4VUsbxvg"
      },
      "execution_count": 9,
      "outputs": []
    },
    {
      "cell_type": "code",
      "source": [
        "# посчитаем количство сетов в среднем сыгранных в матчах в каждом году и поделим на 2 выборки по годам\n",
        "averageNoSets = df[['sets_num']].groupby(df.year).mean().reset_index()"
      ],
      "metadata": {
        "id": "DzgzfJO_eisb"
      },
      "execution_count": 10,
      "outputs": []
    },
    {
      "cell_type": "code",
      "source": [
        "averageNoSets_1979 = averageNoSets[averageNoSets['year'] < 2002]\n",
        "averageNoSets_1979"
      ],
      "metadata": {
        "id": "OzKvg04llzMx",
        "colab": {
          "base_uri": "https://localhost:8080/",
          "height": 771
        },
        "outputId": "32941a46-70fd-46e1-cdd7-5923b591dec9"
      },
      "execution_count": 11,
      "outputs": [
        {
          "output_type": "execute_result",
          "data": {
            "text/plain": [
              "    year  sets_num\n",
              "0   1979  2.354839\n",
              "1   1980  2.508949\n",
              "2   1981  2.539130\n",
              "3   1982  2.555965\n",
              "4   1983  2.600459\n",
              "5   1984  2.596059\n",
              "6   1985  2.604191\n",
              "7   1986  2.589985\n",
              "8   1987  2.653341\n",
              "9   1988  2.661673\n",
              "10  1989  2.667318\n",
              "11  1990  2.620625\n",
              "12  1991  2.639388\n",
              "13  1992  2.646649\n",
              "14  1993  2.609254\n",
              "15  1994  2.614271\n",
              "16  1995  2.606316\n",
              "17  1996  2.592284\n",
              "18  1997  2.645886\n",
              "19  1998  2.638541\n",
              "20  1999  2.670366\n",
              "21  2000  2.654529\n",
              "22  2001  2.653824"
            ],
            "text/html": [
              "\n",
              "  <div id=\"df-2ed03d55-6bef-41a1-8e4e-d854e372b12c\">\n",
              "    <div class=\"colab-df-container\">\n",
              "      <div>\n",
              "<style scoped>\n",
              "    .dataframe tbody tr th:only-of-type {\n",
              "        vertical-align: middle;\n",
              "    }\n",
              "\n",
              "    .dataframe tbody tr th {\n",
              "        vertical-align: top;\n",
              "    }\n",
              "\n",
              "    .dataframe thead th {\n",
              "        text-align: right;\n",
              "    }\n",
              "</style>\n",
              "<table border=\"1\" class=\"dataframe\">\n",
              "  <thead>\n",
              "    <tr style=\"text-align: right;\">\n",
              "      <th></th>\n",
              "      <th>year</th>\n",
              "      <th>sets_num</th>\n",
              "    </tr>\n",
              "  </thead>\n",
              "  <tbody>\n",
              "    <tr>\n",
              "      <th>0</th>\n",
              "      <td>1979</td>\n",
              "      <td>2.354839</td>\n",
              "    </tr>\n",
              "    <tr>\n",
              "      <th>1</th>\n",
              "      <td>1980</td>\n",
              "      <td>2.508949</td>\n",
              "    </tr>\n",
              "    <tr>\n",
              "      <th>2</th>\n",
              "      <td>1981</td>\n",
              "      <td>2.539130</td>\n",
              "    </tr>\n",
              "    <tr>\n",
              "      <th>3</th>\n",
              "      <td>1982</td>\n",
              "      <td>2.555965</td>\n",
              "    </tr>\n",
              "    <tr>\n",
              "      <th>4</th>\n",
              "      <td>1983</td>\n",
              "      <td>2.600459</td>\n",
              "    </tr>\n",
              "    <tr>\n",
              "      <th>5</th>\n",
              "      <td>1984</td>\n",
              "      <td>2.596059</td>\n",
              "    </tr>\n",
              "    <tr>\n",
              "      <th>6</th>\n",
              "      <td>1985</td>\n",
              "      <td>2.604191</td>\n",
              "    </tr>\n",
              "    <tr>\n",
              "      <th>7</th>\n",
              "      <td>1986</td>\n",
              "      <td>2.589985</td>\n",
              "    </tr>\n",
              "    <tr>\n",
              "      <th>8</th>\n",
              "      <td>1987</td>\n",
              "      <td>2.653341</td>\n",
              "    </tr>\n",
              "    <tr>\n",
              "      <th>9</th>\n",
              "      <td>1988</td>\n",
              "      <td>2.661673</td>\n",
              "    </tr>\n",
              "    <tr>\n",
              "      <th>10</th>\n",
              "      <td>1989</td>\n",
              "      <td>2.667318</td>\n",
              "    </tr>\n",
              "    <tr>\n",
              "      <th>11</th>\n",
              "      <td>1990</td>\n",
              "      <td>2.620625</td>\n",
              "    </tr>\n",
              "    <tr>\n",
              "      <th>12</th>\n",
              "      <td>1991</td>\n",
              "      <td>2.639388</td>\n",
              "    </tr>\n",
              "    <tr>\n",
              "      <th>13</th>\n",
              "      <td>1992</td>\n",
              "      <td>2.646649</td>\n",
              "    </tr>\n",
              "    <tr>\n",
              "      <th>14</th>\n",
              "      <td>1993</td>\n",
              "      <td>2.609254</td>\n",
              "    </tr>\n",
              "    <tr>\n",
              "      <th>15</th>\n",
              "      <td>1994</td>\n",
              "      <td>2.614271</td>\n",
              "    </tr>\n",
              "    <tr>\n",
              "      <th>16</th>\n",
              "      <td>1995</td>\n",
              "      <td>2.606316</td>\n",
              "    </tr>\n",
              "    <tr>\n",
              "      <th>17</th>\n",
              "      <td>1996</td>\n",
              "      <td>2.592284</td>\n",
              "    </tr>\n",
              "    <tr>\n",
              "      <th>18</th>\n",
              "      <td>1997</td>\n",
              "      <td>2.645886</td>\n",
              "    </tr>\n",
              "    <tr>\n",
              "      <th>19</th>\n",
              "      <td>1998</td>\n",
              "      <td>2.638541</td>\n",
              "    </tr>\n",
              "    <tr>\n",
              "      <th>20</th>\n",
              "      <td>1999</td>\n",
              "      <td>2.670366</td>\n",
              "    </tr>\n",
              "    <tr>\n",
              "      <th>21</th>\n",
              "      <td>2000</td>\n",
              "      <td>2.654529</td>\n",
              "    </tr>\n",
              "    <tr>\n",
              "      <th>22</th>\n",
              "      <td>2001</td>\n",
              "      <td>2.653824</td>\n",
              "    </tr>\n",
              "  </tbody>\n",
              "</table>\n",
              "</div>\n",
              "      <button class=\"colab-df-convert\" onclick=\"convertToInteractive('df-2ed03d55-6bef-41a1-8e4e-d854e372b12c')\"\n",
              "              title=\"Convert this dataframe to an interactive table.\"\n",
              "              style=\"display:none;\">\n",
              "        \n",
              "  <svg xmlns=\"http://www.w3.org/2000/svg\" height=\"24px\"viewBox=\"0 0 24 24\"\n",
              "       width=\"24px\">\n",
              "    <path d=\"M0 0h24v24H0V0z\" fill=\"none\"/>\n",
              "    <path d=\"M18.56 5.44l.94 2.06.94-2.06 2.06-.94-2.06-.94-.94-2.06-.94 2.06-2.06.94zm-11 1L8.5 8.5l.94-2.06 2.06-.94-2.06-.94L8.5 2.5l-.94 2.06-2.06.94zm10 10l.94 2.06.94-2.06 2.06-.94-2.06-.94-.94-2.06-.94 2.06-2.06.94z\"/><path d=\"M17.41 7.96l-1.37-1.37c-.4-.4-.92-.59-1.43-.59-.52 0-1.04.2-1.43.59L10.3 9.45l-7.72 7.72c-.78.78-.78 2.05 0 2.83L4 21.41c.39.39.9.59 1.41.59.51 0 1.02-.2 1.41-.59l7.78-7.78 2.81-2.81c.8-.78.8-2.07 0-2.86zM5.41 20L4 18.59l7.72-7.72 1.47 1.35L5.41 20z\"/>\n",
              "  </svg>\n",
              "      </button>\n",
              "      \n",
              "  <style>\n",
              "    .colab-df-container {\n",
              "      display:flex;\n",
              "      flex-wrap:wrap;\n",
              "      gap: 12px;\n",
              "    }\n",
              "\n",
              "    .colab-df-convert {\n",
              "      background-color: #E8F0FE;\n",
              "      border: none;\n",
              "      border-radius: 50%;\n",
              "      cursor: pointer;\n",
              "      display: none;\n",
              "      fill: #1967D2;\n",
              "      height: 32px;\n",
              "      padding: 0 0 0 0;\n",
              "      width: 32px;\n",
              "    }\n",
              "\n",
              "    .colab-df-convert:hover {\n",
              "      background-color: #E2EBFA;\n",
              "      box-shadow: 0px 1px 2px rgba(60, 64, 67, 0.3), 0px 1px 3px 1px rgba(60, 64, 67, 0.15);\n",
              "      fill: #174EA6;\n",
              "    }\n",
              "\n",
              "    [theme=dark] .colab-df-convert {\n",
              "      background-color: #3B4455;\n",
              "      fill: #D2E3FC;\n",
              "    }\n",
              "\n",
              "    [theme=dark] .colab-df-convert:hover {\n",
              "      background-color: #434B5C;\n",
              "      box-shadow: 0px 1px 3px 1px rgba(0, 0, 0, 0.15);\n",
              "      filter: drop-shadow(0px 1px 2px rgba(0, 0, 0, 0.3));\n",
              "      fill: #FFFFFF;\n",
              "    }\n",
              "  </style>\n",
              "\n",
              "      <script>\n",
              "        const buttonEl =\n",
              "          document.querySelector('#df-2ed03d55-6bef-41a1-8e4e-d854e372b12c button.colab-df-convert');\n",
              "        buttonEl.style.display =\n",
              "          google.colab.kernel.accessAllowed ? 'block' : 'none';\n",
              "\n",
              "        async function convertToInteractive(key) {\n",
              "          const element = document.querySelector('#df-2ed03d55-6bef-41a1-8e4e-d854e372b12c');\n",
              "          const dataTable =\n",
              "            await google.colab.kernel.invokeFunction('convertToInteractive',\n",
              "                                                     [key], {});\n",
              "          if (!dataTable) return;\n",
              "\n",
              "          const docLinkHtml = 'Like what you see? Visit the ' +\n",
              "            '<a target=\"_blank\" href=https://colab.research.google.com/notebooks/data_table.ipynb>data table notebook</a>'\n",
              "            + ' to learn more about interactive tables.';\n",
              "          element.innerHTML = '';\n",
              "          dataTable['output_type'] = 'display_data';\n",
              "          await google.colab.output.renderOutput(dataTable, element);\n",
              "          const docLink = document.createElement('div');\n",
              "          docLink.innerHTML = docLinkHtml;\n",
              "          element.appendChild(docLink);\n",
              "        }\n",
              "      </script>\n",
              "    </div>\n",
              "  </div>\n",
              "  "
            ]
          },
          "metadata": {},
          "execution_count": 11
        }
      ]
    },
    {
      "cell_type": "code",
      "source": [
        "averageNoSets_2002 = averageNoSets[averageNoSets['year'] > 2001]\n",
        "averageNoSets_2002"
      ],
      "metadata": {
        "colab": {
          "base_uri": "https://localhost:8080/",
          "height": 708
        },
        "id": "J8gB-ez1bWsc",
        "outputId": "0bc814c6-b87c-44fd-946d-a0fbe8bf976f"
      },
      "execution_count": 12,
      "outputs": [
        {
          "output_type": "execute_result",
          "data": {
            "text/plain": [
              "    year  sets_num\n",
              "23  2002  2.679739\n",
              "24  2003  2.673600\n",
              "25  2004  2.639903\n",
              "26  2005  2.644608\n",
              "27  2006  2.666973\n",
              "28  2007  2.607610\n",
              "29  2008  2.664686\n",
              "30  2009  2.663209\n",
              "31  2010  2.659406\n",
              "32  2011  2.654726\n",
              "33  2012  2.648998\n",
              "34  2013  2.686481\n",
              "35  2014  2.697798\n",
              "36  2015  2.706082\n",
              "37  2016  2.696702\n",
              "38  2017  2.696324\n",
              "39  2018  2.646881\n",
              "40  2019  2.623300\n",
              "41  2020  2.709986\n",
              "42  2021  2.622759\n",
              "43  2022  2.613855"
            ],
            "text/html": [
              "\n",
              "  <div id=\"df-4eb3db59-b161-4a76-8e34-74982c55da7e\">\n",
              "    <div class=\"colab-df-container\">\n",
              "      <div>\n",
              "<style scoped>\n",
              "    .dataframe tbody tr th:only-of-type {\n",
              "        vertical-align: middle;\n",
              "    }\n",
              "\n",
              "    .dataframe tbody tr th {\n",
              "        vertical-align: top;\n",
              "    }\n",
              "\n",
              "    .dataframe thead th {\n",
              "        text-align: right;\n",
              "    }\n",
              "</style>\n",
              "<table border=\"1\" class=\"dataframe\">\n",
              "  <thead>\n",
              "    <tr style=\"text-align: right;\">\n",
              "      <th></th>\n",
              "      <th>year</th>\n",
              "      <th>sets_num</th>\n",
              "    </tr>\n",
              "  </thead>\n",
              "  <tbody>\n",
              "    <tr>\n",
              "      <th>23</th>\n",
              "      <td>2002</td>\n",
              "      <td>2.679739</td>\n",
              "    </tr>\n",
              "    <tr>\n",
              "      <th>24</th>\n",
              "      <td>2003</td>\n",
              "      <td>2.673600</td>\n",
              "    </tr>\n",
              "    <tr>\n",
              "      <th>25</th>\n",
              "      <td>2004</td>\n",
              "      <td>2.639903</td>\n",
              "    </tr>\n",
              "    <tr>\n",
              "      <th>26</th>\n",
              "      <td>2005</td>\n",
              "      <td>2.644608</td>\n",
              "    </tr>\n",
              "    <tr>\n",
              "      <th>27</th>\n",
              "      <td>2006</td>\n",
              "      <td>2.666973</td>\n",
              "    </tr>\n",
              "    <tr>\n",
              "      <th>28</th>\n",
              "      <td>2007</td>\n",
              "      <td>2.607610</td>\n",
              "    </tr>\n",
              "    <tr>\n",
              "      <th>29</th>\n",
              "      <td>2008</td>\n",
              "      <td>2.664686</td>\n",
              "    </tr>\n",
              "    <tr>\n",
              "      <th>30</th>\n",
              "      <td>2009</td>\n",
              "      <td>2.663209</td>\n",
              "    </tr>\n",
              "    <tr>\n",
              "      <th>31</th>\n",
              "      <td>2010</td>\n",
              "      <td>2.659406</td>\n",
              "    </tr>\n",
              "    <tr>\n",
              "      <th>32</th>\n",
              "      <td>2011</td>\n",
              "      <td>2.654726</td>\n",
              "    </tr>\n",
              "    <tr>\n",
              "      <th>33</th>\n",
              "      <td>2012</td>\n",
              "      <td>2.648998</td>\n",
              "    </tr>\n",
              "    <tr>\n",
              "      <th>34</th>\n",
              "      <td>2013</td>\n",
              "      <td>2.686481</td>\n",
              "    </tr>\n",
              "    <tr>\n",
              "      <th>35</th>\n",
              "      <td>2014</td>\n",
              "      <td>2.697798</td>\n",
              "    </tr>\n",
              "    <tr>\n",
              "      <th>36</th>\n",
              "      <td>2015</td>\n",
              "      <td>2.706082</td>\n",
              "    </tr>\n",
              "    <tr>\n",
              "      <th>37</th>\n",
              "      <td>2016</td>\n",
              "      <td>2.696702</td>\n",
              "    </tr>\n",
              "    <tr>\n",
              "      <th>38</th>\n",
              "      <td>2017</td>\n",
              "      <td>2.696324</td>\n",
              "    </tr>\n",
              "    <tr>\n",
              "      <th>39</th>\n",
              "      <td>2018</td>\n",
              "      <td>2.646881</td>\n",
              "    </tr>\n",
              "    <tr>\n",
              "      <th>40</th>\n",
              "      <td>2019</td>\n",
              "      <td>2.623300</td>\n",
              "    </tr>\n",
              "    <tr>\n",
              "      <th>41</th>\n",
              "      <td>2020</td>\n",
              "      <td>2.709986</td>\n",
              "    </tr>\n",
              "    <tr>\n",
              "      <th>42</th>\n",
              "      <td>2021</td>\n",
              "      <td>2.622759</td>\n",
              "    </tr>\n",
              "    <tr>\n",
              "      <th>43</th>\n",
              "      <td>2022</td>\n",
              "      <td>2.613855</td>\n",
              "    </tr>\n",
              "  </tbody>\n",
              "</table>\n",
              "</div>\n",
              "      <button class=\"colab-df-convert\" onclick=\"convertToInteractive('df-4eb3db59-b161-4a76-8e34-74982c55da7e')\"\n",
              "              title=\"Convert this dataframe to an interactive table.\"\n",
              "              style=\"display:none;\">\n",
              "        \n",
              "  <svg xmlns=\"http://www.w3.org/2000/svg\" height=\"24px\"viewBox=\"0 0 24 24\"\n",
              "       width=\"24px\">\n",
              "    <path d=\"M0 0h24v24H0V0z\" fill=\"none\"/>\n",
              "    <path d=\"M18.56 5.44l.94 2.06.94-2.06 2.06-.94-2.06-.94-.94-2.06-.94 2.06-2.06.94zm-11 1L8.5 8.5l.94-2.06 2.06-.94-2.06-.94L8.5 2.5l-.94 2.06-2.06.94zm10 10l.94 2.06.94-2.06 2.06-.94-2.06-.94-.94-2.06-.94 2.06-2.06.94z\"/><path d=\"M17.41 7.96l-1.37-1.37c-.4-.4-.92-.59-1.43-.59-.52 0-1.04.2-1.43.59L10.3 9.45l-7.72 7.72c-.78.78-.78 2.05 0 2.83L4 21.41c.39.39.9.59 1.41.59.51 0 1.02-.2 1.41-.59l7.78-7.78 2.81-2.81c.8-.78.8-2.07 0-2.86zM5.41 20L4 18.59l7.72-7.72 1.47 1.35L5.41 20z\"/>\n",
              "  </svg>\n",
              "      </button>\n",
              "      \n",
              "  <style>\n",
              "    .colab-df-container {\n",
              "      display:flex;\n",
              "      flex-wrap:wrap;\n",
              "      gap: 12px;\n",
              "    }\n",
              "\n",
              "    .colab-df-convert {\n",
              "      background-color: #E8F0FE;\n",
              "      border: none;\n",
              "      border-radius: 50%;\n",
              "      cursor: pointer;\n",
              "      display: none;\n",
              "      fill: #1967D2;\n",
              "      height: 32px;\n",
              "      padding: 0 0 0 0;\n",
              "      width: 32px;\n",
              "    }\n",
              "\n",
              "    .colab-df-convert:hover {\n",
              "      background-color: #E2EBFA;\n",
              "      box-shadow: 0px 1px 2px rgba(60, 64, 67, 0.3), 0px 1px 3px 1px rgba(60, 64, 67, 0.15);\n",
              "      fill: #174EA6;\n",
              "    }\n",
              "\n",
              "    [theme=dark] .colab-df-convert {\n",
              "      background-color: #3B4455;\n",
              "      fill: #D2E3FC;\n",
              "    }\n",
              "\n",
              "    [theme=dark] .colab-df-convert:hover {\n",
              "      background-color: #434B5C;\n",
              "      box-shadow: 0px 1px 3px 1px rgba(0, 0, 0, 0.15);\n",
              "      filter: drop-shadow(0px 1px 2px rgba(0, 0, 0, 0.3));\n",
              "      fill: #FFFFFF;\n",
              "    }\n",
              "  </style>\n",
              "\n",
              "      <script>\n",
              "        const buttonEl =\n",
              "          document.querySelector('#df-4eb3db59-b161-4a76-8e34-74982c55da7e button.colab-df-convert');\n",
              "        buttonEl.style.display =\n",
              "          google.colab.kernel.accessAllowed ? 'block' : 'none';\n",
              "\n",
              "        async function convertToInteractive(key) {\n",
              "          const element = document.querySelector('#df-4eb3db59-b161-4a76-8e34-74982c55da7e');\n",
              "          const dataTable =\n",
              "            await google.colab.kernel.invokeFunction('convertToInteractive',\n",
              "                                                     [key], {});\n",
              "          if (!dataTable) return;\n",
              "\n",
              "          const docLinkHtml = 'Like what you see? Visit the ' +\n",
              "            '<a target=\"_blank\" href=https://colab.research.google.com/notebooks/data_table.ipynb>data table notebook</a>'\n",
              "            + ' to learn more about interactive tables.';\n",
              "          element.innerHTML = '';\n",
              "          dataTable['output_type'] = 'display_data';\n",
              "          await google.colab.output.renderOutput(dataTable, element);\n",
              "          const docLink = document.createElement('div');\n",
              "          docLink.innerHTML = docLinkHtml;\n",
              "          element.appendChild(docLink);\n",
              "        }\n",
              "      </script>\n",
              "    </div>\n",
              "  </div>\n",
              "  "
            ]
          },
          "metadata": {},
          "execution_count": 12
        }
      ]
    },
    {
      "cell_type": "code",
      "source": [
        "# проверим нормальность распределения в выборках\n",
        "H0 = 'Данные распределены нормально'\n",
        "Ha = 'Данные не распределены нормально (мы отвергаем H0)'"
      ],
      "metadata": {
        "id": "CI1yiJ_0chD0"
      },
      "execution_count": 13,
      "outputs": []
    },
    {
      "cell_type": "code",
      "source": [
        "# Установим уровень значимости\n",
        "alpha = 0.05"
      ],
      "metadata": {
        "id": "HT0Zvaaecwvm"
      },
      "execution_count": 14,
      "outputs": []
    },
    {
      "cell_type": "code",
      "source": [
        "from scipy.stats import shapiro"
      ],
      "metadata": {
        "id": "lh0usxJLc1oe"
      },
      "execution_count": 15,
      "outputs": []
    },
    {
      "cell_type": "code",
      "source": [
        "# Тест Шапиро-Уилка на нормальность распределения\n",
        "_, p = shapiro(averageNoSets_1979['sets_num'])\n",
        "print('p=%.3f' % p)\n",
        "\n",
        "# Интерпретация \n",
        "\n",
        "if p > alpha:\n",
        "\tprint(H0)\n",
        "else:\n",
        "\tprint(Ha)"
      ],
      "metadata": {
        "colab": {
          "base_uri": "https://localhost:8080/"
        },
        "id": "h33pufdrc4A6",
        "outputId": "c23ceb77-b3be-484c-9290-50399b703c80"
      },
      "execution_count": 16,
      "outputs": [
        {
          "output_type": "stream",
          "name": "stdout",
          "text": [
            "p=0.000\n",
            "Данные не распределены нормально (мы отвергаем H0)\n"
          ]
        }
      ]
    },
    {
      "cell_type": "code",
      "source": [
        "_, p = shapiro(averageNoSets_2002['sets_num'])\n",
        "print('p=%.3f' % p)\n",
        "\n",
        "# Интерпретация \n",
        "\n",
        "if p > alpha:\n",
        "\tprint(H0)\n",
        "else:\n",
        "\tprint(Ha)"
      ],
      "metadata": {
        "colab": {
          "base_uri": "https://localhost:8080/"
        },
        "id": "FKrkfEeoc9K4",
        "outputId": "41e68913-d707-42df-846f-101e5d6349d5"
      },
      "execution_count": 17,
      "outputs": [
        {
          "output_type": "stream",
          "name": "stdout",
          "text": [
            "p=0.595\n",
            "Данные распределены нормально\n"
          ]
        }
      ]
    },
    {
      "cell_type": "code",
      "source": [
        "sns.displot(averageNoSets_2002['sets_num']);\n",
        "#визуально нормальное распределение выборки не подтверждается"
      ],
      "metadata": {
        "colab": {
          "base_uri": "https://localhost:8080/",
          "height": 369
        },
        "id": "tlJqCuPVdFjn",
        "outputId": "acabcb93-5b0c-491a-8216-938e203dbb63"
      },
      "execution_count": 18,
      "outputs": [
        {
          "output_type": "display_data",
          "data": {
            "text/plain": [
              "<Figure size 360x360 with 1 Axes>"
            ],
            "image/png": "[encoded data removed]"
          },
          "metadata": {
            "needs_background": "light"
          }
        }
      ]
    },
    {
      "cell_type": "code",
      "source": [
        "sns.displot(averageNoSets_1979['sets_num']);"
      ],
      "metadata": {
        "colab": {
          "base_uri": "https://localhost:8080/",
          "height": 369
        },
        "id": "tgGCc3-wdO88",
        "outputId": "f866a68c-2a08-4518-9f70-896714ccef46"
      },
      "execution_count": 19,
      "outputs": [
        {
          "output_type": "display_data",
          "data": {
            "text/plain": [
              "<Figure size 360x360 with 1 Axes>"
            ],
            "image/png": "[encoded data removed]"
          },
          "metadata": {
            "needs_background": "light"
          }
        }
      ]
    },
    {
      "cell_type": "code",
      "source": [
        "H0 = 'Нет значимой разницы между количеством сетов, которое победитель затратил на игру'\n",
        "Ha = 'Есть значимая разница между между количеством сетов, которое победитель затратил на игру'"
      ],
      "metadata": {
        "id": "dxPq5RXygA14"
      },
      "execution_count": 20,
      "outputs": []
    },
    {
      "cell_type": "markdown",
      "source": [
        "Выборки - независимые, не распределены нормально, выбираем непараметрический тест Манна-Уитни. \n",
        "\n",
        "Ссылка на документацию https://docs.scipy.org/doc/scipy/reference/generated/scipy.stats.mannwhitneyu.html?highlight=mann#scipy.stats.mannwhitneyu "
      ],
      "metadata": {
        "id": "KboZN8WUxJEt"
      }
    },
    {
      "cell_type": "code",
      "source": [
        "_, p = stats.mannwhitneyu(averageNoSets_2002['sets_num'], averageNoSets_1979['sets_num'], alternative='greater')"
      ],
      "metadata": {
        "id": "HBUHu-SBeCtP"
      },
      "execution_count": 21,
      "outputs": []
    },
    {
      "cell_type": "code",
      "source": [
        "if p > alpha:\n",
        "  print(f\"{round(p, 4)} > {alpha}. Мы не можем отвергнуть нулевую гипотезу. {H0}\")\n",
        "else:\n",
        "  print(f\"{round(p, 4)} <= {alpha}. Мы отвергаем нулевую гипотезу. {Ha}\")"
      ],
      "metadata": {
        "colab": {
          "base_uri": "https://localhost:8080/"
        },
        "id": "iMm9ZdkMgSLK",
        "outputId": "6379e944-1209-4c6f-c718-7fec7e4c83a7"
      },
      "execution_count": 22,
      "outputs": [
        {
          "output_type": "stream",
          "name": "stdout",
          "text": [
            "0.0001 <= 0.05. Мы отвергаем нулевую гипотезу. Есть значимая разница между между количеством сетов, которое победитель затратил на игру\n"
          ]
        }
      ]
    },
    {
      "cell_type": "markdown",
      "source": [
        "### Задача 3\n",
        "У вас появились сомнения — не является ли результат, который вы посчитали на предыдущем шаге, некорректным. Кажется, что на это мог повлиять формат самого матча — best of 3 или best of 5. Оставьте только матчи best of 5 (колонка best_of) и определите — является ли разница среднего количества сетов, которое сыграл победитель, значимой для выборок матчей по 1980 до 2001 гг. и 2002-2022 гг. Выбор статистического теста обоснуйте."
      ],
      "metadata": {
        "id": "CnSyxUcqxw1-"
      }
    },
    {
      "cell_type": "code",
      "source": [
        "# отфильтруем матчи, в которых предполагалось 5 сетов\n",
        "data = df[df['best_of'] == 5].copy()"
      ],
      "metadata": {
        "id": "P3eohDxHyb0H"
      },
      "execution_count": 23,
      "outputs": []
    },
    {
      "cell_type": "code",
      "source": [
        "# посчитаем количство сетов в среднем сыгранных в матчах в каждом году в новом датасете и поделим на 2 выборки по годам\n",
        "averageNoSets_corr = data[['sets_num']].groupby(data.year).mean().reset_index()"
      ],
      "metadata": {
        "id": "MoaZ_gYsx884"
      },
      "execution_count": 24,
      "outputs": []
    },
    {
      "cell_type": "code",
      "source": [
        "averageNoSets_1979_corr = averageNoSets_corr[averageNoSets_corr['year'] < 2002]\n",
        "averageNoSets_1979_corr"
      ],
      "metadata": {
        "colab": {
          "base_uri": "https://localhost:8080/",
          "height": 739
        },
        "id": "rlpvgvodyUh4",
        "outputId": "c8d60f4e-8f77-4630-df15-83e3e244546a"
      },
      "execution_count": 25,
      "outputs": [
        {
          "output_type": "execute_result",
          "data": {
            "text/plain": [
              "    year  sets_num\n",
              "0   1980  3.704947\n",
              "1   1981  3.645062\n",
              "2   1982  3.668091\n",
              "3   1983  3.711738\n",
              "4   1984  3.645455\n",
              "5   1985  3.694567\n",
              "6   1986  3.688013\n",
              "7   1987  3.701564\n",
              "8   1988  3.646995\n",
              "9   1989  3.683353\n",
              "10  1990  3.670241\n",
              "11  1991  3.715608\n",
              "12  1992  3.725316\n",
              "13  1993  3.712925\n",
              "14  1994  3.705882\n",
              "15  1995  3.652288\n",
              "16  1996  3.656376\n",
              "17  1997  3.695251\n",
              "18  1998  3.716378\n",
              "19  1999  3.768421\n",
              "20  2000  3.677249\n",
              "21  2001  3.730515"
            ],
            "text/html": [
              "\n",
              "  <div id=\"df-b84b45d2-f799-4bc9-ba26-0a3c830c77bb\">\n",
              "    <div class=\"colab-df-container\">\n",
              "      <div>\n",
              "<style scoped>\n",
              "    .dataframe tbody tr th:only-of-type {\n",
              "        vertical-align: middle;\n",
              "    }\n",
              "\n",
              "    .dataframe tbody tr th {\n",
              "        vertical-align: top;\n",
              "    }\n",
              "\n",
              "    .dataframe thead th {\n",
              "        text-align: right;\n",
              "    }\n",
              "</style>\n",
              "<table border=\"1\" class=\"dataframe\">\n",
              "  <thead>\n",
              "    <tr style=\"text-align: right;\">\n",
              "      <th></th>\n",
              "      <th>year</th>\n",
              "      <th>sets_num</th>\n",
              "    </tr>\n",
              "  </thead>\n",
              "  <tbody>\n",
              "    <tr>\n",
              "      <th>0</th>\n",
              "      <td>1980</td>\n",
              "      <td>3.704947</td>\n",
              "    </tr>\n",
              "    <tr>\n",
              "      <th>1</th>\n",
              "      <td>1981</td>\n",
              "      <td>3.645062</td>\n",
              "    </tr>\n",
              "    <tr>\n",
              "      <th>2</th>\n",
              "      <td>1982</td>\n",
              "      <td>3.668091</td>\n",
              "    </tr>\n",
              "    <tr>\n",
              "      <th>3</th>\n",
              "      <td>1983</td>\n",
              "      <td>3.711738</td>\n",
              "    </tr>\n",
              "    <tr>\n",
              "      <th>4</th>\n",
              "      <td>1984</td>\n",
              "      <td>3.645455</td>\n",
              "    </tr>\n",
              "    <tr>\n",
              "      <th>5</th>\n",
              "      <td>1985</td>\n",
              "      <td>3.694567</td>\n",
              "    </tr>\n",
              "    <tr>\n",
              "      <th>6</th>\n",
              "      <td>1986</td>\n",
              "      <td>3.688013</td>\n",
              "    </tr>\n",
              "    <tr>\n",
              "      <th>7</th>\n",
              "      <td>1987</td>\n",
              "      <td>3.701564</td>\n",
              "    </tr>\n",
              "    <tr>\n",
              "      <th>8</th>\n",
              "      <td>1988</td>\n",
              "      <td>3.646995</td>\n",
              "    </tr>\n",
              "    <tr>\n",
              "      <th>9</th>\n",
              "      <td>1989</td>\n",
              "      <td>3.683353</td>\n",
              "    </tr>\n",
              "    <tr>\n",
              "      <th>10</th>\n",
              "      <td>1990</td>\n",
              "      <td>3.670241</td>\n",
              "    </tr>\n",
              "    <tr>\n",
              "      <th>11</th>\n",
              "      <td>1991</td>\n",
              "      <td>3.715608</td>\n",
              "    </tr>\n",
              "    <tr>\n",
              "      <th>12</th>\n",
              "      <td>1992</td>\n",
              "      <td>3.725316</td>\n",
              "    </tr>\n",
              "    <tr>\n",
              "      <th>13</th>\n",
              "      <td>1993</td>\n",
              "      <td>3.712925</td>\n",
              "    </tr>\n",
              "    <tr>\n",
              "      <th>14</th>\n",
              "      <td>1994</td>\n",
              "      <td>3.705882</td>\n",
              "    </tr>\n",
              "    <tr>\n",
              "      <th>15</th>\n",
              "      <td>1995</td>\n",
              "      <td>3.652288</td>\n",
              "    </tr>\n",
              "    <tr>\n",
              "      <th>16</th>\n",
              "      <td>1996</td>\n",
              "      <td>3.656376</td>\n",
              "    </tr>\n",
              "    <tr>\n",
              "      <th>17</th>\n",
              "      <td>1997</td>\n",
              "      <td>3.695251</td>\n",
              "    </tr>\n",
              "    <tr>\n",
              "      <th>18</th>\n",
              "      <td>1998</td>\n",
              "      <td>3.716378</td>\n",
              "    </tr>\n",
              "    <tr>\n",
              "      <th>19</th>\n",
              "      <td>1999</td>\n",
              "      <td>3.768421</td>\n",
              "    </tr>\n",
              "    <tr>\n",
              "      <th>20</th>\n",
              "      <td>2000</td>\n",
              "      <td>3.677249</td>\n",
              "    </tr>\n",
              "    <tr>\n",
              "      <th>21</th>\n",
              "      <td>2001</td>\n",
              "      <td>3.730515</td>\n",
              "    </tr>\n",
              "  </tbody>\n",
              "</table>\n",
              "</div>\n",
              "      <button class=\"colab-df-convert\" onclick=\"convertToInteractive('df-b84b45d2-f799-4bc9-ba26-0a3c830c77bb')\"\n",
              "              title=\"Convert this dataframe to an interactive table.\"\n",
              "              style=\"display:none;\">\n",
              "        \n",
              "  <svg xmlns=\"http://www.w3.org/2000/svg\" height=\"24px\"viewBox=\"0 0 24 24\"\n",
              "       width=\"24px\">\n",
              "    <path d=\"M0 0h24v24H0V0z\" fill=\"none\"/>\n",
              "    <path d=\"M18.56 5.44l.94 2.06.94-2.06 2.06-.94-2.06-.94-.94-2.06-.94 2.06-2.06.94zm-11 1L8.5 8.5l.94-2.06 2.06-.94-2.06-.94L8.5 2.5l-.94 2.06-2.06.94zm10 10l.94 2.06.94-2.06 2.06-.94-2.06-.94-.94-2.06-.94 2.06-2.06.94z\"/><path d=\"M17.41 7.96l-1.37-1.37c-.4-.4-.92-.59-1.43-.59-.52 0-1.04.2-1.43.59L10.3 9.45l-7.72 7.72c-.78.78-.78 2.05 0 2.83L4 21.41c.39.39.9.59 1.41.59.51 0 1.02-.2 1.41-.59l7.78-7.78 2.81-2.81c.8-.78.8-2.07 0-2.86zM5.41 20L4 18.59l7.72-7.72 1.47 1.35L5.41 20z\"/>\n",
              "  </svg>\n",
              "      </button>\n",
              "      \n",
              "  <style>\n",
              "    .colab-df-container {\n",
              "      display:flex;\n",
              "      flex-wrap:wrap;\n",
              "      gap: 12px;\n",
              "    }\n",
              "\n",
              "    .colab-df-convert {\n",
              "      background-color: #E8F0FE;\n",
              "      border: none;\n",
              "      border-radius: 50%;\n",
              "      cursor: pointer;\n",
              "      display: none;\n",
              "      fill: #1967D2;\n",
              "      height: 32px;\n",
              "      padding: 0 0 0 0;\n",
              "      width: 32px;\n",
              "    }\n",
              "\n",
              "    .colab-df-convert:hover {\n",
              "      background-color: #E2EBFA;\n",
              "      box-shadow: 0px 1px 2px rgba(60, 64, 67, 0.3), 0px 1px 3px 1px rgba(60, 64, 67, 0.15);\n",
              "      fill: #174EA6;\n",
              "    }\n",
              "\n",
              "    [theme=dark] .colab-df-convert {\n",
              "      background-color: #3B4455;\n",
              "      fill: #D2E3FC;\n",
              "    }\n",
              "\n",
              "    [theme=dark] .colab-df-convert:hover {\n",
              "      background-color: #434B5C;\n",
              "      box-shadow: 0px 1px 3px 1px rgba(0, 0, 0, 0.15);\n",
              "      filter: drop-shadow(0px 1px 2px rgba(0, 0, 0, 0.3));\n",
              "      fill: #FFFFFF;\n",
              "    }\n",
              "  </style>\n",
              "\n",
              "      <script>\n",
              "        const buttonEl =\n",
              "          document.querySelector('#df-b84b45d2-f799-4bc9-ba26-0a3c830c77bb button.colab-df-convert');\n",
              "        buttonEl.style.display =\n",
              "          google.colab.kernel.accessAllowed ? 'block' : 'none';\n",
              "\n",
              "        async function convertToInteractive(key) {\n",
              "          const element = document.querySelector('#df-b84b45d2-f799-4bc9-ba26-0a3c830c77bb');\n",
              "          const dataTable =\n",
              "            await google.colab.kernel.invokeFunction('convertToInteractive',\n",
              "                                                     [key], {});\n",
              "          if (!dataTable) return;\n",
              "\n",
              "          const docLinkHtml = 'Like what you see? Visit the ' +\n",
              "            '<a target=\"_blank\" href=https://colab.research.google.com/notebooks/data_table.ipynb>data table notebook</a>'\n",
              "            + ' to learn more about interactive tables.';\n",
              "          element.innerHTML = '';\n",
              "          dataTable['output_type'] = 'display_data';\n",
              "          await google.colab.output.renderOutput(dataTable, element);\n",
              "          const docLink = document.createElement('div');\n",
              "          docLink.innerHTML = docLinkHtml;\n",
              "          element.appendChild(docLink);\n",
              "        }\n",
              "      </script>\n",
              "    </div>\n",
              "  </div>\n",
              "  "
            ]
          },
          "metadata": {},
          "execution_count": 25
        }
      ]
    },
    {
      "cell_type": "code",
      "source": [
        "averageNoSets_2002_corr = averageNoSets_corr[averageNoSets_corr['year'] > 2001]\n",
        "averageNoSets_2002_corr"
      ],
      "metadata": {
        "colab": {
          "base_uri": "https://localhost:8080/",
          "height": 708
        },
        "id": "eLkVu-cHzNDE",
        "outputId": "c15d6439-91b9-4f28-a756-70da563bc500"
      },
      "execution_count": 26,
      "outputs": [
        {
          "output_type": "execute_result",
          "data": {
            "text/plain": [
              "    year  sets_num\n",
              "22  2002  3.723320\n",
              "23  2003  3.686842\n",
              "24  2004  3.649194\n",
              "25  2005  3.666667\n",
              "26  2006  3.668435\n",
              "27  2007  3.583784\n",
              "28  2008  3.657718\n",
              "29  2009  3.632791\n",
              "30  2010  3.672087\n",
              "31  2011  3.596796\n",
              "32  2012  3.665757\n",
              "33  2013  3.612601\n",
              "34  2014  3.613423\n",
              "35  2015  3.654255\n",
              "36  2016  3.704992\n",
              "37  2017  3.672205\n",
              "38  2018  3.746903\n",
              "39  2019  3.724409\n",
              "40  2020  3.669291\n",
              "41  2021  3.740157\n",
              "42  2022  3.717017"
            ],
            "text/html": [
              "\n",
              "  <div id=\"df-ceca4091-2af0-4538-8075-6fb70483f39c\">\n",
              "    <div class=\"colab-df-container\">\n",
              "      <div>\n",
              "<style scoped>\n",
              "    .dataframe tbody tr th:only-of-type {\n",
              "        vertical-align: middle;\n",
              "    }\n",
              "\n",
              "    .dataframe tbody tr th {\n",
              "        vertical-align: top;\n",
              "    }\n",
              "\n",
              "    .dataframe thead th {\n",
              "        text-align: right;\n",
              "    }\n",
              "</style>\n",
              "<table border=\"1\" class=\"dataframe\">\n",
              "  <thead>\n",
              "    <tr style=\"text-align: right;\">\n",
              "      <th></th>\n",
              "      <th>year</th>\n",
              "      <th>sets_num</th>\n",
              "    </tr>\n",
              "  </thead>\n",
              "  <tbody>\n",
              "    <tr>\n",
              "      <th>22</th>\n",
              "      <td>2002</td>\n",
              "      <td>3.723320</td>\n",
              "    </tr>\n",
              "    <tr>\n",
              "      <th>23</th>\n",
              "      <td>2003</td>\n",
              "      <td>3.686842</td>\n",
              "    </tr>\n",
              "    <tr>\n",
              "      <th>24</th>\n",
              "      <td>2004</td>\n",
              "      <td>3.649194</td>\n",
              "    </tr>\n",
              "    <tr>\n",
              "      <th>25</th>\n",
              "      <td>2005</td>\n",
              "      <td>3.666667</td>\n",
              "    </tr>\n",
              "    <tr>\n",
              "      <th>26</th>\n",
              "      <td>2006</td>\n",
              "      <td>3.668435</td>\n",
              "    </tr>\n",
              "    <tr>\n",
              "      <th>27</th>\n",
              "      <td>2007</td>\n",
              "      <td>3.583784</td>\n",
              "    </tr>\n",
              "    <tr>\n",
              "      <th>28</th>\n",
              "      <td>2008</td>\n",
              "      <td>3.657718</td>\n",
              "    </tr>\n",
              "    <tr>\n",
              "      <th>29</th>\n",
              "      <td>2009</td>\n",
              "      <td>3.632791</td>\n",
              "    </tr>\n",
              "    <tr>\n",
              "      <th>30</th>\n",
              "      <td>2010</td>\n",
              "      <td>3.672087</td>\n",
              "    </tr>\n",
              "    <tr>\n",
              "      <th>31</th>\n",
              "      <td>2011</td>\n",
              "      <td>3.596796</td>\n",
              "    </tr>\n",
              "    <tr>\n",
              "      <th>32</th>\n",
              "      <td>2012</td>\n",
              "      <td>3.665757</td>\n",
              "    </tr>\n",
              "    <tr>\n",
              "      <th>33</th>\n",
              "      <td>2013</td>\n",
              "      <td>3.612601</td>\n",
              "    </tr>\n",
              "    <tr>\n",
              "      <th>34</th>\n",
              "      <td>2014</td>\n",
              "      <td>3.613423</td>\n",
              "    </tr>\n",
              "    <tr>\n",
              "      <th>35</th>\n",
              "      <td>2015</td>\n",
              "      <td>3.654255</td>\n",
              "    </tr>\n",
              "    <tr>\n",
              "      <th>36</th>\n",
              "      <td>2016</td>\n",
              "      <td>3.704992</td>\n",
              "    </tr>\n",
              "    <tr>\n",
              "      <th>37</th>\n",
              "      <td>2017</td>\n",
              "      <td>3.672205</td>\n",
              "    </tr>\n",
              "    <tr>\n",
              "      <th>38</th>\n",
              "      <td>2018</td>\n",
              "      <td>3.746903</td>\n",
              "    </tr>\n",
              "    <tr>\n",
              "      <th>39</th>\n",
              "      <td>2019</td>\n",
              "      <td>3.724409</td>\n",
              "    </tr>\n",
              "    <tr>\n",
              "      <th>40</th>\n",
              "      <td>2020</td>\n",
              "      <td>3.669291</td>\n",
              "    </tr>\n",
              "    <tr>\n",
              "      <th>41</th>\n",
              "      <td>2021</td>\n",
              "      <td>3.740157</td>\n",
              "    </tr>\n",
              "    <tr>\n",
              "      <th>42</th>\n",
              "      <td>2022</td>\n",
              "      <td>3.717017</td>\n",
              "    </tr>\n",
              "  </tbody>\n",
              "</table>\n",
              "</div>\n",
              "      <button class=\"colab-df-convert\" onclick=\"convertToInteractive('df-ceca4091-2af0-4538-8075-6fb70483f39c')\"\n",
              "              title=\"Convert this dataframe to an interactive table.\"\n",
              "              style=\"display:none;\">\n",
              "        \n",
              "  <svg xmlns=\"http://www.w3.org/2000/svg\" height=\"24px\"viewBox=\"0 0 24 24\"\n",
              "       width=\"24px\">\n",
              "    <path d=\"M0 0h24v24H0V0z\" fill=\"none\"/>\n",
              "    <path d=\"M18.56 5.44l.94 2.06.94-2.06 2.06-.94-2.06-.94-.94-2.06-.94 2.06-2.06.94zm-11 1L8.5 8.5l.94-2.06 2.06-.94-2.06-.94L8.5 2.5l-.94 2.06-2.06.94zm10 10l.94 2.06.94-2.06 2.06-.94-2.06-.94-.94-2.06-.94 2.06-2.06.94z\"/><path d=\"M17.41 7.96l-1.37-1.37c-.4-.4-.92-.59-1.43-.59-.52 0-1.04.2-1.43.59L10.3 9.45l-7.72 7.72c-.78.78-.78 2.05 0 2.83L4 21.41c.39.39.9.59 1.41.59.51 0 1.02-.2 1.41-.59l7.78-7.78 2.81-2.81c.8-.78.8-2.07 0-2.86zM5.41 20L4 18.59l7.72-7.72 1.47 1.35L5.41 20z\"/>\n",
              "  </svg>\n",
              "      </button>\n",
              "      \n",
              "  <style>\n",
              "    .colab-df-container {\n",
              "      display:flex;\n",
              "      flex-wrap:wrap;\n",
              "      gap: 12px;\n",
              "    }\n",
              "\n",
              "    .colab-df-convert {\n",
              "      background-color: #E8F0FE;\n",
              "      border: none;\n",
              "      border-radius: 50%;\n",
              "      cursor: pointer;\n",
              "      display: none;\n",
              "      fill: #1967D2;\n",
              "      height: 32px;\n",
              "      padding: 0 0 0 0;\n",
              "      width: 32px;\n",
              "    }\n",
              "\n",
              "    .colab-df-convert:hover {\n",
              "      background-color: #E2EBFA;\n",
              "      box-shadow: 0px 1px 2px rgba(60, 64, 67, 0.3), 0px 1px 3px 1px rgba(60, 64, 67, 0.15);\n",
              "      fill: #174EA6;\n",
              "    }\n",
              "\n",
              "    [theme=dark] .colab-df-convert {\n",
              "      background-color: #3B4455;\n",
              "      fill: #D2E3FC;\n",
              "    }\n",
              "\n",
              "    [theme=dark] .colab-df-convert:hover {\n",
              "      background-color: #434B5C;\n",
              "      box-shadow: 0px 1px 3px 1px rgba(0, 0, 0, 0.15);\n",
              "      filter: drop-shadow(0px 1px 2px rgba(0, 0, 0, 0.3));\n",
              "      fill: #FFFFFF;\n",
              "    }\n",
              "  </style>\n",
              "\n",
              "      <script>\n",
              "        const buttonEl =\n",
              "          document.querySelector('#df-ceca4091-2af0-4538-8075-6fb70483f39c button.colab-df-convert');\n",
              "        buttonEl.style.display =\n",
              "          google.colab.kernel.accessAllowed ? 'block' : 'none';\n",
              "\n",
              "        async function convertToInteractive(key) {\n",
              "          const element = document.querySelector('#df-ceca4091-2af0-4538-8075-6fb70483f39c');\n",
              "          const dataTable =\n",
              "            await google.colab.kernel.invokeFunction('convertToInteractive',\n",
              "                                                     [key], {});\n",
              "          if (!dataTable) return;\n",
              "\n",
              "          const docLinkHtml = 'Like what you see? Visit the ' +\n",
              "            '<a target=\"_blank\" href=https://colab.research.google.com/notebooks/data_table.ipynb>data table notebook</a>'\n",
              "            + ' to learn more about interactive tables.';\n",
              "          element.innerHTML = '';\n",
              "          dataTable['output_type'] = 'display_data';\n",
              "          await google.colab.output.renderOutput(dataTable, element);\n",
              "          const docLink = document.createElement('div');\n",
              "          docLink.innerHTML = docLinkHtml;\n",
              "          element.appendChild(docLink);\n",
              "        }\n",
              "      </script>\n",
              "    </div>\n",
              "  </div>\n",
              "  "
            ]
          },
          "metadata": {},
          "execution_count": 26
        }
      ]
    },
    {
      "cell_type": "code",
      "source": [
        "# проверим нормальность распределения в выборках\n",
        "H0 = 'Данные распределены нормально'\n",
        "Ha = 'Данные не распределены нормально (мы отвергаем H0)'"
      ],
      "metadata": {
        "id": "scSCyl4dzfVA"
      },
      "execution_count": 27,
      "outputs": []
    },
    {
      "cell_type": "code",
      "source": [
        "# Тест Шапиро-Уилка на нормальность распределения\n",
        "_, p = shapiro(averageNoSets_1979_corr['sets_num'])\n",
        "print('p=%.3f' % p)\n",
        "\n",
        "# Интерпретация \n",
        "\n",
        "if p > alpha:\n",
        "\tprint(H0)\n",
        "else:\n",
        "\tprint(Ha)"
      ],
      "metadata": {
        "colab": {
          "base_uri": "https://localhost:8080/"
        },
        "id": "NtgYwbpKzfxV",
        "outputId": "dcdfac95-55b1-4be2-94f3-eae860721ff2"
      },
      "execution_count": 28,
      "outputs": [
        {
          "output_type": "stream",
          "name": "stdout",
          "text": [
            "p=0.410\n",
            "Данные распределены нормально\n"
          ]
        }
      ]
    },
    {
      "cell_type": "code",
      "source": [
        "import statsmodels.api as sm\n",
        "fig = sm.qqplot(averageNoSets_1979_corr['sets_num'], line='45')\n",
        "plt.show()"
      ],
      "metadata": {
        "colab": {
          "base_uri": "https://localhost:8080/",
          "height": 279
        },
        "id": "Qt_4ko4uPzWM",
        "outputId": "947f6c42-9141-4eb5-adf2-4519036a510e"
      },
      "execution_count": 29,
      "outputs": [
        {
          "output_type": "display_data",
          "data": {
            "text/plain": [
              "<Figure size 432x288 with 1 Axes>"
            ],
            "image/png": "[encoded data removed]"
          },
          "metadata": {
            "needs_background": "light"
          }
        }
      ]
    },
    {
      "cell_type": "code",
      "source": [
        "sns.displot(averageNoSets_1979_corr['sets_num']);"
      ],
      "metadata": {
        "colab": {
          "base_uri": "https://localhost:8080/",
          "height": 369
        },
        "id": "Y3GrGF9lQifI",
        "outputId": "df0d57a3-3c24-44e7-adcb-53eee323447a"
      },
      "execution_count": 30,
      "outputs": [
        {
          "output_type": "display_data",
          "data": {
            "text/plain": [
              "<Figure size 360x360 with 1 Axes>"
            ],
            "image/png": "[encoded data removed]"
          },
          "metadata": {
            "needs_background": "light"
          }
        }
      ]
    },
    {
      "cell_type": "code",
      "source": [
        "# Тест Шапиро-Уилка на нормальность распределения\n",
        "_, p = shapiro(averageNoSets_2002_corr['sets_num'])\n",
        "print('p=%.3f' % p)\n",
        "\n",
        "# Интерпретация \n",
        "\n",
        "if p > alpha:\n",
        "\tprint(H0)\n",
        "else:\n",
        "\tprint(Ha)"
      ],
      "metadata": {
        "colab": {
          "base_uri": "https://localhost:8080/"
        },
        "id": "bnuMywAtzokX",
        "outputId": "a3fe336f-d451-46ad-dc63-e1d5bcb6b4bc"
      },
      "execution_count": 31,
      "outputs": [
        {
          "output_type": "stream",
          "name": "stdout",
          "text": [
            "p=0.603\n",
            "Данные распределены нормально\n"
          ]
        }
      ]
    },
    {
      "cell_type": "code",
      "source": [
        "fig = sm.qqplot(averageNoSets_2002_corr['sets_num'], line='45')\n",
        "plt.show()"
      ],
      "metadata": {
        "colab": {
          "base_uri": "https://localhost:8080/",
          "height": 279
        },
        "id": "Y-EExl00QLcG",
        "outputId": "ddd3c764-b8a1-48d6-e54c-7d9d9a08b365"
      },
      "execution_count": 32,
      "outputs": [
        {
          "output_type": "display_data",
          "data": {
            "text/plain": [
              "<Figure size 432x288 with 1 Axes>"
            ],
            "image/png": "[encoded data removed]"
          },
          "metadata": {
            "needs_background": "light"
          }
        }
      ]
    },
    {
      "cell_type": "code",
      "source": [
        "sns.displot(averageNoSets_2002_corr['sets_num']);"
      ],
      "metadata": {
        "colab": {
          "base_uri": "https://localhost:8080/",
          "height": 369
        },
        "id": "iEhxZ-BvQaXM",
        "outputId": "1c87da65-87c7-45f9-9a94-08ff8d3bb823"
      },
      "execution_count": 33,
      "outputs": [
        {
          "output_type": "display_data",
          "data": {
            "text/plain": [
              "<Figure size 360x360 with 1 Axes>"
            ],
            "image/png": "[encoded data removed]"
          },
          "metadata": {
            "needs_background": "light"
          }
        }
      ]
    },
    {
      "cell_type": "markdown",
      "source": [
        "Выборки - независимые, не распределены нормально, выбираем непараметрический тест Манна-Уитни.\n",
        "\n",
        "Ссылка на документацию https://docs.scipy.org/doc/scipy/reference/generated/scipy.stats.mannwhitneyu.html?highlight=mann#scipy.stats.mannwhitneyu"
      ],
      "metadata": {
        "id": "ukPR4Gby180k"
      }
    },
    {
      "cell_type": "code",
      "source": [
        "H0 = 'Нет значимой разницы между количеством сетов, которое победитель затратил на игру'\n",
        "Ha = 'Есть значимая разница между между количеством сетов, которое победитель затратил на игру'"
      ],
      "metadata": {
        "id": "cKikK6qk2EUa"
      },
      "execution_count": 34,
      "outputs": []
    },
    {
      "cell_type": "code",
      "source": [
        "_, p = stats.mannwhitneyu(averageNoSets_2002_corr['sets_num'], averageNoSets_1979_corr['sets_num'], alternative='greater')"
      ],
      "metadata": {
        "id": "Gps4iji_2RvO"
      },
      "execution_count": 35,
      "outputs": []
    },
    {
      "cell_type": "code",
      "source": [
        "if p > alpha:\n",
        "  print(f\"{round(p, 4)} > {alpha}. Мы не можем отвергнуть нулевую гипотезу. {H0}\")\n",
        "else:\n",
        "  print(f\"{round(p, 4)} <= {alpha}. Мы отвергаем нулевую гипотезу. {Ha}\")"
      ],
      "metadata": {
        "colab": {
          "base_uri": "https://localhost:8080/"
        },
        "id": "x303xqZE2fQX",
        "outputId": "ec19905f-6207-4155-fe02-48324639c399"
      },
      "execution_count": 36,
      "outputs": [
        {
          "output_type": "stream",
          "name": "stdout",
          "text": [
            "0.9324 > 0.05. Мы не можем отвергнуть нулевую гипотезу. Нет значимой разницы между количеством сетов, которое победитель затратил на игру\n"
          ]
        }
      ]
    },
    {
      "cell_type": "markdown",
      "source": [
        "# Задача 4\n",
        "Вы хотите изучить психологическую устойчивость профессиональных игроков в теннис. Одним из важных показателей такой устойчивости будет доля выигранных брейк-поинтов. Возьмите трех игроков (они необязательно должны играть в одно и то же время. Можете взять игроков, которые сильно отличаются по рангу, а можете взять примерно равных игроков), для каждого из них посчитайте долю выигранных брейк поинтов (колонки, заканчивающиеся на bpFaced и bpSaved) отдельно в победных и проигранных матчах за минимум 10 лет (можно больше, но годы должны идти подряд). Постройте box-plot’ы для этих статистик для каждого из игроков. Являются ли эти распределения по годам (по победным и по проигранным матчам) независимыми для каждого из игроков? Если сравнивать эту статистику между игроками — будет ли разница в средних для проигранных и выигранных матчей значимой попарно между всеми игроками? Выбор статистического теста обоснуйте."
      ],
      "metadata": {
        "id": "Yq0rhxDN5wuv"
      }
    },
    {
      "cell_type": "code",
      "source": [
        "# сделаем колонки - доля выигранных брейк поинтов отдельно в победных и проигранных матчах\n",
        "df['w_bpSaved%'] = (df['w_bpSaved'] / (df['w_bpFaced'] + df['w_bpSaved'])) * 100\n",
        "df['l_bpSaved%'] = (df['l_bpSaved'] / (df['l_bpFaced'] + df['l_bpSaved'])) * 100"
      ],
      "metadata": {
        "id": "AYPxq0RB6P4O"
      },
      "execution_count": 37,
      "outputs": []
    },
    {
      "cell_type": "code",
      "source": [
        "# выберем 3 теннисистов\n",
        "df_novak_win = df[df['winner_name'] == 'Novak Djokovic']\n",
        "df_novak_los = df[df['loser_name'] == 'Novak Djokovic']"
      ],
      "metadata": {
        "id": "fXXr6-pV6eF0"
      },
      "execution_count": 38,
      "outputs": []
    },
    {
      "cell_type": "code",
      "source": [
        "df_volkov_win = df[df['winner_name'] == 'Alexander Volkov']\n",
        "df_volkov_los = df[df['loser_name'] == 'Alexander Volkov']"
      ],
      "metadata": {
        "id": "MNQ5xM8c7n9X"
      },
      "execution_count": 39,
      "outputs": []
    },
    {
      "cell_type": "code",
      "source": [
        "df_cherkasov_win = df[df['winner_name'] == 'Andrei Cherkasov']\n",
        "df_cherkasov_los = df[df['loser_name'] == 'Andrei Cherkasov']"
      ],
      "metadata": {
        "id": "AzYoNE6t_MrP"
      },
      "execution_count": 40,
      "outputs": []
    },
    {
      "cell_type": "code",
      "source": [
        "sns.set()\n"
      ],
      "metadata": {
        "id": "0av_BvhFEj0l"
      },
      "execution_count": 41,
      "outputs": []
    },
    {
      "cell_type": "code",
      "source": [
        "# сравним распределение у Новака Джоковича\n",
        "fig, axes = plt.subplots(1, 2)\n",
        "sns.boxplot(data=df_novak_win, y='w_bpSaved%', ax=axes[0])\n",
        "sns.boxplot(data=df_novak_los, y='l_bpSaved%', ax=axes[1])"
      ],
      "metadata": {
        "colab": {
          "base_uri": "https://localhost:8080/",
          "height": 265
        },
        "id": "2tjiu0rKBMNI",
        "outputId": "0e02d23c-9d6a-41a5-b4c9-6284edf287e2"
      },
      "execution_count": 42,
      "outputs": [
        {
          "output_type": "execute_result",
          "data": {
            "text/plain": [
              "<matplotlib.axes._subplots.AxesSubplot at 0x7f7e547c2250>"
            ]
          },
          "metadata": {},
          "execution_count": 42
        },
        {
          "output_type": "display_data",
          "data": {
            "text/plain": [
              "<Figure size 432x288 with 2 Axes>"
            ],
            "image/png": "[encoded data removed]"
          },
          "metadata": {}
        }
      ]
    },
    {
      "cell_type": "code",
      "source": [
        "# сравним распределение у Волкова\n",
        "fig, axes = plt.subplots(1, 2)\n",
        "sns.boxplot(data=df_volkov_win, y='w_bpSaved%', ax=axes[0])\n",
        "sns.boxplot(data=df_volkov_los, y='l_bpSaved%', ax=axes[1])"
      ],
      "metadata": {
        "colab": {
          "base_uri": "https://localhost:8080/",
          "height": 265
        },
        "id": "aRm-fFzdGyk_",
        "outputId": "9df8a0f9-fc49-4122-e6be-8c008b4382b4"
      },
      "execution_count": 43,
      "outputs": [
        {
          "output_type": "execute_result",
          "data": {
            "text/plain": [
              "<matplotlib.axes._subplots.AxesSubplot at 0x7f7e546f4910>"
            ]
          },
          "metadata": {},
          "execution_count": 43
        },
        {
          "output_type": "display_data",
          "data": {
            "text/plain": [
              "<Figure size 432x288 with 2 Axes>"
            ],
            "image/png": "[encoded data removed]"
          },
          "metadata": {}
        }
      ]
    },
    {
      "cell_type": "code",
      "source": [
        "# сравним распределение у Черкасова\n",
        "fig, axes = plt.subplots(1, 2)\n",
        "sns.boxplot(data=df_cherkasov_win, y='w_bpSaved%', ax=axes[0])\n",
        "sns.boxplot(data=df_cherkasov_los, y='l_bpSaved%', ax=axes[1])"
      ],
      "metadata": {
        "colab": {
          "base_uri": "https://localhost:8080/",
          "height": 265
        },
        "id": "ny1DRaCQG9Tl",
        "outputId": "a4d2165b-44be-4211-db5b-d698d4f88054"
      },
      "execution_count": 44,
      "outputs": [
        {
          "output_type": "execute_result",
          "data": {
            "text/plain": [
              "<matplotlib.axes._subplots.AxesSubplot at 0x7f7e5461aa30>"
            ]
          },
          "metadata": {},
          "execution_count": 44
        },
        {
          "output_type": "display_data",
          "data": {
            "text/plain": [
              "<Figure size 432x288 with 2 Axes>"
            ],
            "image/png": "[encoded data removed]"
          },
          "metadata": {}
        }
      ]
    },
    {
      "cell_type": "code",
      "source": [
        "# сравним распределение в победных матчах\n",
        "fig, axes = plt.subplots(1, 3)\n",
        "sns.boxplot(data=df_novak_win, y='w_bpSaved%', ax=axes[0])\n",
        "sns.boxplot(data=df_volkov_win, y='w_bpSaved%', ax=axes[1])\n",
        "sns.boxplot(data=df_cherkasov_win, y='w_bpSaved%', ax=axes[2])"
      ],
      "metadata": {
        "colab": {
          "base_uri": "https://localhost:8080/",
          "height": 265
        },
        "id": "Yf39JPD1BQ0W",
        "outputId": "199afd1f-0f3c-46e4-d28b-c71503321fb5"
      },
      "execution_count": 275,
      "outputs": [
        {
          "output_type": "execute_result",
          "data": {
            "text/plain": [
              "<matplotlib.axes._subplots.AxesSubplot at 0x7f7e50713160>"
            ]
          },
          "metadata": {},
          "execution_count": 275
        },
        {
          "output_type": "display_data",
          "data": {
            "text/plain": [
              "<Figure size 432x288 with 3 Axes>"
            ],
            "image/png": "[encoded data removed]"
          },
          "metadata": {}
        }
      ]
    },
    {
      "cell_type": "code",
      "source": [
        "# сравним распределение в проигранных матчах\n",
        "fig, axes = plt.subplots(1, 3)\n",
        "sns.boxplot(data=df_novak_los, y='l_bpSaved%', ax=axes[0])\n",
        "sns.boxplot(data=df_volkov_los, y='l_bpSaved%', ax=axes[1])\n",
        "sns.boxplot(data=df_cherkasov_los, y='l_bpSaved%', ax=axes[2])"
      ],
      "metadata": {
        "colab": {
          "base_uri": "https://localhost:8080/",
          "height": 265
        },
        "id": "MzjJACZ_Bi5G",
        "outputId": "a0363fbb-26e2-4c82-acdf-50575f887036"
      },
      "execution_count": 277,
      "outputs": [
        {
          "output_type": "execute_result",
          "data": {
            "text/plain": [
              "<matplotlib.axes._subplots.AxesSubplot at 0x7f7e50e9cee0>"
            ]
          },
          "metadata": {},
          "execution_count": 277
        },
        {
          "output_type": "display_data",
          "data": {
            "text/plain": [
              "<Figure size 432x288 with 3 Axes>"
            ],
            "image/png": "[encoded data removed]"
          },
          "metadata": {}
        }
      ]
    },
    {
      "cell_type": "markdown",
      "source": [
        "##### Визуально статистических различий не видно между количеством выигранных брейк поинтов в выигранных и проигранных матчах"
      ],
      "metadata": {
        "id": "HNSbZue3HIV4"
      }
    },
    {
      "cell_type": "code",
      "source": [
        "df_novak_win.groupby(df_novak_win['year']).mean()['w_bpSaved%']"
      ],
      "metadata": {
        "colab": {
          "base_uri": "https://localhost:8080/"
        },
        "id": "ThZxXi6PHShl",
        "outputId": "5570e2a7-8ff0-496c-fb86-032b5b3b7f7b"
      },
      "execution_count": 45,
      "outputs": [
        {
          "output_type": "execute_result",
          "data": {
            "text/plain": [
              "year\n",
              "2004    28.571429\n",
              "2005    39.454365\n",
              "2006    36.535127\n",
              "2007    38.940677\n",
              "2008    38.851469\n",
              "2009    37.711317\n",
              "2010    39.811323\n",
              "2011    37.506205\n",
              "2012    38.046018\n",
              "2013    37.208388\n",
              "2014    36.141094\n",
              "2015    35.231056\n",
              "2016    35.946668\n",
              "2017    39.052970\n",
              "2018    38.247036\n",
              "2019    38.172396\n",
              "2020    38.868163\n",
              "2021    34.838015\n",
              "2022    33.058081\n",
              "Name: w_bpSaved%, dtype: float64"
            ]
          },
          "metadata": {},
          "execution_count": 45
        }
      ]
    },
    {
      "cell_type": "code",
      "source": [
        "df_novak_los.groupby(df_novak_los['year']).mean()['l_bpSaved%']"
      ],
      "metadata": {
        "colab": {
          "base_uri": "https://localhost:8080/"
        },
        "id": "js7cfwa0I9D4",
        "outputId": "d7abdb72-2702-49e5-911c-2e6ccc2e0a2d"
      },
      "execution_count": 46,
      "outputs": [
        {
          "output_type": "execute_result",
          "data": {
            "text/plain": [
              "year\n",
              "2004    30.416667\n",
              "2005    34.335760\n",
              "2006    32.742339\n",
              "2007    32.765281\n",
              "2008    36.068118\n",
              "2009    34.975030\n",
              "2010    35.342573\n",
              "2011    30.574879\n",
              "2012    31.425855\n",
              "2013    36.278389\n",
              "2014    29.188312\n",
              "2015    34.880414\n",
              "2016    36.422466\n",
              "2017    27.564484\n",
              "2018    32.116250\n",
              "2019    26.779221\n",
              "2020    31.468991\n",
              "2021    34.041514\n",
              "2022    31.460037\n",
              "Name: l_bpSaved%, dtype: float64"
            ]
          },
          "metadata": {},
          "execution_count": 46
        }
      ]
    },
    {
      "cell_type": "code",
      "source": [
        "df_volkov_win.groupby(df_volkov_win['year']).mean()['w_bpSaved%']"
      ],
      "metadata": {
        "colab": {
          "base_uri": "https://localhost:8080/"
        },
        "id": "TEXlStcsKGcB",
        "outputId": "afc089e3-5b44-4d2c-ea13-67eddcf20e71"
      },
      "execution_count": 47,
      "outputs": [
        {
          "output_type": "execute_result",
          "data": {
            "text/plain": [
              "year\n",
              "1986          NaN\n",
              "1987          NaN\n",
              "1988          NaN\n",
              "1989          NaN\n",
              "1990          NaN\n",
              "1991    36.909948\n",
              "1992    39.320106\n",
              "1993    40.418390\n",
              "1994    33.734301\n",
              "1995    37.621291\n",
              "1996    38.232509\n",
              "1997    34.006186\n",
              "Name: w_bpSaved%, dtype: float64"
            ]
          },
          "metadata": {},
          "execution_count": 47
        }
      ]
    },
    {
      "cell_type": "code",
      "source": [
        "df_cherkasov_los.groupby(df_cherkasov_los['year']).mean()['l_bpSaved%']"
      ],
      "metadata": {
        "colab": {
          "base_uri": "https://localhost:8080/"
        },
        "id": "iyOUyQ7ZKhnM",
        "outputId": "5c5c20c1-d37e-4ecc-944d-1ac9d96efae2"
      },
      "execution_count": 48,
      "outputs": [
        {
          "output_type": "execute_result",
          "data": {
            "text/plain": [
              "year\n",
              "1988          NaN\n",
              "1989          NaN\n",
              "1990    44.444444\n",
              "1991    35.141528\n",
              "1992    31.784539\n",
              "1993    32.147667\n",
              "1994    27.905922\n",
              "1995    31.500000\n",
              "1996    28.167644\n",
              "1997    29.417371\n",
              "1998    33.429027\n",
              "1999    35.558608\n",
              "2000    25.000000\n",
              "Name: l_bpSaved%, dtype: float64"
            ]
          },
          "metadata": {},
          "execution_count": 48
        }
      ]
    },
    {
      "cell_type": "code",
      "source": [
        "df_cherkasov_win.groupby(df_cherkasov_win['year']).mean()['w_bpSaved%']"
      ],
      "metadata": {
        "colab": {
          "base_uri": "https://localhost:8080/"
        },
        "id": "_dGH70p0KuQv",
        "outputId": "a99913be-9143-4ac1-9ea2-e822d893a534"
      },
      "execution_count": 49,
      "outputs": [
        {
          "output_type": "execute_result",
          "data": {
            "text/plain": [
              "year\n",
              "1988          NaN\n",
              "1989          NaN\n",
              "1990          NaN\n",
              "1991    39.333707\n",
              "1992    40.513643\n",
              "1993    38.593126\n",
              "1994    35.184372\n",
              "1995    20.000000\n",
              "1996    40.989729\n",
              "1997    39.102564\n",
              "1999    39.777778\n",
              "2000     0.000000\n",
              "Name: w_bpSaved%, dtype: float64"
            ]
          },
          "metadata": {},
          "execution_count": 49
        }
      ]
    },
    {
      "cell_type": "markdown",
      "source": [
        "##### Черкасов и Волков примерно в одно время играли и может быть зависимое распределение"
      ],
      "metadata": {
        "id": "-e9dazlALWBK"
      }
    },
    {
      "cell_type": "code",
      "source": [
        "df[(df['winner_name'] == 'Alexander Volkov') & (df['loser_name'] == 'Andrei Cherkasov')]"
      ],
      "metadata": {
        "colab": {
          "base_uri": "https://localhost:8080/",
          "height": 223
        },
        "id": "0RXWM7jkLNRC",
        "outputId": "b682d6a3-67ab-4bf3-ee0e-b7bb2c227a9d"
      },
      "execution_count": 50,
      "outputs": [
        {
          "output_type": "execute_result",
          "data": {
            "text/plain": [
              "     tourney_id        tourney_name surface  draw_size tourney_level  \\\n",
              "510    1993-408               Milan  Carpet         32             A   \n",
              "2720   1993-422  Cincinnati Masters    Hard         56             M   \n",
              "\n",
              "     tourney_date  match_num  winner_id winner_seed winner_entry  ...  \\\n",
              "510    1993-02-08         14     101334         NaN          NaN  ...   \n",
              "2720   1993-08-09         31     101334        12.0          NaN  ...   \n",
              "\n",
              "     l_bpSaved l_bpFaced  winner_rank winner_rank_points  loser_rank  \\\n",
              "510        0.0       4.0         18.0             1386.0        35.0   \n",
              "2720       5.0       9.0         16.0             1410.0        47.0   \n",
              "\n",
              "      loser_rank_points  year sets_num w_bpSaved% l_bpSaved%  \n",
              "510               869.0  1993        2  50.000000   0.000000  \n",
              "2720              722.0  1993        2  46.153846  35.714286  \n",
              "\n",
              "[2 rows x 53 columns]"
            ],
            "text/html": [
              "\n",
              "  <div id=\"df-84a2f4bf-9431-483f-94c1-f44f696a39b1\">\n",
              "    <div class=\"colab-df-container\">\n",
              "      <div>\n",
              "<style scoped>\n",
              "    .dataframe tbody tr th:only-of-type {\n",
              "        vertical-align: middle;\n",
              "    }\n",
              "\n",
              "    .dataframe tbody tr th {\n",
              "        vertical-align: top;\n",
              "    }\n",
              "\n",
              "    .dataframe thead th {\n",
              "        text-align: right;\n",
              "    }\n",
              "</style>\n",
              "<table border=\"1\" class=\"dataframe\">\n",
              "  <thead>\n",
              "    <tr style=\"text-align: right;\">\n",
              "      <th></th>\n",
              "      <th>tourney_id</th>\n",
              "      <th>tourney_name</th>\n",
              "      <th>surface</th>\n",
              "      <th>draw_size</th>\n",
              "      <th>tourney_level</th>\n",
              "      <th>tourney_date</th>\n",
              "      <th>match_num</th>\n",
              "      <th>winner_id</th>\n",
              "      <th>winner_seed</th>\n",
              "      <th>winner_entry</th>\n",
              "      <th>...</th>\n",
              "      <th>l_bpSaved</th>\n",
              "      <th>l_bpFaced</th>\n",
              "      <th>winner_rank</th>\n",
              "      <th>winner_rank_points</th>\n",
              "      <th>loser_rank</th>\n",
              "      <th>loser_rank_points</th>\n",
              "      <th>year</th>\n",
              "      <th>sets_num</th>\n",
              "      <th>w_bpSaved%</th>\n",
              "      <th>l_bpSaved%</th>\n",
              "    </tr>\n",
              "  </thead>\n",
              "  <tbody>\n",
              "    <tr>\n",
              "      <th>510</th>\n",
              "      <td>1993-408</td>\n",
              "      <td>Milan</td>\n",
              "      <td>Carpet</td>\n",
              "      <td>32</td>\n",
              "      <td>A</td>\n",
              "      <td>1993-02-08</td>\n",
              "      <td>14</td>\n",
              "      <td>101334</td>\n",
              "      <td>NaN</td>\n",
              "      <td>NaN</td>\n",
              "      <td>...</td>\n",
              "      <td>0.0</td>\n",
              "      <td>4.0</td>\n",
              "      <td>18.0</td>\n",
              "      <td>1386.0</td>\n",
              "      <td>35.0</td>\n",
              "      <td>869.0</td>\n",
              "      <td>1993</td>\n",
              "      <td>2</td>\n",
              "      <td>50.000000</td>\n",
              "      <td>0.000000</td>\n",
              "    </tr>\n",
              "    <tr>\n",
              "      <th>2720</th>\n",
              "      <td>1993-422</td>\n",
              "      <td>Cincinnati Masters</td>\n",
              "      <td>Hard</td>\n",
              "      <td>56</td>\n",
              "      <td>M</td>\n",
              "      <td>1993-08-09</td>\n",
              "      <td>31</td>\n",
              "      <td>101334</td>\n",
              "      <td>12.0</td>\n",
              "      <td>NaN</td>\n",
              "      <td>...</td>\n",
              "      <td>5.0</td>\n",
              "      <td>9.0</td>\n",
              "      <td>16.0</td>\n",
              "      <td>1410.0</td>\n",
              "      <td>47.0</td>\n",
              "      <td>722.0</td>\n",
              "      <td>1993</td>\n",
              "      <td>2</td>\n",
              "      <td>46.153846</td>\n",
              "      <td>35.714286</td>\n",
              "    </tr>\n",
              "  </tbody>\n",
              "</table>\n",
              "<p>2 rows × 53 columns</p>\n",
              "</div>\n",
              "      <button class=\"colab-df-convert\" onclick=\"convertToInteractive('df-84a2f4bf-9431-483f-94c1-f44f696a39b1')\"\n",
              "              title=\"Convert this dataframe to an interactive table.\"\n",
              "              style=\"display:none;\">\n",
              "        \n",
              "  <svg xmlns=\"http://www.w3.org/2000/svg\" height=\"24px\"viewBox=\"0 0 24 24\"\n",
              "       width=\"24px\">\n",
              "    <path d=\"M0 0h24v24H0V0z\" fill=\"none\"/>\n",
              "    <path d=\"M18.56 5.44l.94 2.06.94-2.06 2.06-.94-2.06-.94-.94-2.06-.94 2.06-2.06.94zm-11 1L8.5 8.5l.94-2.06 2.06-.94-2.06-.94L8.5 2.5l-.94 2.06-2.06.94zm10 10l.94 2.06.94-2.06 2.06-.94-2.06-.94-.94-2.06-.94 2.06-2.06.94z\"/><path d=\"M17.41 7.96l-1.37-1.37c-.4-.4-.92-.59-1.43-.59-.52 0-1.04.2-1.43.59L10.3 9.45l-7.72 7.72c-.78.78-.78 2.05 0 2.83L4 21.41c.39.39.9.59 1.41.59.51 0 1.02-.2 1.41-.59l7.78-7.78 2.81-2.81c.8-.78.8-2.07 0-2.86zM5.41 20L4 18.59l7.72-7.72 1.47 1.35L5.41 20z\"/>\n",
              "  </svg>\n",
              "      </button>\n",
              "      \n",
              "  <style>\n",
              "    .colab-df-container {\n",
              "      display:flex;\n",
              "      flex-wrap:wrap;\n",
              "      gap: 12px;\n",
              "    }\n",
              "\n",
              "    .colab-df-convert {\n",
              "      background-color: #E8F0FE;\n",
              "      border: none;\n",
              "      border-radius: 50%;\n",
              "      cursor: pointer;\n",
              "      display: none;\n",
              "      fill: #1967D2;\n",
              "      height: 32px;\n",
              "      padding: 0 0 0 0;\n",
              "      width: 32px;\n",
              "    }\n",
              "\n",
              "    .colab-df-convert:hover {\n",
              "      background-color: #E2EBFA;\n",
              "      box-shadow: 0px 1px 2px rgba(60, 64, 67, 0.3), 0px 1px 3px 1px rgba(60, 64, 67, 0.15);\n",
              "      fill: #174EA6;\n",
              "    }\n",
              "\n",
              "    [theme=dark] .colab-df-convert {\n",
              "      background-color: #3B4455;\n",
              "      fill: #D2E3FC;\n",
              "    }\n",
              "\n",
              "    [theme=dark] .colab-df-convert:hover {\n",
              "      background-color: #434B5C;\n",
              "      box-shadow: 0px 1px 3px 1px rgba(0, 0, 0, 0.15);\n",
              "      filter: drop-shadow(0px 1px 2px rgba(0, 0, 0, 0.3));\n",
              "      fill: #FFFFFF;\n",
              "    }\n",
              "  </style>\n",
              "\n",
              "      <script>\n",
              "        const buttonEl =\n",
              "          document.querySelector('#df-84a2f4bf-9431-483f-94c1-f44f696a39b1 button.colab-df-convert');\n",
              "        buttonEl.style.display =\n",
              "          google.colab.kernel.accessAllowed ? 'block' : 'none';\n",
              "\n",
              "        async function convertToInteractive(key) {\n",
              "          const element = document.querySelector('#df-84a2f4bf-9431-483f-94c1-f44f696a39b1');\n",
              "          const dataTable =\n",
              "            await google.colab.kernel.invokeFunction('convertToInteractive',\n",
              "                                                     [key], {});\n",
              "          if (!dataTable) return;\n",
              "\n",
              "          const docLinkHtml = 'Like what you see? Visit the ' +\n",
              "            '<a target=\"_blank\" href=https://colab.research.google.com/notebooks/data_table.ipynb>data table notebook</a>'\n",
              "            + ' to learn more about interactive tables.';\n",
              "          element.innerHTML = '';\n",
              "          dataTable['output_type'] = 'display_data';\n",
              "          await google.colab.output.renderOutput(dataTable, element);\n",
              "          const docLink = document.createElement('div');\n",
              "          docLink.innerHTML = docLinkHtml;\n",
              "          element.appendChild(docLink);\n",
              "        }\n",
              "      </script>\n",
              "    </div>\n",
              "  </div>\n",
              "  "
            ]
          },
          "metadata": {},
          "execution_count": 50
        }
      ]
    },
    {
      "cell_type": "code",
      "source": [
        "df[(df['winner_name'] == 'Andrei Cherkasov') & (df['loser_name'] == 'Alexander Volkov')]"
      ],
      "metadata": {
        "colab": {
          "base_uri": "https://localhost:8080/",
          "height": 254
        },
        "id": "R2fadTvtL1e4",
        "outputId": "5ef7d14c-f3c4-4504-e0d7-115577c31aa2"
      },
      "execution_count": 51,
      "outputs": [
        {
          "output_type": "execute_result",
          "data": {
            "text/plain": [
              "     tourney_id       tourney_name surface  draw_size tourney_level  \\\n",
              "2658   1991-419       Indianapolis    Hard         56             A   \n",
              "3663   1993-429  Stockholm Masters  Carpet         48             M   \n",
              "388    1992-408              Milan  Carpet         32             A   \n",
              "\n",
              "     tourney_date  match_num  winner_id winner_seed winner_entry  ...  \\\n",
              "2658   1991-08-12         47     101772         8.0          NaN  ...   \n",
              "3663   1993-10-25         26     101772         NaN          NaN  ...   \n",
              "388    1992-02-03         20     101772         NaN          NaN  ...   \n",
              "\n",
              "     l_bpSaved l_bpFaced  winner_rank winner_rank_points  loser_rank  \\\n",
              "2658       9.0      13.0         14.0             1269.0        24.0   \n",
              "3663       6.0       9.0         40.0              836.0        16.0   \n",
              "388        3.0       6.0         19.0                NaN        25.0   \n",
              "\n",
              "      loser_rank_points  year sets_num w_bpSaved% l_bpSaved%  \n",
              "2658              994.0  1991        2  41.176471  40.909091  \n",
              "3663             1404.0  1993        3  37.500000  40.000000  \n",
              "388                 NaN  1992        2  40.000000  33.333333  \n",
              "\n",
              "[3 rows x 53 columns]"
            ],
            "text/html": [
              "\n",
              "  <div id=\"df-9cdfb153-294d-4498-9b0a-29727a5adce5\">\n",
              "    <div class=\"colab-df-container\">\n",
              "      <div>\n",
              "<style scoped>\n",
              "    .dataframe tbody tr th:only-of-type {\n",
              "        vertical-align: middle;\n",
              "    }\n",
              "\n",
              "    .dataframe tbody tr th {\n",
              "        vertical-align: top;\n",
              "    }\n",
              "\n",
              "    .dataframe thead th {\n",
              "        text-align: right;\n",
              "    }\n",
              "</style>\n",
              "<table border=\"1\" class=\"dataframe\">\n",
              "  <thead>\n",
              "    <tr style=\"text-align: right;\">\n",
              "      <th></th>\n",
              "      <th>tourney_id</th>\n",
              "      <th>tourney_name</th>\n",
              "      <th>surface</th>\n",
              "      <th>draw_size</th>\n",
              "      <th>tourney_level</th>\n",
              "      <th>tourney_date</th>\n",
              "      <th>match_num</th>\n",
              "      <th>winner_id</th>\n",
              "      <th>winner_seed</th>\n",
              "      <th>winner_entry</th>\n",
              "      <th>...</th>\n",
              "      <th>l_bpSaved</th>\n",
              "      <th>l_bpFaced</th>\n",
              "      <th>winner_rank</th>\n",
              "      <th>winner_rank_points</th>\n",
              "      <th>loser_rank</th>\n",
              "      <th>loser_rank_points</th>\n",
              "      <th>year</th>\n",
              "      <th>sets_num</th>\n",
              "      <th>w_bpSaved%</th>\n",
              "      <th>l_bpSaved%</th>\n",
              "    </tr>\n",
              "  </thead>\n",
              "  <tbody>\n",
              "    <tr>\n",
              "      <th>2658</th>\n",
              "      <td>1991-419</td>\n",
              "      <td>Indianapolis</td>\n",
              "      <td>Hard</td>\n",
              "      <td>56</td>\n",
              "      <td>A</td>\n",
              "      <td>1991-08-12</td>\n",
              "      <td>47</td>\n",
              "      <td>101772</td>\n",
              "      <td>8.0</td>\n",
              "      <td>NaN</td>\n",
              "      <td>...</td>\n",
              "      <td>9.0</td>\n",
              "      <td>13.0</td>\n",
              "      <td>14.0</td>\n",
              "      <td>1269.0</td>\n",
              "      <td>24.0</td>\n",
              "      <td>994.0</td>\n",
              "      <td>1991</td>\n",
              "      <td>2</td>\n",
              "      <td>41.176471</td>\n",
              "      <td>40.909091</td>\n",
              "    </tr>\n",
              "    <tr>\n",
              "      <th>3663</th>\n",
              "      <td>1993-429</td>\n",
              "      <td>Stockholm Masters</td>\n",
              "      <td>Carpet</td>\n",
              "      <td>48</td>\n",
              "      <td>M</td>\n",
              "      <td>1993-10-25</td>\n",
              "      <td>26</td>\n",
              "      <td>101772</td>\n",
              "      <td>NaN</td>\n",
              "      <td>NaN</td>\n",
              "      <td>...</td>\n",
              "      <td>6.0</td>\n",
              "      <td>9.0</td>\n",
              "      <td>40.0</td>\n",
              "      <td>836.0</td>\n",
              "      <td>16.0</td>\n",
              "      <td>1404.0</td>\n",
              "      <td>1993</td>\n",
              "      <td>3</td>\n",
              "      <td>37.500000</td>\n",
              "      <td>40.000000</td>\n",
              "    </tr>\n",
              "    <tr>\n",
              "      <th>388</th>\n",
              "      <td>1992-408</td>\n",
              "      <td>Milan</td>\n",
              "      <td>Carpet</td>\n",
              "      <td>32</td>\n",
              "      <td>A</td>\n",
              "      <td>1992-02-03</td>\n",
              "      <td>20</td>\n",
              "      <td>101772</td>\n",
              "      <td>NaN</td>\n",
              "      <td>NaN</td>\n",
              "      <td>...</td>\n",
              "      <td>3.0</td>\n",
              "      <td>6.0</td>\n",
              "      <td>19.0</td>\n",
              "      <td>NaN</td>\n",
              "      <td>25.0</td>\n",
              "      <td>NaN</td>\n",
              "      <td>1992</td>\n",
              "      <td>2</td>\n",
              "      <td>40.000000</td>\n",
              "      <td>33.333333</td>\n",
              "    </tr>\n",
              "  </tbody>\n",
              "</table>\n",
              "<p>3 rows × 53 columns</p>\n",
              "</div>\n",
              "      <button class=\"colab-df-convert\" onclick=\"convertToInteractive('df-9cdfb153-294d-4498-9b0a-29727a5adce5')\"\n",
              "              title=\"Convert this dataframe to an interactive table.\"\n",
              "              style=\"display:none;\">\n",
              "        \n",
              "  <svg xmlns=\"http://www.w3.org/2000/svg\" height=\"24px\"viewBox=\"0 0 24 24\"\n",
              "       width=\"24px\">\n",
              "    <path d=\"M0 0h24v24H0V0z\" fill=\"none\"/>\n",
              "    <path d=\"M18.56 5.44l.94 2.06.94-2.06 2.06-.94-2.06-.94-.94-2.06-.94 2.06-2.06.94zm-11 1L8.5 8.5l.94-2.06 2.06-.94-2.06-.94L8.5 2.5l-.94 2.06-2.06.94zm10 10l.94 2.06.94-2.06 2.06-.94-2.06-.94-.94-2.06-.94 2.06-2.06.94z\"/><path d=\"M17.41 7.96l-1.37-1.37c-.4-.4-.92-.59-1.43-.59-.52 0-1.04.2-1.43.59L10.3 9.45l-7.72 7.72c-.78.78-.78 2.05 0 2.83L4 21.41c.39.39.9.59 1.41.59.51 0 1.02-.2 1.41-.59l7.78-7.78 2.81-2.81c.8-.78.8-2.07 0-2.86zM5.41 20L4 18.59l7.72-7.72 1.47 1.35L5.41 20z\"/>\n",
              "  </svg>\n",
              "      </button>\n",
              "      \n",
              "  <style>\n",
              "    .colab-df-container {\n",
              "      display:flex;\n",
              "      flex-wrap:wrap;\n",
              "      gap: 12px;\n",
              "    }\n",
              "\n",
              "    .colab-df-convert {\n",
              "      background-color: #E8F0FE;\n",
              "      border: none;\n",
              "      border-radius: 50%;\n",
              "      cursor: pointer;\n",
              "      display: none;\n",
              "      fill: #1967D2;\n",
              "      height: 32px;\n",
              "      padding: 0 0 0 0;\n",
              "      width: 32px;\n",
              "    }\n",
              "\n",
              "    .colab-df-convert:hover {\n",
              "      background-color: #E2EBFA;\n",
              "      box-shadow: 0px 1px 2px rgba(60, 64, 67, 0.3), 0px 1px 3px 1px rgba(60, 64, 67, 0.15);\n",
              "      fill: #174EA6;\n",
              "    }\n",
              "\n",
              "    [theme=dark] .colab-df-convert {\n",
              "      background-color: #3B4455;\n",
              "      fill: #D2E3FC;\n",
              "    }\n",
              "\n",
              "    [theme=dark] .colab-df-convert:hover {\n",
              "      background-color: #434B5C;\n",
              "      box-shadow: 0px 1px 3px 1px rgba(0, 0, 0, 0.15);\n",
              "      filter: drop-shadow(0px 1px 2px rgba(0, 0, 0, 0.3));\n",
              "      fill: #FFFFFF;\n",
              "    }\n",
              "  </style>\n",
              "\n",
              "      <script>\n",
              "        const buttonEl =\n",
              "          document.querySelector('#df-9cdfb153-294d-4498-9b0a-29727a5adce5 button.colab-df-convert');\n",
              "        buttonEl.style.display =\n",
              "          google.colab.kernel.accessAllowed ? 'block' : 'none';\n",
              "\n",
              "        async function convertToInteractive(key) {\n",
              "          const element = document.querySelector('#df-9cdfb153-294d-4498-9b0a-29727a5adce5');\n",
              "          const dataTable =\n",
              "            await google.colab.kernel.invokeFunction('convertToInteractive',\n",
              "                                                     [key], {});\n",
              "          if (!dataTable) return;\n",
              "\n",
              "          const docLinkHtml = 'Like what you see? Visit the ' +\n",
              "            '<a target=\"_blank\" href=https://colab.research.google.com/notebooks/data_table.ipynb>data table notebook</a>'\n",
              "            + ' to learn more about interactive tables.';\n",
              "          element.innerHTML = '';\n",
              "          dataTable['output_type'] = 'display_data';\n",
              "          await google.colab.output.renderOutput(dataTable, element);\n",
              "          const docLink = document.createElement('div');\n",
              "          docLink.innerHTML = docLinkHtml;\n",
              "          element.appendChild(docLink);\n",
              "        }\n",
              "      </script>\n",
              "    </div>\n",
              "  </div>\n",
              "  "
            ]
          },
          "metadata": {},
          "execution_count": 51
        }
      ]
    },
    {
      "cell_type": "markdown",
      "source": [
        "##### Выборки по Черкасову и Волкову независимые, так как всего 5 наблюдений у них совпадает, что не так велико"
      ],
      "metadata": {
        "id": "r8j6ZbH5L-B1"
      }
    },
    {
      "cell_type": "code",
      "source": [
        "# проверим нормальность распределения всех выборок\n"
      ],
      "metadata": {
        "id": "oMdjVLCpMEKf"
      },
      "execution_count": 52,
      "outputs": []
    },
    {
      "cell_type": "code",
      "source": [
        "sns.displot(df_novak_win['w_bpSaved%']);"
      ],
      "metadata": {
        "colab": {
          "base_uri": "https://localhost:8080/",
          "height": 365
        },
        "id": "OB2Afa0PNuon",
        "outputId": "2e0edd04-7029-477f-86cb-74d283c9fa5d"
      },
      "execution_count": 53,
      "outputs": [
        {
          "output_type": "display_data",
          "data": {
            "text/plain": [
              "<Figure size 360x360 with 1 Axes>"
            ],
            "image/png": "[encoded data removed]"
          },
          "metadata": {}
        }
      ]
    },
    {
      "cell_type": "code",
      "source": [
        "sns.displot(df_novak_los['l_bpSaved%']);"
      ],
      "metadata": {
        "colab": {
          "base_uri": "https://localhost:8080/",
          "height": 365
        },
        "id": "Vy3YBSUHPUnd",
        "outputId": "cbb13ca8-44d9-48e3-9189-62066b633eae"
      },
      "execution_count": 54,
      "outputs": [
        {
          "output_type": "display_data",
          "data": {
            "text/plain": [
              "<Figure size 360x360 with 1 Axes>"
            ],
            "image/png": "[encoded data removed]"
          },
          "metadata": {}
        }
      ]
    },
    {
      "cell_type": "code",
      "source": [
        "sns.displot(df_volkov_win['w_bpSaved%']);"
      ],
      "metadata": {
        "colab": {
          "base_uri": "https://localhost:8080/",
          "height": 365
        },
        "id": "UvMl4gOVPYmb",
        "outputId": "3670aaa5-5003-4c9f-e1cf-ee5065b7b6c4"
      },
      "execution_count": 55,
      "outputs": [
        {
          "output_type": "display_data",
          "data": {
            "text/plain": [
              "<Figure size 360x360 with 1 Axes>"
            ],
            "image/png": "[encoded data removed]"
          },
          "metadata": {}
        }
      ]
    },
    {
      "cell_type": "code",
      "source": [
        "sns.displot(df_volkov_los['l_bpSaved%']);"
      ],
      "metadata": {
        "colab": {
          "base_uri": "https://localhost:8080/",
          "height": 365
        },
        "id": "JjjwefbKPclf",
        "outputId": "8132006f-25f9-428b-a872-5cf275f36810"
      },
      "execution_count": 56,
      "outputs": [
        {
          "output_type": "display_data",
          "data": {
            "text/plain": [
              "<Figure size 360x360 with 1 Axes>"
            ],
            "image/png": "[encoded data removed]"
          },
          "metadata": {}
        }
      ]
    },
    {
      "cell_type": "code",
      "source": [
        "sns.displot(df_cherkasov_win['w_bpSaved%']);"
      ],
      "metadata": {
        "colab": {
          "base_uri": "https://localhost:8080/",
          "height": 365
        },
        "id": "UvA90O1iPjzH",
        "outputId": "ca415ad4-66f6-4067-bf24-71ceb57d4fcf"
      },
      "execution_count": 57,
      "outputs": [
        {
          "output_type": "display_data",
          "data": {
            "text/plain": [
              "<Figure size 360x360 with 1 Axes>"
            ],
            "image/png": "[encoded data removed]"
          },
          "metadata": {}
        }
      ]
    },
    {
      "cell_type": "code",
      "source": [
        "sns.displot(df_cherkasov_los['l_bpSaved%']);"
      ],
      "metadata": {
        "colab": {
          "base_uri": "https://localhost:8080/",
          "height": 365
        },
        "id": "OrJCx9CqPpqN",
        "outputId": "e2d59ad0-686a-46b6-d743-70684fa55e6a"
      },
      "execution_count": 58,
      "outputs": [
        {
          "output_type": "display_data",
          "data": {
            "text/plain": [
              "<Figure size 360x360 with 1 Axes>"
            ],
            "image/png": "[encoded data removed]"
          },
          "metadata": {}
        }
      ]
    },
    {
      "cell_type": "markdown",
      "source": [
        "Все выборки распределены ненормально.\n",
        "Выборки независимые\n",
        "\n",
        "Для по парной проверки выборк будет использован тест Манна-Уитни https://docs.scipy.org/doc/scipy/reference/generated/scipy.stats.mannwhitneyu.html?highlight=mann#scipy.stats.mannwhitneyu"
      ],
      "metadata": {
        "id": "U7JPdEXaRiYJ"
      }
    },
    {
      "cell_type": "code",
      "source": [
        "#df_cherkasov_win['w_bpSaved%'] = df_cherkasov_win['w_bpSaved%'].fillna(0)\n",
        "#df_volkov_win['w_bpSaved%'] = df_volkov_win['w_bpSaved%'].fillna(0)\n",
        "#df_cherkasov_los['l_bpSaved%']= df_cherkasov_los['l_bpSaved%'].fillna(0)\n",
        "#df_volkov_los['l_bpSaved%'] = df_volkov_los['l_bpSaved%'].fillna(0)\n",
        "#df_novak_win['w_bpSaved%'] = df_novak_win['w_bpSaved%'].fillna(0)\n",
        "#df_novak_los['l_bpSaved%'] = df_novak_los['l_bpSaved%'].fillna(0)"
      ],
      "metadata": {
        "id": "JX6_RPuiYTtM"
      },
      "execution_count": 59,
      "outputs": []
    },
    {
      "cell_type": "code",
      "source": [
        "# удалим пустые значения\n",
        "df_cherkasov_win.dropna(subset=['w_bpSaved%'], inplace=True)\n",
        "df_volkov_win.dropna(subset=['w_bpSaved%'], inplace=True)\n",
        "df_cherkasov_los.dropna(subset=['l_bpSaved%'], inplace=True)\n",
        "df_volkov_los.dropna(subset=['l_bpSaved%'], inplace=True)\n",
        "df_novak_win.dropna(subset=['w_bpSaved%'], inplace=True)\n",
        "df_novak_los.dropna(subset=['l_bpSaved%'], inplace=True)"
      ],
      "metadata": {
        "colab": {
          "base_uri": "https://localhost:8080/"
        },
        "id": "mNKabxZiFWLE",
        "outputId": "19cb6a89-62eb-467c-b05b-c8cc0d572de3"
      },
      "execution_count": 60,
      "outputs": [
        {
          "output_type": "stream",
          "name": "stderr",
          "text": [
            "/usr/local/lib/python3.8/dist-packages/pandas/util/_decorators.py:311: SettingWithCopyWarning: \n",
            "A value is trying to be set on a copy of a slice from a DataFrame\n",
            "\n",
            "See the caveats in the documentation: https://pandas.pydata.org/pandas-docs/stable/user_guide/indexing.html#returning-a-view-versus-a-copy\n",
            "  return func(*args, **kwargs)\n"
          ]
        }
      ]
    },
    {
      "cell_type": "code",
      "source": [
        "_, p = stats.mannwhitneyu(df_novak_win['w_bpSaved%'], df_volkov_win['w_bpSaved%'], alternative='two-sided')\n",
        "p"
      ],
      "metadata": {
        "colab": {
          "base_uri": "https://localhost:8080/"
        },
        "id": "Oujx7UTMSP4X",
        "outputId": "8ebf7643-7860-47de-c811-c565a0f7495e"
      },
      "execution_count": 61,
      "outputs": [
        {
          "output_type": "execute_result",
          "data": {
            "text/plain": [
              "0.8217611711327845"
            ]
          },
          "metadata": {},
          "execution_count": 61
        }
      ]
    },
    {
      "cell_type": "code",
      "source": [
        "_, p = stats.mannwhitneyu(df_novak_los['l_bpSaved%'], df_volkov_los['l_bpSaved%'], alternative='two-sided')\n",
        "p"
      ],
      "metadata": {
        "colab": {
          "base_uri": "https://localhost:8080/"
        },
        "id": "pKIP00DeUiWn",
        "outputId": "b3e49b6c-204a-4501-b8f9-67c656b3bbef"
      },
      "execution_count": 62,
      "outputs": [
        {
          "output_type": "execute_result",
          "data": {
            "text/plain": [
              "0.5717959706094793"
            ]
          },
          "metadata": {},
          "execution_count": 62
        }
      ]
    },
    {
      "cell_type": "markdown",
      "source": [
        "У Новака Джоковича статистически нет развницы в % выигранных брейк-поинтов, чем у Волкова, и в выигранных, и в пригранных матчах"
      ],
      "metadata": {
        "id": "9iGgGpOKU6Mq"
      }
    },
    {
      "cell_type": "code",
      "source": [
        "_, p = stats.mannwhitneyu(df_novak_win['w_bpSaved%'], df_cherkasov_win['w_bpSaved%'], alternative='less')\n",
        "p"
      ],
      "metadata": {
        "colab": {
          "base_uri": "https://localhost:8080/"
        },
        "id": "oRZMgMYvVFB-",
        "outputId": "6966fdde-dfb0-472a-b2dd-be3fdf79b8df"
      },
      "execution_count": 63,
      "outputs": [
        {
          "output_type": "execute_result",
          "data": {
            "text/plain": [
              "0.728705796210331"
            ]
          },
          "metadata": {},
          "execution_count": 63
        }
      ]
    },
    {
      "cell_type": "code",
      "source": [
        "_, p = stats.mannwhitneyu(df_novak_los['l_bpSaved%'], df_cherkasov_los['l_bpSaved%'], alternative='greater')\n",
        "p"
      ],
      "metadata": {
        "colab": {
          "base_uri": "https://localhost:8080/"
        },
        "id": "vhMKN3HZVLhA",
        "outputId": "700e70b3-c786-4a76-ac3f-3405e977fb7d"
      },
      "execution_count": 64,
      "outputs": [
        {
          "output_type": "execute_result",
          "data": {
            "text/plain": [
              "0.018127505810518"
            ]
          },
          "metadata": {},
          "execution_count": 64
        }
      ]
    },
    {
      "cell_type": "markdown",
      "source": [
        "У Новака Джоковича статистически выше % выигранных брейк-поинтов, чем у Черкасова, только в проигранных матчах"
      ],
      "metadata": {
        "id": "OmnUxnt9VUU5"
      }
    },
    {
      "cell_type": "code",
      "source": [
        "_, p = stats.mannwhitneyu(df_cherkasov_win['w_bpSaved%'], df_volkov_win['w_bpSaved%'], alternative='less')\n",
        "p"
      ],
      "metadata": {
        "colab": {
          "base_uri": "https://localhost:8080/"
        },
        "id": "LAHHUKrKVlLZ",
        "outputId": "da338e21-ae3e-4135-d954-7e06e4c4bf12"
      },
      "execution_count": 65,
      "outputs": [
        {
          "output_type": "execute_result",
          "data": {
            "text/plain": [
              "0.32299337710472653"
            ]
          },
          "metadata": {},
          "execution_count": 65
        }
      ]
    },
    {
      "cell_type": "code",
      "source": [
        "_, p = stats.mannwhitneyu(df_cherkasov_los['l_bpSaved%'], df_volkov_los['l_bpSaved%'], alternative='two-sided')\n",
        "p"
      ],
      "metadata": {
        "colab": {
          "base_uri": "https://localhost:8080/"
        },
        "id": "4gX4B6GtVWe6",
        "outputId": "705a6c51-a960-4919-d610-8bc68abfe5a1"
      },
      "execution_count": 66,
      "outputs": [
        {
          "output_type": "execute_result",
          "data": {
            "text/plain": [
              "0.11494657145843193"
            ]
          },
          "metadata": {},
          "execution_count": 66
        }
      ]
    },
    {
      "cell_type": "code",
      "source": [
        "#_, p = stats.mannwhitneyu(df_cherkasov_los['l_bpSaved%'], df_volkov_los['l_bpSaved%'], alternative='greater')\n",
        "#p"
      ],
      "metadata": {
        "colab": {
          "base_uri": "https://localhost:8080/"
        },
        "id": "Qni997RiXT-c",
        "outputId": "78b4b426-7b2f-4b51-d639-e979f948933b"
      },
      "execution_count": 67,
      "outputs": [
        {
          "output_type": "execute_result",
          "data": {
            "text/plain": [
              "0.9426623216345511"
            ]
          },
          "metadata": {},
          "execution_count": 67
        }
      ]
    },
    {
      "cell_type": "code",
      "source": [
        "#_, p = stats.mannwhitneyu(df_cherkasov_los['l_bpSaved%'], df_volkov_los['l_bpSaved%'], alternative='less')\n",
        "#p"
      ],
      "metadata": {
        "colab": {
          "base_uri": "https://localhost:8080/"
        },
        "id": "5GFwFAU9e2R3",
        "outputId": "b67d3dbb-2dfa-4240-97db-4f43de67f8a8"
      },
      "execution_count": 68,
      "outputs": [
        {
          "output_type": "execute_result",
          "data": {
            "text/plain": [
              "0.057473285729215964"
            ]
          },
          "metadata": {},
          "execution_count": 68
        }
      ]
    },
    {
      "cell_type": "markdown",
      "source": [
        "У Волкова статистически нет разницы в % выигранных брейк-поинтов, чем у Черкасова, в выигранных и проигранных матчах"
      ],
      "metadata": {
        "id": "GlKD5usRfCOG"
      }
    },
    {
      "cell_type": "code",
      "source": [
        "# сравним рейтинги игроков\n",
        "df_rating = df[(df['winner_name'] == 'Novak Djokovic') | (df['winner_name'] == 'Alexander Volkov') | (df['winner_name'] == 'Andrei Cherkasov')]\n",
        "df_rating[['winner_rank']].groupby(df_rating['winner_name']).mean()"
      ],
      "metadata": {
        "colab": {
          "base_uri": "https://localhost:8080/",
          "height": 175
        },
        "id": "QlqyZLIbfOPu",
        "outputId": "0bc2529e-8f78-40ae-c98c-d3efe8abc0c8"
      },
      "execution_count": 69,
      "outputs": [
        {
          "output_type": "execute_result",
          "data": {
            "text/plain": [
              "                  winner_rank\n",
              "winner_name                  \n",
              "Alexander Volkov    46.101974\n",
              "Andrei Cherkasov    56.932642\n",
              "Novak Djokovic       6.385646"
            ],
            "text/html": [
              "\n",
              "  <div id=\"df-8c04704f-26ef-4fbc-b958-4ffa0df2355c\">\n",
              "    <div class=\"colab-df-container\">\n",
              "      <div>\n",
              "<style scoped>\n",
              "    .dataframe tbody tr th:only-of-type {\n",
              "        vertical-align: middle;\n",
              "    }\n",
              "\n",
              "    .dataframe tbody tr th {\n",
              "        vertical-align: top;\n",
              "    }\n",
              "\n",
              "    .dataframe thead th {\n",
              "        text-align: right;\n",
              "    }\n",
              "</style>\n",
              "<table border=\"1\" class=\"dataframe\">\n",
              "  <thead>\n",
              "    <tr style=\"text-align: right;\">\n",
              "      <th></th>\n",
              "      <th>winner_rank</th>\n",
              "    </tr>\n",
              "    <tr>\n",
              "      <th>winner_name</th>\n",
              "      <th></th>\n",
              "    </tr>\n",
              "  </thead>\n",
              "  <tbody>\n",
              "    <tr>\n",
              "      <th>Alexander Volkov</th>\n",
              "      <td>46.101974</td>\n",
              "    </tr>\n",
              "    <tr>\n",
              "      <th>Andrei Cherkasov</th>\n",
              "      <td>56.932642</td>\n",
              "    </tr>\n",
              "    <tr>\n",
              "      <th>Novak Djokovic</th>\n",
              "      <td>6.385646</td>\n",
              "    </tr>\n",
              "  </tbody>\n",
              "</table>\n",
              "</div>\n",
              "      <button class=\"colab-df-convert\" onclick=\"convertToInteractive('df-8c04704f-26ef-4fbc-b958-4ffa0df2355c')\"\n",
              "              title=\"Convert this dataframe to an interactive table.\"\n",
              "              style=\"display:none;\">\n",
              "        \n",
              "  <svg xmlns=\"http://www.w3.org/2000/svg\" height=\"24px\"viewBox=\"0 0 24 24\"\n",
              "       width=\"24px\">\n",
              "    <path d=\"M0 0h24v24H0V0z\" fill=\"none\"/>\n",
              "    <path d=\"M18.56 5.44l.94 2.06.94-2.06 2.06-.94-2.06-.94-.94-2.06-.94 2.06-2.06.94zm-11 1L8.5 8.5l.94-2.06 2.06-.94-2.06-.94L8.5 2.5l-.94 2.06-2.06.94zm10 10l.94 2.06.94-2.06 2.06-.94-2.06-.94-.94-2.06-.94 2.06-2.06.94z\"/><path d=\"M17.41 7.96l-1.37-1.37c-.4-.4-.92-.59-1.43-.59-.52 0-1.04.2-1.43.59L10.3 9.45l-7.72 7.72c-.78.78-.78 2.05 0 2.83L4 21.41c.39.39.9.59 1.41.59.51 0 1.02-.2 1.41-.59l7.78-7.78 2.81-2.81c.8-.78.8-2.07 0-2.86zM5.41 20L4 18.59l7.72-7.72 1.47 1.35L5.41 20z\"/>\n",
              "  </svg>\n",
              "      </button>\n",
              "      \n",
              "  <style>\n",
              "    .colab-df-container {\n",
              "      display:flex;\n",
              "      flex-wrap:wrap;\n",
              "      gap: 12px;\n",
              "    }\n",
              "\n",
              "    .colab-df-convert {\n",
              "      background-color: #E8F0FE;\n",
              "      border: none;\n",
              "      border-radius: 50%;\n",
              "      cursor: pointer;\n",
              "      display: none;\n",
              "      fill: #1967D2;\n",
              "      height: 32px;\n",
              "      padding: 0 0 0 0;\n",
              "      width: 32px;\n",
              "    }\n",
              "\n",
              "    .colab-df-convert:hover {\n",
              "      background-color: #E2EBFA;\n",
              "      box-shadow: 0px 1px 2px rgba(60, 64, 67, 0.3), 0px 1px 3px 1px rgba(60, 64, 67, 0.15);\n",
              "      fill: #174EA6;\n",
              "    }\n",
              "\n",
              "    [theme=dark] .colab-df-convert {\n",
              "      background-color: #3B4455;\n",
              "      fill: #D2E3FC;\n",
              "    }\n",
              "\n",
              "    [theme=dark] .colab-df-convert:hover {\n",
              "      background-color: #434B5C;\n",
              "      box-shadow: 0px 1px 3px 1px rgba(0, 0, 0, 0.15);\n",
              "      filter: drop-shadow(0px 1px 2px rgba(0, 0, 0, 0.3));\n",
              "      fill: #FFFFFF;\n",
              "    }\n",
              "  </style>\n",
              "\n",
              "      <script>\n",
              "        const buttonEl =\n",
              "          document.querySelector('#df-8c04704f-26ef-4fbc-b958-4ffa0df2355c button.colab-df-convert');\n",
              "        buttonEl.style.display =\n",
              "          google.colab.kernel.accessAllowed ? 'block' : 'none';\n",
              "\n",
              "        async function convertToInteractive(key) {\n",
              "          const element = document.querySelector('#df-8c04704f-26ef-4fbc-b958-4ffa0df2355c');\n",
              "          const dataTable =\n",
              "            await google.colab.kernel.invokeFunction('convertToInteractive',\n",
              "                                                     [key], {});\n",
              "          if (!dataTable) return;\n",
              "\n",
              "          const docLinkHtml = 'Like what you see? Visit the ' +\n",
              "            '<a target=\"_blank\" href=https://colab.research.google.com/notebooks/data_table.ipynb>data table notebook</a>'\n",
              "            + ' to learn more about interactive tables.';\n",
              "          element.innerHTML = '';\n",
              "          dataTable['output_type'] = 'display_data';\n",
              "          await google.colab.output.renderOutput(dataTable, element);\n",
              "          const docLink = document.createElement('div');\n",
              "          docLink.innerHTML = docLinkHtml;\n",
              "          element.appendChild(docLink);\n",
              "        }\n",
              "      </script>\n",
              "    </div>\n",
              "  </div>\n",
              "  "
            ]
          },
          "metadata": {},
          "execution_count": 69
        }
      ]
    },
    {
      "cell_type": "markdown",
      "source": [
        "В целом можно сделать вывод, что статистической разницы по % выигранных брейк поинтов прктически не обнаружено"
      ],
      "metadata": {
        "id": "rOwJ0bj-gllW"
      }
    },
    {
      "cell_type": "markdown",
      "source": [
        "### Задача 5\n",
        "У вас есть гипотеза, что доля выигранных брейк-поинтов связана с вероятностью победить в игре. Соберите статистику, где для каждого матча будет собран его исход (победа/поражение) и доля выигранных брейк-поинтов (не забудьте, что в матче два игрока). Разделите долю выигранных брейкпоинтов на группы выше/ниже медианы и, используя информацию о исходе матча, проверьте зависимость между количеством выигранных брейкпоинтов и результатом матча. Насколько сильна эта зависимость? Выбор статистического теста обоснуйте."
      ],
      "metadata": {
        "id": "20ap-hRUg_yA"
      }
    },
    {
      "cell_type": "code",
      "source": [
        "# Собераем статистику, где для каждого матча будет собран его исход (победа/поражение) и доля выигранных брейк-поинтов\n",
        "bp_loss = pd.concat([df['l_bpSaved%'].reset_index(drop=True), pd.Series(np.zeros_like(df['l_bpSaved']), name='win/loss')], axis=1)"
      ],
      "metadata": {
        "id": "LmuLf1Ntg9O6"
      },
      "execution_count": 70,
      "outputs": []
    },
    {
      "cell_type": "code",
      "source": [
        "bp_loss = bp_loss.rename(columns={'l_bpSaved%':'bp'})"
      ],
      "metadata": {
        "id": "d4_PNM5lhFr4"
      },
      "execution_count": 71,
      "outputs": []
    },
    {
      "cell_type": "code",
      "source": [
        "bp_win = pd.concat([df['w_bpSaved%'].reset_index(drop=True), pd.Series(np.ones_like(df['w_bpSaved']), name='win/loss')], axis=1)"
      ],
      "metadata": {
        "id": "DbI75SzuIwoc"
      },
      "execution_count": 72,
      "outputs": []
    },
    {
      "cell_type": "code",
      "source": [
        "bp_win = bp_win.rename(columns={'w_bpSaved%': 'bp'})"
      ],
      "metadata": {
        "id": "KH6AAuASJRMU"
      },
      "execution_count": 73,
      "outputs": []
    },
    {
      "cell_type": "code",
      "source": [
        "bp_data = pd.concat([bp_win, bp_loss])"
      ],
      "metadata": {
        "id": "cMmMGWvrJVXm"
      },
      "execution_count": 74,
      "outputs": []
    },
    {
      "cell_type": "code",
      "source": [
        "bp_data = bp_data.reset_index(drop=True)"
      ],
      "metadata": {
        "id": "lxiR9s5TJkjv"
      },
      "execution_count": 75,
      "outputs": []
    },
    {
      "cell_type": "code",
      "source": [
        "bp_data.head()"
      ],
      "metadata": {
        "colab": {
          "base_uri": "https://localhost:8080/",
          "height": 206
        },
        "id": "PPT-pmHRJnjx",
        "outputId": "5b413c84-703b-48eb-9c3c-ad5ef9d25dc7"
      },
      "execution_count": 76,
      "outputs": [
        {
          "output_type": "execute_result",
          "data": {
            "text/plain": [
              "          bp  win/loss\n",
              "0  25.000000       1.0\n",
              "1  40.000000       1.0\n",
              "2  40.000000       1.0\n",
              "3   0.000000       1.0\n",
              "4  33.333333       1.0"
            ],
            "text/html": [
              "\n",
              "  <div id=\"df-7bd48e2d-add5-4dd8-953a-aa169366d0e3\">\n",
              "    <div class=\"colab-df-container\">\n",
              "      <div>\n",
              "<style scoped>\n",
              "    .dataframe tbody tr th:only-of-type {\n",
              "        vertical-align: middle;\n",
              "    }\n",
              "\n",
              "    .dataframe tbody tr th {\n",
              "        vertical-align: top;\n",
              "    }\n",
              "\n",
              "    .dataframe thead th {\n",
              "        text-align: right;\n",
              "    }\n",
              "</style>\n",
              "<table border=\"1\" class=\"dataframe\">\n",
              "  <thead>\n",
              "    <tr style=\"text-align: right;\">\n",
              "      <th></th>\n",
              "      <th>bp</th>\n",
              "      <th>win/loss</th>\n",
              "    </tr>\n",
              "  </thead>\n",
              "  <tbody>\n",
              "    <tr>\n",
              "      <th>0</th>\n",
              "      <td>25.000000</td>\n",
              "      <td>1.0</td>\n",
              "    </tr>\n",
              "    <tr>\n",
              "      <th>1</th>\n",
              "      <td>40.000000</td>\n",
              "      <td>1.0</td>\n",
              "    </tr>\n",
              "    <tr>\n",
              "      <th>2</th>\n",
              "      <td>40.000000</td>\n",
              "      <td>1.0</td>\n",
              "    </tr>\n",
              "    <tr>\n",
              "      <th>3</th>\n",
              "      <td>0.000000</td>\n",
              "      <td>1.0</td>\n",
              "    </tr>\n",
              "    <tr>\n",
              "      <th>4</th>\n",
              "      <td>33.333333</td>\n",
              "      <td>1.0</td>\n",
              "    </tr>\n",
              "  </tbody>\n",
              "</table>\n",
              "</div>\n",
              "      <button class=\"colab-df-convert\" onclick=\"convertToInteractive('df-7bd48e2d-add5-4dd8-953a-aa169366d0e3')\"\n",
              "              title=\"Convert this dataframe to an interactive table.\"\n",
              "              style=\"display:none;\">\n",
              "        \n",
              "  <svg xmlns=\"http://www.w3.org/2000/svg\" height=\"24px\"viewBox=\"0 0 24 24\"\n",
              "       width=\"24px\">\n",
              "    <path d=\"M0 0h24v24H0V0z\" fill=\"none\"/>\n",
              "    <path d=\"M18.56 5.44l.94 2.06.94-2.06 2.06-.94-2.06-.94-.94-2.06-.94 2.06-2.06.94zm-11 1L8.5 8.5l.94-2.06 2.06-.94-2.06-.94L8.5 2.5l-.94 2.06-2.06.94zm10 10l.94 2.06.94-2.06 2.06-.94-2.06-.94-.94-2.06-.94 2.06-2.06.94z\"/><path d=\"M17.41 7.96l-1.37-1.37c-.4-.4-.92-.59-1.43-.59-.52 0-1.04.2-1.43.59L10.3 9.45l-7.72 7.72c-.78.78-.78 2.05 0 2.83L4 21.41c.39.39.9.59 1.41.59.51 0 1.02-.2 1.41-.59l7.78-7.78 2.81-2.81c.8-.78.8-2.07 0-2.86zM5.41 20L4 18.59l7.72-7.72 1.47 1.35L5.41 20z\"/>\n",
              "  </svg>\n",
              "      </button>\n",
              "      \n",
              "  <style>\n",
              "    .colab-df-container {\n",
              "      display:flex;\n",
              "      flex-wrap:wrap;\n",
              "      gap: 12px;\n",
              "    }\n",
              "\n",
              "    .colab-df-convert {\n",
              "      background-color: #E8F0FE;\n",
              "      border: none;\n",
              "      border-radius: 50%;\n",
              "      cursor: pointer;\n",
              "      display: none;\n",
              "      fill: #1967D2;\n",
              "      height: 32px;\n",
              "      padding: 0 0 0 0;\n",
              "      width: 32px;\n",
              "    }\n",
              "\n",
              "    .colab-df-convert:hover {\n",
              "      background-color: #E2EBFA;\n",
              "      box-shadow: 0px 1px 2px rgba(60, 64, 67, 0.3), 0px 1px 3px 1px rgba(60, 64, 67, 0.15);\n",
              "      fill: #174EA6;\n",
              "    }\n",
              "\n",
              "    [theme=dark] .colab-df-convert {\n",
              "      background-color: #3B4455;\n",
              "      fill: #D2E3FC;\n",
              "    }\n",
              "\n",
              "    [theme=dark] .colab-df-convert:hover {\n",
              "      background-color: #434B5C;\n",
              "      box-shadow: 0px 1px 3px 1px rgba(0, 0, 0, 0.15);\n",
              "      filter: drop-shadow(0px 1px 2px rgba(0, 0, 0, 0.3));\n",
              "      fill: #FFFFFF;\n",
              "    }\n",
              "  </style>\n",
              "\n",
              "      <script>\n",
              "        const buttonEl =\n",
              "          document.querySelector('#df-7bd48e2d-add5-4dd8-953a-aa169366d0e3 button.colab-df-convert');\n",
              "        buttonEl.style.display =\n",
              "          google.colab.kernel.accessAllowed ? 'block' : 'none';\n",
              "\n",
              "        async function convertToInteractive(key) {\n",
              "          const element = document.querySelector('#df-7bd48e2d-add5-4dd8-953a-aa169366d0e3');\n",
              "          const dataTable =\n",
              "            await google.colab.kernel.invokeFunction('convertToInteractive',\n",
              "                                                     [key], {});\n",
              "          if (!dataTable) return;\n",
              "\n",
              "          const docLinkHtml = 'Like what you see? Visit the ' +\n",
              "            '<a target=\"_blank\" href=https://colab.research.google.com/notebooks/data_table.ipynb>data table notebook</a>'\n",
              "            + ' to learn more about interactive tables.';\n",
              "          element.innerHTML = '';\n",
              "          dataTable['output_type'] = 'display_data';\n",
              "          await google.colab.output.renderOutput(dataTable, element);\n",
              "          const docLink = document.createElement('div');\n",
              "          docLink.innerHTML = docLinkHtml;\n",
              "          element.appendChild(docLink);\n",
              "        }\n",
              "      </script>\n",
              "    </div>\n",
              "  </div>\n",
              "  "
            ]
          },
          "metadata": {},
          "execution_count": 76
        }
      ]
    },
    {
      "cell_type": "code",
      "source": [
        "for _, subdf in bp_data.groupby('win/loss'):\n",
        "    sns.distplot(subdf['bp']);"
      ],
      "metadata": {
        "colab": {
          "base_uri": "https://localhost:8080/",
          "height": 374
        },
        "id": "raShsYuJJpUb",
        "outputId": "a30c2e6d-f3c3-487c-d3a6-c297653cb5c6"
      },
      "execution_count": 77,
      "outputs": [
        {
          "output_type": "stream",
          "name": "stderr",
          "text": [
            "/usr/local/lib/python3.8/dist-packages/seaborn/distributions.py:2619: FutureWarning: `distplot` is a deprecated function and will be removed in a future version. Please adapt your code to use either `displot` (a figure-level function with similar flexibility) or `histplot` (an axes-level function for histograms).\n",
            "  warnings.warn(msg, FutureWarning)\n",
            "/usr/local/lib/python3.8/dist-packages/seaborn/distributions.py:2619: FutureWarning: `distplot` is a deprecated function and will be removed in a future version. Please adapt your code to use either `displot` (a figure-level function with similar flexibility) or `histplot` (an axes-level function for histograms).\n",
            "  warnings.warn(msg, FutureWarning)\n"
          ]
        },
        {
          "output_type": "display_data",
          "data": {
            "text/plain": [
              "<Figure size 432x288 with 1 Axes>"
            ],
            "image/png": "[encoded data removed]"
          },
          "metadata": {}
        }
      ]
    },
    {
      "cell_type": "code",
      "source": [
        "# разделяем долю выигранных брейкпоинтов на группы выше/ниже медианы\n",
        "bp_data['many_bp'] = bp_data['bp']>bp_data['bp'].median()"
      ],
      "metadata": {
        "id": "lFMyZpQnKs-0"
      },
      "execution_count": 78,
      "outputs": []
    },
    {
      "cell_type": "code",
      "source": [
        "pd.crosstab(bp_data['win/loss'].astype(bool), bp_data['many_bp'])"
      ],
      "metadata": {
        "colab": {
          "base_uri": "https://localhost:8080/",
          "height": 143
        },
        "id": "kXgSL28_K25h",
        "outputId": "56b9e494-4d82-4090-afd1-f2eba4f4ff3c"
      },
      "execution_count": 79,
      "outputs": [
        {
          "output_type": "execute_result",
          "data": {
            "text/plain": [
              "many_bp    False   True\n",
              "win/loss               \n",
              "False     112953  29273\n",
              "True       90177  52049"
            ],
            "text/html": [
              "\n",
              "  <div id=\"df-2ba4466e-8d64-40bb-b373-8a69b85e8d6a\">\n",
              "    <div class=\"colab-df-container\">\n",
              "      <div>\n",
              "<style scoped>\n",
              "    .dataframe tbody tr th:only-of-type {\n",
              "        vertical-align: middle;\n",
              "    }\n",
              "\n",
              "    .dataframe tbody tr th {\n",
              "        vertical-align: top;\n",
              "    }\n",
              "\n",
              "    .dataframe thead th {\n",
              "        text-align: right;\n",
              "    }\n",
              "</style>\n",
              "<table border=\"1\" class=\"dataframe\">\n",
              "  <thead>\n",
              "    <tr style=\"text-align: right;\">\n",
              "      <th>many_bp</th>\n",
              "      <th>False</th>\n",
              "      <th>True</th>\n",
              "    </tr>\n",
              "    <tr>\n",
              "      <th>win/loss</th>\n",
              "      <th></th>\n",
              "      <th></th>\n",
              "    </tr>\n",
              "  </thead>\n",
              "  <tbody>\n",
              "    <tr>\n",
              "      <th>False</th>\n",
              "      <td>112953</td>\n",
              "      <td>29273</td>\n",
              "    </tr>\n",
              "    <tr>\n",
              "      <th>True</th>\n",
              "      <td>90177</td>\n",
              "      <td>52049</td>\n",
              "    </tr>\n",
              "  </tbody>\n",
              "</table>\n",
              "</div>\n",
              "      <button class=\"colab-df-convert\" onclick=\"convertToInteractive('df-2ba4466e-8d64-40bb-b373-8a69b85e8d6a')\"\n",
              "              title=\"Convert this dataframe to an interactive table.\"\n",
              "              style=\"display:none;\">\n",
              "        \n",
              "  <svg xmlns=\"http://www.w3.org/2000/svg\" height=\"24px\"viewBox=\"0 0 24 24\"\n",
              "       width=\"24px\">\n",
              "    <path d=\"M0 0h24v24H0V0z\" fill=\"none\"/>\n",
              "    <path d=\"M18.56 5.44l.94 2.06.94-2.06 2.06-.94-2.06-.94-.94-2.06-.94 2.06-2.06.94zm-11 1L8.5 8.5l.94-2.06 2.06-.94-2.06-.94L8.5 2.5l-.94 2.06-2.06.94zm10 10l.94 2.06.94-2.06 2.06-.94-2.06-.94-.94-2.06-.94 2.06-2.06.94z\"/><path d=\"M17.41 7.96l-1.37-1.37c-.4-.4-.92-.59-1.43-.59-.52 0-1.04.2-1.43.59L10.3 9.45l-7.72 7.72c-.78.78-.78 2.05 0 2.83L4 21.41c.39.39.9.59 1.41.59.51 0 1.02-.2 1.41-.59l7.78-7.78 2.81-2.81c.8-.78.8-2.07 0-2.86zM5.41 20L4 18.59l7.72-7.72 1.47 1.35L5.41 20z\"/>\n",
              "  </svg>\n",
              "      </button>\n",
              "      \n",
              "  <style>\n",
              "    .colab-df-container {\n",
              "      display:flex;\n",
              "      flex-wrap:wrap;\n",
              "      gap: 12px;\n",
              "    }\n",
              "\n",
              "    .colab-df-convert {\n",
              "      background-color: #E8F0FE;\n",
              "      border: none;\n",
              "      border-radius: 50%;\n",
              "      cursor: pointer;\n",
              "      display: none;\n",
              "      fill: #1967D2;\n",
              "      height: 32px;\n",
              "      padding: 0 0 0 0;\n",
              "      width: 32px;\n",
              "    }\n",
              "\n",
              "    .colab-df-convert:hover {\n",
              "      background-color: #E2EBFA;\n",
              "      box-shadow: 0px 1px 2px rgba(60, 64, 67, 0.3), 0px 1px 3px 1px rgba(60, 64, 67, 0.15);\n",
              "      fill: #174EA6;\n",
              "    }\n",
              "\n",
              "    [theme=dark] .colab-df-convert {\n",
              "      background-color: #3B4455;\n",
              "      fill: #D2E3FC;\n",
              "    }\n",
              "\n",
              "    [theme=dark] .colab-df-convert:hover {\n",
              "      background-color: #434B5C;\n",
              "      box-shadow: 0px 1px 3px 1px rgba(0, 0, 0, 0.15);\n",
              "      filter: drop-shadow(0px 1px 2px rgba(0, 0, 0, 0.3));\n",
              "      fill: #FFFFFF;\n",
              "    }\n",
              "  </style>\n",
              "\n",
              "      <script>\n",
              "        const buttonEl =\n",
              "          document.querySelector('#df-2ba4466e-8d64-40bb-b373-8a69b85e8d6a button.colab-df-convert');\n",
              "        buttonEl.style.display =\n",
              "          google.colab.kernel.accessAllowed ? 'block' : 'none';\n",
              "\n",
              "        async function convertToInteractive(key) {\n",
              "          const element = document.querySelector('#df-2ba4466e-8d64-40bb-b373-8a69b85e8d6a');\n",
              "          const dataTable =\n",
              "            await google.colab.kernel.invokeFunction('convertToInteractive',\n",
              "                                                     [key], {});\n",
              "          if (!dataTable) return;\n",
              "\n",
              "          const docLinkHtml = 'Like what you see? Visit the ' +\n",
              "            '<a target=\"_blank\" href=https://colab.research.google.com/notebooks/data_table.ipynb>data table notebook</a>'\n",
              "            + ' to learn more about interactive tables.';\n",
              "          element.innerHTML = '';\n",
              "          dataTable['output_type'] = 'display_data';\n",
              "          await google.colab.output.renderOutput(dataTable, element);\n",
              "          const docLink = document.createElement('div');\n",
              "          docLink.innerHTML = docLinkHtml;\n",
              "          element.appendChild(docLink);\n",
              "        }\n",
              "      </script>\n",
              "    </div>\n",
              "  </div>\n",
              "  "
            ]
          },
          "metadata": {},
          "execution_count": 79
        }
      ]
    },
    {
      "cell_type": "code",
      "source": [
        "# посмотрим визуальное распределение доли выигранных bp\n",
        "sns.boxplot(data=bp_data, x='win/loss', y='bp')"
      ],
      "metadata": {
        "colab": {
          "base_uri": "https://localhost:8080/",
          "height": 302
        },
        "id": "DsMMCQyiLFE5",
        "outputId": "44495d2c-4364-4d15-ef7b-5511dc596a89"
      },
      "execution_count": 80,
      "outputs": [
        {
          "output_type": "execute_result",
          "data": {
            "text/plain": [
              "<matplotlib.axes._subplots.AxesSubplot at 0x7f7e5425c790>"
            ]
          },
          "metadata": {},
          "execution_count": 80
        },
        {
          "output_type": "display_data",
          "data": {
            "text/plain": [
              "<Figure size 432x288 with 1 Axes>"
            ],
            "image/png": "[encoded data removed]"
          },
          "metadata": {}
        }
      ]
    },
    {
      "cell_type": "markdown",
      "source": [
        "Для проверки гипотезы используем chi2_contingency https://docs.scipy.org/doc/scipy/reference/generated/scipy.stats.chi2_contingency.html"
      ],
      "metadata": {
        "id": "VShPPh0cNASF"
      }
    },
    {
      "cell_type": "code",
      "source": [
        "stats.chi2_contingency(pd.crosstab(bp_data['win/loss'].astype(bool), bp_data['many_bp']))"
      ],
      "metadata": {
        "colab": {
          "base_uri": "https://localhost:8080/"
        },
        "id": "Ube8k2I4LPMg",
        "outputId": "62bb6e58-8c43-4843-dfef-5c72aaadfc28"
      },
      "execution_count": 81,
      "outputs": [
        {
          "output_type": "execute_result",
          "data": {
            "text/plain": [
              "(8931.895708608228, 0.0, 1, array([[101565.,  40661.],\n",
              "        [101565.,  40661.]]))"
            ]
          },
          "metadata": {},
          "execution_count": 81
        }
      ]
    },
    {
      "cell_type": "code",
      "source": [
        "chisq_stats = stats.chi2_contingency(pd.crosstab(bp_data['win/loss'].astype(bool), bp_data['many_bp']), correction=False)[0]"
      ],
      "metadata": {
        "id": "YLCxAX1_LcEj"
      },
      "execution_count": 82,
      "outputs": []
    },
    {
      "cell_type": "code",
      "source": [
        "n = np.sum(pd.crosstab(bp_data['win/loss'].astype(bool), bp_data['many_bp']))"
      ],
      "metadata": {
        "id": "-qKBJn8VLlwR"
      },
      "execution_count": 83,
      "outputs": []
    },
    {
      "cell_type": "code",
      "source": [
        "n = n.sum()"
      ],
      "metadata": {
        "id": "Fs6UCnD3Lqjl"
      },
      "execution_count": 84,
      "outputs": []
    },
    {
      "cell_type": "code",
      "source": [
        "minshape = min(pd.crosstab(bp_data['win/loss'].astype(bool), bp_data['many_bp']).shape)-1"
      ],
      "metadata": {
        "id": "NpR3K78vLsLK"
      },
      "execution_count": 85,
      "outputs": []
    },
    {
      "cell_type": "code",
      "source": [
        "cramer = np.sqrt((chisq_stats/n)/minshape)"
      ],
      "metadata": {
        "id": "DAKI_zK-Lz4t"
      },
      "execution_count": 86,
      "outputs": []
    },
    {
      "cell_type": "code",
      "source": [
        "cramer"
      ],
      "metadata": {
        "colab": {
          "base_uri": "https://localhost:8080/"
        },
        "id": "aAKkPt2gL16N",
        "outputId": "b43f84fd-18ef-4242-fad7-5acea2cd26af"
      },
      "execution_count": 87,
      "outputs": [
        {
          "output_type": "execute_result",
          "data": {
            "text/plain": [
              "0.17720925280642827"
            ]
          },
          "metadata": {},
          "execution_count": 87
        }
      ]
    },
    {
      "cell_type": "markdown",
      "source": [
        "![image.png](data:image/png;base64,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)"
      ],
      "metadata": {
        "id": "VAa2QvgEKT7j"
      }
    },
    {
      "cell_type": "code",
      "source": [
        "# разделяем долю выигранных брейкпоинтов на группы ниже медианы\n",
        "bp_data['loss_bp'] = bp_data['bp']<bp_data['bp'].median()"
      ],
      "metadata": {
        "id": "BiKrOYJZL3yz"
      },
      "execution_count": 88,
      "outputs": []
    },
    {
      "cell_type": "code",
      "source": [
        "stats.chi2_contingency(pd.crosstab(bp_data['win/loss'].astype(bool), bp_data['loss_bp']))"
      ],
      "metadata": {
        "colab": {
          "base_uri": "https://localhost:8080/"
        },
        "id": "cYBBSHlvOpic",
        "outputId": "af8069fb-13f7-4252-8e48-1cc35caa3fa2"
      },
      "execution_count": 89,
      "outputs": [
        {
          "output_type": "execute_result",
          "data": {
            "text/plain": [
              "(14565.087820775163, 0.0, 1, array([[99193.5, 43032.5],\n",
              "        [99193.5, 43032.5]]))"
            ]
          },
          "metadata": {},
          "execution_count": 89
        }
      ]
    },
    {
      "cell_type": "code",
      "source": [
        "chisq_stats = stats.chi2_contingency(pd.crosstab(bp_data['win/loss'].astype(bool), bp_data['loss_bp']), correction=False)[0]"
      ],
      "metadata": {
        "id": "0A-45vlLOrK8"
      },
      "execution_count": 90,
      "outputs": []
    },
    {
      "cell_type": "code",
      "source": [
        "n = np.sum(pd.crosstab(bp_data['win/loss'].astype(bool), bp_data['loss_bp']))"
      ],
      "metadata": {
        "id": "nCTA0aG1Ow9I"
      },
      "execution_count": 91,
      "outputs": []
    },
    {
      "cell_type": "code",
      "source": [
        "n = n.sum()"
      ],
      "metadata": {
        "id": "AK3mse1ZO0Cs"
      },
      "execution_count": 92,
      "outputs": []
    },
    {
      "cell_type": "code",
      "source": [
        "minshape = min(pd.crosstab(bp_data['win/loss'].astype(bool), bp_data['loss_bp']).shape)-1"
      ],
      "metadata": {
        "id": "gII7ECkkO2xi"
      },
      "execution_count": 93,
      "outputs": []
    },
    {
      "cell_type": "code",
      "source": [
        "cramer = np.sqrt((chisq_stats/n)/minshape)"
      ],
      "metadata": {
        "id": "FbcrDsF4O8m1"
      },
      "execution_count": 94,
      "outputs": []
    },
    {
      "cell_type": "code",
      "source": [
        "cramer"
      ],
      "metadata": {
        "colab": {
          "base_uri": "https://localhost:8080/"
        },
        "id": "_9BLfTwlPAC5",
        "outputId": "b41b1956-c395-4f86-e1de-4390a576a5be"
      },
      "execution_count": 95,
      "outputs": [
        {
          "output_type": "execute_result",
          "data": {
            "text/plain": [
              "0.22629072074956144"
            ]
          },
          "metadata": {},
          "execution_count": 95
        }
      ]
    },
    {
      "cell_type": "markdown",
      "source": [
        "Согласно показателю cramer, доля выигранных брейкпоинтов сильно влияют на результат матча"
      ],
      "metadata": {
        "id": "zy8AoJ7hNfGm"
      }
    },
    {
      "cell_type": "markdown",
      "source": [
        "### Задание 1\n",
        "\n",
        "Вы хотите узнать, как много значит ранг игрока в теннисе. Проверьте следующие утверждения:\n",
        "\n",
        "а) Если ранг игрока выше более, чем на 20 позиций, то в среднем он будет выигрывать с большей вероятностью. (Если хотите проверить статистически — формируйте выборку как отклонение от ожидаемого количества побед при случайном исходе);"
      ],
      "metadata": {
        "id": "0WeRflEzobE4"
      }
    },
    {
      "cell_type": "code",
      "source": [
        "#сделаем столбец - разница в рангах проигравшего и победителя, так как ранг проигравшего чаще всего больше\n",
        "df['delta_rank'] = df['loser_rank'] - df['winner_rank']"
      ],
      "metadata": {
        "id": "3k9frFbJoPwa"
      },
      "execution_count": 243,
      "outputs": []
    },
    {
      "cell_type": "code",
      "source": [
        "df_win = df.groupby(['winner_name'])['tourney_id'].count().reset_index()\n",
        "df_win[df_win['winner_name'] == 'Roger Federer']"
      ],
      "metadata": {
        "colab": {
          "base_uri": "https://localhost:8080/",
          "height": 81
        },
        "id": "Bl1MS86ZoQNr",
        "outputId": "3a9a4fa7-7088-46ae-d99c-29ff54f697c5"
      },
      "execution_count": 244,
      "outputs": [
        {
          "output_type": "execute_result",
          "data": {
            "text/plain": [
              "        winner_name  tourney_id\n",
              "2533  Roger Federer        1265"
            ],
            "text/html": [
              "\n",
              "  <div id=\"df-23fd5b65-81ac-40e5-a720-8f64313a46d8\">\n",
              "    <div class=\"colab-df-container\">\n",
              "      <div>\n",
              "<style scoped>\n",
              "    .dataframe tbody tr th:only-of-type {\n",
              "        vertical-align: middle;\n",
              "    }\n",
              "\n",
              "    .dataframe tbody tr th {\n",
              "        vertical-align: top;\n",
              "    }\n",
              "\n",
              "    .dataframe thead th {\n",
              "        text-align: right;\n",
              "    }\n",
              "</style>\n",
              "<table border=\"1\" class=\"dataframe\">\n",
              "  <thead>\n",
              "    <tr style=\"text-align: right;\">\n",
              "      <th></th>\n",
              "      <th>winner_name</th>\n",
              "      <th>tourney_id</th>\n",
              "    </tr>\n",
              "  </thead>\n",
              "  <tbody>\n",
              "    <tr>\n",
              "      <th>2533</th>\n",
              "      <td>Roger Federer</td>\n",
              "      <td>1265</td>\n",
              "    </tr>\n",
              "  </tbody>\n",
              "</table>\n",
              "</div>\n",
              "      <button class=\"colab-df-convert\" onclick=\"convertToInteractive('df-23fd5b65-81ac-40e5-a720-8f64313a46d8')\"\n",
              "              title=\"Convert this dataframe to an interactive table.\"\n",
              "              style=\"display:none;\">\n",
              "        \n",
              "  <svg xmlns=\"http://www.w3.org/2000/svg\" height=\"24px\"viewBox=\"0 0 24 24\"\n",
              "       width=\"24px\">\n",
              "    <path d=\"M0 0h24v24H0V0z\" fill=\"none\"/>\n",
              "    <path d=\"M18.56 5.44l.94 2.06.94-2.06 2.06-.94-2.06-.94-.94-2.06-.94 2.06-2.06.94zm-11 1L8.5 8.5l.94-2.06 2.06-.94-2.06-.94L8.5 2.5l-.94 2.06-2.06.94zm10 10l.94 2.06.94-2.06 2.06-.94-2.06-.94-.94-2.06-.94 2.06-2.06.94z\"/><path d=\"M17.41 7.96l-1.37-1.37c-.4-.4-.92-.59-1.43-.59-.52 0-1.04.2-1.43.59L10.3 9.45l-7.72 7.72c-.78.78-.78 2.05 0 2.83L4 21.41c.39.39.9.59 1.41.59.51 0 1.02-.2 1.41-.59l7.78-7.78 2.81-2.81c.8-.78.8-2.07 0-2.86zM5.41 20L4 18.59l7.72-7.72 1.47 1.35L5.41 20z\"/>\n",
              "  </svg>\n",
              "      </button>\n",
              "      \n",
              "  <style>\n",
              "    .colab-df-container {\n",
              "      display:flex;\n",
              "      flex-wrap:wrap;\n",
              "      gap: 12px;\n",
              "    }\n",
              "\n",
              "    .colab-df-convert {\n",
              "      background-color: #E8F0FE;\n",
              "      border: none;\n",
              "      border-radius: 50%;\n",
              "      cursor: pointer;\n",
              "      display: none;\n",
              "      fill: #1967D2;\n",
              "      height: 32px;\n",
              "      padding: 0 0 0 0;\n",
              "      width: 32px;\n",
              "    }\n",
              "\n",
              "    .colab-df-convert:hover {\n",
              "      background-color: #E2EBFA;\n",
              "      box-shadow: 0px 1px 2px rgba(60, 64, 67, 0.3), 0px 1px 3px 1px rgba(60, 64, 67, 0.15);\n",
              "      fill: #174EA6;\n",
              "    }\n",
              "\n",
              "    [theme=dark] .colab-df-convert {\n",
              "      background-color: #3B4455;\n",
              "      fill: #D2E3FC;\n",
              "    }\n",
              "\n",
              "    [theme=dark] .colab-df-convert:hover {\n",
              "      background-color: #434B5C;\n",
              "      box-shadow: 0px 1px 3px 1px rgba(0, 0, 0, 0.15);\n",
              "      filter: drop-shadow(0px 1px 2px rgba(0, 0, 0, 0.3));\n",
              "      fill: #FFFFFF;\n",
              "    }\n",
              "  </style>\n",
              "\n",
              "      <script>\n",
              "        const buttonEl =\n",
              "          document.querySelector('#df-23fd5b65-81ac-40e5-a720-8f64313a46d8 button.colab-df-convert');\n",
              "        buttonEl.style.display =\n",
              "          google.colab.kernel.accessAllowed ? 'block' : 'none';\n",
              "\n",
              "        async function convertToInteractive(key) {\n",
              "          const element = document.querySelector('#df-23fd5b65-81ac-40e5-a720-8f64313a46d8');\n",
              "          const dataTable =\n",
              "            await google.colab.kernel.invokeFunction('convertToInteractive',\n",
              "                                                     [key], {});\n",
              "          if (!dataTable) return;\n",
              "\n",
              "          const docLinkHtml = 'Like what you see? Visit the ' +\n",
              "            '<a target=\"_blank\" href=https://colab.research.google.com/notebooks/data_table.ipynb>data table notebook</a>'\n",
              "            + ' to learn more about interactive tables.';\n",
              "          element.innerHTML = '';\n",
              "          dataTable['output_type'] = 'display_data';\n",
              "          await google.colab.output.renderOutput(dataTable, element);\n",
              "          const docLink = document.createElement('div');\n",
              "          docLink.innerHTML = docLinkHtml;\n",
              "          element.appendChild(docLink);\n",
              "        }\n",
              "      </script>\n",
              "    </div>\n",
              "  </div>\n",
              "  "
            ]
          },
          "metadata": {},
          "execution_count": 244
        }
      ]
    },
    {
      "cell_type": "code",
      "source": [
        "df_win = df_win.rename(columns={'winner_name': 'name', 'tourney_id': 'win'})\n",
        "df_win.head()"
      ],
      "metadata": {
        "colab": {
          "base_uri": "https://localhost:8080/",
          "height": 206
        },
        "id": "nl0PH9kZr2wt",
        "outputId": "3257f491-43e2-405f-bc63-a38b0240b649"
      },
      "execution_count": 245,
      "outputs": [
        {
          "output_type": "execute_result",
          "data": {
            "text/plain": [
              "                      name  win\n",
              "0              A Galbraith    1\n",
              "1         Aaron Krickstein  395\n",
              "2  Abd Hazli Bin Zainuddin    1\n",
              "3      Abdel Majid Soudani    2\n",
              "4     Abdelhak Hameurlaine    3"
            ],
            "text/html": [
              "\n",
              "  <div id=\"df-b5e5d5ef-f6e4-438e-bc15-378f43c561e9\">\n",
              "    <div class=\"colab-df-container\">\n",
              "      <div>\n",
              "<style scoped>\n",
              "    .dataframe tbody tr th:only-of-type {\n",
              "        vertical-align: middle;\n",
              "    }\n",
              "\n",
              "    .dataframe tbody tr th {\n",
              "        vertical-align: top;\n",
              "    }\n",
              "\n",
              "    .dataframe thead th {\n",
              "        text-align: right;\n",
              "    }\n",
              "</style>\n",
              "<table border=\"1\" class=\"dataframe\">\n",
              "  <thead>\n",
              "    <tr style=\"text-align: right;\">\n",
              "      <th></th>\n",
              "      <th>name</th>\n",
              "      <th>win</th>\n",
              "    </tr>\n",
              "  </thead>\n",
              "  <tbody>\n",
              "    <tr>\n",
              "      <th>0</th>\n",
              "      <td>A Galbraith</td>\n",
              "      <td>1</td>\n",
              "    </tr>\n",
              "    <tr>\n",
              "      <th>1</th>\n",
              "      <td>Aaron Krickstein</td>\n",
              "      <td>395</td>\n",
              "    </tr>\n",
              "    <tr>\n",
              "      <th>2</th>\n",
              "      <td>Abd Hazli Bin Zainuddin</td>\n",
              "      <td>1</td>\n",
              "    </tr>\n",
              "    <tr>\n",
              "      <th>3</th>\n",
              "      <td>Abdel Majid Soudani</td>\n",
              "      <td>2</td>\n",
              "    </tr>\n",
              "    <tr>\n",
              "      <th>4</th>\n",
              "      <td>Abdelhak Hameurlaine</td>\n",
              "      <td>3</td>\n",
              "    </tr>\n",
              "  </tbody>\n",
              "</table>\n",
              "</div>\n",
              "      <button class=\"colab-df-convert\" onclick=\"convertToInteractive('df-b5e5d5ef-f6e4-438e-bc15-378f43c561e9')\"\n",
              "              title=\"Convert this dataframe to an interactive table.\"\n",
              "              style=\"display:none;\">\n",
              "        \n",
              "  <svg xmlns=\"http://www.w3.org/2000/svg\" height=\"24px\"viewBox=\"0 0 24 24\"\n",
              "       width=\"24px\">\n",
              "    <path d=\"M0 0h24v24H0V0z\" fill=\"none\"/>\n",
              "    <path d=\"M18.56 5.44l.94 2.06.94-2.06 2.06-.94-2.06-.94-.94-2.06-.94 2.06-2.06.94zm-11 1L8.5 8.5l.94-2.06 2.06-.94-2.06-.94L8.5 2.5l-.94 2.06-2.06.94zm10 10l.94 2.06.94-2.06 2.06-.94-2.06-.94-.94-2.06-.94 2.06-2.06.94z\"/><path d=\"M17.41 7.96l-1.37-1.37c-.4-.4-.92-.59-1.43-.59-.52 0-1.04.2-1.43.59L10.3 9.45l-7.72 7.72c-.78.78-.78 2.05 0 2.83L4 21.41c.39.39.9.59 1.41.59.51 0 1.02-.2 1.41-.59l7.78-7.78 2.81-2.81c.8-.78.8-2.07 0-2.86zM5.41 20L4 18.59l7.72-7.72 1.47 1.35L5.41 20z\"/>\n",
              "  </svg>\n",
              "      </button>\n",
              "      \n",
              "  <style>\n",
              "    .colab-df-container {\n",
              "      display:flex;\n",
              "      flex-wrap:wrap;\n",
              "      gap: 12px;\n",
              "    }\n",
              "\n",
              "    .colab-df-convert {\n",
              "      background-color: #E8F0FE;\n",
              "      border: none;\n",
              "      border-radius: 50%;\n",
              "      cursor: pointer;\n",
              "      display: none;\n",
              "      fill: #1967D2;\n",
              "      height: 32px;\n",
              "      padding: 0 0 0 0;\n",
              "      width: 32px;\n",
              "    }\n",
              "\n",
              "    .colab-df-convert:hover {\n",
              "      background-color: #E2EBFA;\n",
              "      box-shadow: 0px 1px 2px rgba(60, 64, 67, 0.3), 0px 1px 3px 1px rgba(60, 64, 67, 0.15);\n",
              "      fill: #174EA6;\n",
              "    }\n",
              "\n",
              "    [theme=dark] .colab-df-convert {\n",
              "      background-color: #3B4455;\n",
              "      fill: #D2E3FC;\n",
              "    }\n",
              "\n",
              "    [theme=dark] .colab-df-convert:hover {\n",
              "      background-color: #434B5C;\n",
              "      box-shadow: 0px 1px 3px 1px rgba(0, 0, 0, 0.15);\n",
              "      filter: drop-shadow(0px 1px 2px rgba(0, 0, 0, 0.3));\n",
              "      fill: #FFFFFF;\n",
              "    }\n",
              "  </style>\n",
              "\n",
              "      <script>\n",
              "        const buttonEl =\n",
              "          document.querySelector('#df-b5e5d5ef-f6e4-438e-bc15-378f43c561e9 button.colab-df-convert');\n",
              "        buttonEl.style.display =\n",
              "          google.colab.kernel.accessAllowed ? 'block' : 'none';\n",
              "\n",
              "        async function convertToInteractive(key) {\n",
              "          const element = document.querySelector('#df-b5e5d5ef-f6e4-438e-bc15-378f43c561e9');\n",
              "          const dataTable =\n",
              "            await google.colab.kernel.invokeFunction('convertToInteractive',\n",
              "                                                     [key], {});\n",
              "          if (!dataTable) return;\n",
              "\n",
              "          const docLinkHtml = 'Like what you see? Visit the ' +\n",
              "            '<a target=\"_blank\" href=https://colab.research.google.com/notebooks/data_table.ipynb>data table notebook</a>'\n",
              "            + ' to learn more about interactive tables.';\n",
              "          element.innerHTML = '';\n",
              "          dataTable['output_type'] = 'display_data';\n",
              "          await google.colab.output.renderOutput(dataTable, element);\n",
              "          const docLink = document.createElement('div');\n",
              "          docLink.innerHTML = docLinkHtml;\n",
              "          element.appendChild(docLink);\n",
              "        }\n",
              "      </script>\n",
              "    </div>\n",
              "  </div>\n",
              "  "
            ]
          },
          "metadata": {},
          "execution_count": 245
        }
      ]
    },
    {
      "cell_type": "code",
      "source": [
        "df_loss = df.groupby(['loser_name'])['tourney_id'].count().reset_index()\n",
        "df_loss[df_loss['loser_name'] == 'Roger Federer']"
      ],
      "metadata": {
        "colab": {
          "base_uri": "https://localhost:8080/",
          "height": 81
        },
        "id": "n1Z0pURqsXzi",
        "outputId": "671b2538-2d7c-4c43-ac06-c3103b7111f3"
      },
      "execution_count": 246,
      "outputs": [
        {
          "output_type": "execute_result",
          "data": {
            "text/plain": [
              "         loser_name  tourney_id\n",
              "3744  Roger Federer         280"
            ],
            "text/html": [
              "\n",
              "  <div id=\"df-c1214c24-3ccb-4321-95d0-c40348d63a52\">\n",
              "    <div class=\"colab-df-container\">\n",
              "      <div>\n",
              "<style scoped>\n",
              "    .dataframe tbody tr th:only-of-type {\n",
              "        vertical-align: middle;\n",
              "    }\n",
              "\n",
              "    .dataframe tbody tr th {\n",
              "        vertical-align: top;\n",
              "    }\n",
              "\n",
              "    .dataframe thead th {\n",
              "        text-align: right;\n",
              "    }\n",
              "</style>\n",
              "<table border=\"1\" class=\"dataframe\">\n",
              "  <thead>\n",
              "    <tr style=\"text-align: right;\">\n",
              "      <th></th>\n",
              "      <th>loser_name</th>\n",
              "      <th>tourney_id</th>\n",
              "    </tr>\n",
              "  </thead>\n",
              "  <tbody>\n",
              "    <tr>\n",
              "      <th>3744</th>\n",
              "      <td>Roger Federer</td>\n",
              "      <td>280</td>\n",
              "    </tr>\n",
              "  </tbody>\n",
              "</table>\n",
              "</div>\n",
              "      <button class=\"colab-df-convert\" onclick=\"convertToInteractive('df-c1214c24-3ccb-4321-95d0-c40348d63a52')\"\n",
              "              title=\"Convert this dataframe to an interactive table.\"\n",
              "              style=\"display:none;\">\n",
              "        \n",
              "  <svg xmlns=\"http://www.w3.org/2000/svg\" height=\"24px\"viewBox=\"0 0 24 24\"\n",
              "       width=\"24px\">\n",
              "    <path d=\"M0 0h24v24H0V0z\" fill=\"none\"/>\n",
              "    <path d=\"M18.56 5.44l.94 2.06.94-2.06 2.06-.94-2.06-.94-.94-2.06-.94 2.06-2.06.94zm-11 1L8.5 8.5l.94-2.06 2.06-.94-2.06-.94L8.5 2.5l-.94 2.06-2.06.94zm10 10l.94 2.06.94-2.06 2.06-.94-2.06-.94-.94-2.06-.94 2.06-2.06.94z\"/><path d=\"M17.41 7.96l-1.37-1.37c-.4-.4-.92-.59-1.43-.59-.52 0-1.04.2-1.43.59L10.3 9.45l-7.72 7.72c-.78.78-.78 2.05 0 2.83L4 21.41c.39.39.9.59 1.41.59.51 0 1.02-.2 1.41-.59l7.78-7.78 2.81-2.81c.8-.78.8-2.07 0-2.86zM5.41 20L4 18.59l7.72-7.72 1.47 1.35L5.41 20z\"/>\n",
              "  </svg>\n",
              "      </button>\n",
              "      \n",
              "  <style>\n",
              "    .colab-df-container {\n",
              "      display:flex;\n",
              "      flex-wrap:wrap;\n",
              "      gap: 12px;\n",
              "    }\n",
              "\n",
              "    .colab-df-convert {\n",
              "      background-color: #E8F0FE;\n",
              "      border: none;\n",
              "      border-radius: 50%;\n",
              "      cursor: pointer;\n",
              "      display: none;\n",
              "      fill: #1967D2;\n",
              "      height: 32px;\n",
              "      padding: 0 0 0 0;\n",
              "      width: 32px;\n",
              "    }\n",
              "\n",
              "    .colab-df-convert:hover {\n",
              "      background-color: #E2EBFA;\n",
              "      box-shadow: 0px 1px 2px rgba(60, 64, 67, 0.3), 0px 1px 3px 1px rgba(60, 64, 67, 0.15);\n",
              "      fill: #174EA6;\n",
              "    }\n",
              "\n",
              "    [theme=dark] .colab-df-convert {\n",
              "      background-color: #3B4455;\n",
              "      fill: #D2E3FC;\n",
              "    }\n",
              "\n",
              "    [theme=dark] .colab-df-convert:hover {\n",
              "      background-color: #434B5C;\n",
              "      box-shadow: 0px 1px 3px 1px rgba(0, 0, 0, 0.15);\n",
              "      filter: drop-shadow(0px 1px 2px rgba(0, 0, 0, 0.3));\n",
              "      fill: #FFFFFF;\n",
              "    }\n",
              "  </style>\n",
              "\n",
              "      <script>\n",
              "        const buttonEl =\n",
              "          document.querySelector('#df-c1214c24-3ccb-4321-95d0-c40348d63a52 button.colab-df-convert');\n",
              "        buttonEl.style.display =\n",
              "          google.colab.kernel.accessAllowed ? 'block' : 'none';\n",
              "\n",
              "        async function convertToInteractive(key) {\n",
              "          const element = document.querySelector('#df-c1214c24-3ccb-4321-95d0-c40348d63a52');\n",
              "          const dataTable =\n",
              "            await google.colab.kernel.invokeFunction('convertToInteractive',\n",
              "                                                     [key], {});\n",
              "          if (!dataTable) return;\n",
              "\n",
              "          const docLinkHtml = 'Like what you see? Visit the ' +\n",
              "            '<a target=\"_blank\" href=https://colab.research.google.com/notebooks/data_table.ipynb>data table notebook</a>'\n",
              "            + ' to learn more about interactive tables.';\n",
              "          element.innerHTML = '';\n",
              "          dataTable['output_type'] = 'display_data';\n",
              "          await google.colab.output.renderOutput(dataTable, element);\n",
              "          const docLink = document.createElement('div');\n",
              "          docLink.innerHTML = docLinkHtml;\n",
              "          element.appendChild(docLink);\n",
              "        }\n",
              "      </script>\n",
              "    </div>\n",
              "  </div>\n",
              "  "
            ]
          },
          "metadata": {},
          "execution_count": 246
        }
      ]
    },
    {
      "cell_type": "code",
      "source": [
        "df_loss = df_loss.rename(columns={'loser_name': 'name', 'tourney_id': 'loss'})\n",
        "df_loss.head()"
      ],
      "metadata": {
        "colab": {
          "base_uri": "https://localhost:8080/",
          "height": 206
        },
        "id": "pr2tmwmQsnkT",
        "outputId": "198fec19-1112-4e56-beb0-f85e728e5b34"
      },
      "execution_count": 247,
      "outputs": [
        {
          "output_type": "execute_result",
          "data": {
            "text/plain": [
              "            name  loss\n",
              "0  A Difrancesco     1\n",
              "1    A Galbraith     1\n",
              "2     A Luttrell     1\n",
              "3      A Moscoso     1\n",
              "4       A Simcox     1"
            ],
            "text/html": [
              "\n",
              "  <div id=\"df-b8ad06e0-b964-46b3-9a47-ac040ca7b2b2\">\n",
              "    <div class=\"colab-df-container\">\n",
              "      <div>\n",
              "<style scoped>\n",
              "    .dataframe tbody tr th:only-of-type {\n",
              "        vertical-align: middle;\n",
              "    }\n",
              "\n",
              "    .dataframe tbody tr th {\n",
              "        vertical-align: top;\n",
              "    }\n",
              "\n",
              "    .dataframe thead th {\n",
              "        text-align: right;\n",
              "    }\n",
              "</style>\n",
              "<table border=\"1\" class=\"dataframe\">\n",
              "  <thead>\n",
              "    <tr style=\"text-align: right;\">\n",
              "      <th></th>\n",
              "      <th>name</th>\n",
              "      <th>loss</th>\n",
              "    </tr>\n",
              "  </thead>\n",
              "  <tbody>\n",
              "    <tr>\n",
              "      <th>0</th>\n",
              "      <td>A Difrancesco</td>\n",
              "      <td>1</td>\n",
              "    </tr>\n",
              "    <tr>\n",
              "      <th>1</th>\n",
              "      <td>A Galbraith</td>\n",
              "      <td>1</td>\n",
              "    </tr>\n",
              "    <tr>\n",
              "      <th>2</th>\n",
              "      <td>A Luttrell</td>\n",
              "      <td>1</td>\n",
              "    </tr>\n",
              "    <tr>\n",
              "      <th>3</th>\n",
              "      <td>A Moscoso</td>\n",
              "      <td>1</td>\n",
              "    </tr>\n",
              "    <tr>\n",
              "      <th>4</th>\n",
              "      <td>A Simcox</td>\n",
              "      <td>1</td>\n",
              "    </tr>\n",
              "  </tbody>\n",
              "</table>\n",
              "</div>\n",
              "      <button class=\"colab-df-convert\" onclick=\"convertToInteractive('df-b8ad06e0-b964-46b3-9a47-ac040ca7b2b2')\"\n",
              "              title=\"Convert this dataframe to an interactive table.\"\n",
              "              style=\"display:none;\">\n",
              "        \n",
              "  <svg xmlns=\"http://www.w3.org/2000/svg\" height=\"24px\"viewBox=\"0 0 24 24\"\n",
              "       width=\"24px\">\n",
              "    <path d=\"M0 0h24v24H0V0z\" fill=\"none\"/>\n",
              "    <path d=\"M18.56 5.44l.94 2.06.94-2.06 2.06-.94-2.06-.94-.94-2.06-.94 2.06-2.06.94zm-11 1L8.5 8.5l.94-2.06 2.06-.94-2.06-.94L8.5 2.5l-.94 2.06-2.06.94zm10 10l.94 2.06.94-2.06 2.06-.94-2.06-.94-.94-2.06-.94 2.06-2.06.94z\"/><path d=\"M17.41 7.96l-1.37-1.37c-.4-.4-.92-.59-1.43-.59-.52 0-1.04.2-1.43.59L10.3 9.45l-7.72 7.72c-.78.78-.78 2.05 0 2.83L4 21.41c.39.39.9.59 1.41.59.51 0 1.02-.2 1.41-.59l7.78-7.78 2.81-2.81c.8-.78.8-2.07 0-2.86zM5.41 20L4 18.59l7.72-7.72 1.47 1.35L5.41 20z\"/>\n",
              "  </svg>\n",
              "      </button>\n",
              "      \n",
              "  <style>\n",
              "    .colab-df-container {\n",
              "      display:flex;\n",
              "      flex-wrap:wrap;\n",
              "      gap: 12px;\n",
              "    }\n",
              "\n",
              "    .colab-df-convert {\n",
              "      background-color: #E8F0FE;\n",
              "      border: none;\n",
              "      border-radius: 50%;\n",
              "      cursor: pointer;\n",
              "      display: none;\n",
              "      fill: #1967D2;\n",
              "      height: 32px;\n",
              "      padding: 0 0 0 0;\n",
              "      width: 32px;\n",
              "    }\n",
              "\n",
              "    .colab-df-convert:hover {\n",
              "      background-color: #E2EBFA;\n",
              "      box-shadow: 0px 1px 2px rgba(60, 64, 67, 0.3), 0px 1px 3px 1px rgba(60, 64, 67, 0.15);\n",
              "      fill: #174EA6;\n",
              "    }\n",
              "\n",
              "    [theme=dark] .colab-df-convert {\n",
              "      background-color: #3B4455;\n",
              "      fill: #D2E3FC;\n",
              "    }\n",
              "\n",
              "    [theme=dark] .colab-df-convert:hover {\n",
              "      background-color: #434B5C;\n",
              "      box-shadow: 0px 1px 3px 1px rgba(0, 0, 0, 0.15);\n",
              "      filter: drop-shadow(0px 1px 2px rgba(0, 0, 0, 0.3));\n",
              "      fill: #FFFFFF;\n",
              "    }\n",
              "  </style>\n",
              "\n",
              "      <script>\n",
              "        const buttonEl =\n",
              "          document.querySelector('#df-b8ad06e0-b964-46b3-9a47-ac040ca7b2b2 button.colab-df-convert');\n",
              "        buttonEl.style.display =\n",
              "          google.colab.kernel.accessAllowed ? 'block' : 'none';\n",
              "\n",
              "        async function convertToInteractive(key) {\n",
              "          const element = document.querySelector('#df-b8ad06e0-b964-46b3-9a47-ac040ca7b2b2');\n",
              "          const dataTable =\n",
              "            await google.colab.kernel.invokeFunction('convertToInteractive',\n",
              "                                                     [key], {});\n",
              "          if (!dataTable) return;\n",
              "\n",
              "          const docLinkHtml = 'Like what you see? Visit the ' +\n",
              "            '<a target=\"_blank\" href=https://colab.research.google.com/notebooks/data_table.ipynb>data table notebook</a>'\n",
              "            + ' to learn more about interactive tables.';\n",
              "          element.innerHTML = '';\n",
              "          dataTable['output_type'] = 'display_data';\n",
              "          await google.colab.output.renderOutput(dataTable, element);\n",
              "          const docLink = document.createElement('div');\n",
              "          docLink.innerHTML = docLinkHtml;\n",
              "          element.appendChild(docLink);\n",
              "        }\n",
              "      </script>\n",
              "    </div>\n",
              "  </div>\n",
              "  "
            ]
          },
          "metadata": {},
          "execution_count": 247
        }
      ]
    },
    {
      "cell_type": "code",
      "source": [
        "df_total = df_win.merge(df_loss, left_on='name', right_on='name')\n",
        "df_total[df_total['name'] == 'Roger Federer']"
      ],
      "metadata": {
        "colab": {
          "base_uri": "https://localhost:8080/",
          "height": 81
        },
        "id": "UXdqOv6psvrB",
        "outputId": "8cf6850a-0052-4295-d8be-495fc9fde218"
      },
      "execution_count": 248,
      "outputs": [
        {
          "output_type": "execute_result",
          "data": {
            "text/plain": [
              "               name   win  loss\n",
              "2435  Roger Federer  1265   280"
            ],
            "text/html": [
              "\n",
              "  <div id=\"df-1755fead-9378-411e-a3a9-8759963d9ec1\">\n",
              "    <div class=\"colab-df-container\">\n",
              "      <div>\n",
              "<style scoped>\n",
              "    .dataframe tbody tr th:only-of-type {\n",
              "        vertical-align: middle;\n",
              "    }\n",
              "\n",
              "    .dataframe tbody tr th {\n",
              "        vertical-align: top;\n",
              "    }\n",
              "\n",
              "    .dataframe thead th {\n",
              "        text-align: right;\n",
              "    }\n",
              "</style>\n",
              "<table border=\"1\" class=\"dataframe\">\n",
              "  <thead>\n",
              "    <tr style=\"text-align: right;\">\n",
              "      <th></th>\n",
              "      <th>name</th>\n",
              "      <th>win</th>\n",
              "      <th>loss</th>\n",
              "    </tr>\n",
              "  </thead>\n",
              "  <tbody>\n",
              "    <tr>\n",
              "      <th>2435</th>\n",
              "      <td>Roger Federer</td>\n",
              "      <td>1265</td>\n",
              "      <td>280</td>\n",
              "    </tr>\n",
              "  </tbody>\n",
              "</table>\n",
              "</div>\n",
              "      <button class=\"colab-df-convert\" onclick=\"convertToInteractive('df-1755fead-9378-411e-a3a9-8759963d9ec1')\"\n",
              "              title=\"Convert this dataframe to an interactive table.\"\n",
              "              style=\"display:none;\">\n",
              "        \n",
              "  <svg xmlns=\"http://www.w3.org/2000/svg\" height=\"24px\"viewBox=\"0 0 24 24\"\n",
              "       width=\"24px\">\n",
              "    <path d=\"M0 0h24v24H0V0z\" fill=\"none\"/>\n",
              "    <path d=\"M18.56 5.44l.94 2.06.94-2.06 2.06-.94-2.06-.94-.94-2.06-.94 2.06-2.06.94zm-11 1L8.5 8.5l.94-2.06 2.06-.94-2.06-.94L8.5 2.5l-.94 2.06-2.06.94zm10 10l.94 2.06.94-2.06 2.06-.94-2.06-.94-.94-2.06-.94 2.06-2.06.94z\"/><path d=\"M17.41 7.96l-1.37-1.37c-.4-.4-.92-.59-1.43-.59-.52 0-1.04.2-1.43.59L10.3 9.45l-7.72 7.72c-.78.78-.78 2.05 0 2.83L4 21.41c.39.39.9.59 1.41.59.51 0 1.02-.2 1.41-.59l7.78-7.78 2.81-2.81c.8-.78.8-2.07 0-2.86zM5.41 20L4 18.59l7.72-7.72 1.47 1.35L5.41 20z\"/>\n",
              "  </svg>\n",
              "      </button>\n",
              "      \n",
              "  <style>\n",
              "    .colab-df-container {\n",
              "      display:flex;\n",
              "      flex-wrap:wrap;\n",
              "      gap: 12px;\n",
              "    }\n",
              "\n",
              "    .colab-df-convert {\n",
              "      background-color: #E8F0FE;\n",
              "      border: none;\n",
              "      border-radius: 50%;\n",
              "      cursor: pointer;\n",
              "      display: none;\n",
              "      fill: #1967D2;\n",
              "      height: 32px;\n",
              "      padding: 0 0 0 0;\n",
              "      width: 32px;\n",
              "    }\n",
              "\n",
              "    .colab-df-convert:hover {\n",
              "      background-color: #E2EBFA;\n",
              "      box-shadow: 0px 1px 2px rgba(60, 64, 67, 0.3), 0px 1px 3px 1px rgba(60, 64, 67, 0.15);\n",
              "      fill: #174EA6;\n",
              "    }\n",
              "\n",
              "    [theme=dark] .colab-df-convert {\n",
              "      background-color: #3B4455;\n",
              "      fill: #D2E3FC;\n",
              "    }\n",
              "\n",
              "    [theme=dark] .colab-df-convert:hover {\n",
              "      background-color: #434B5C;\n",
              "      box-shadow: 0px 1px 3px 1px rgba(0, 0, 0, 0.15);\n",
              "      filter: drop-shadow(0px 1px 2px rgba(0, 0, 0, 0.3));\n",
              "      fill: #FFFFFF;\n",
              "    }\n",
              "  </style>\n",
              "\n",
              "      <script>\n",
              "        const buttonEl =\n",
              "          document.querySelector('#df-1755fead-9378-411e-a3a9-8759963d9ec1 button.colab-df-convert');\n",
              "        buttonEl.style.display =\n",
              "          google.colab.kernel.accessAllowed ? 'block' : 'none';\n",
              "\n",
              "        async function convertToInteractive(key) {\n",
              "          const element = document.querySelector('#df-1755fead-9378-411e-a3a9-8759963d9ec1');\n",
              "          const dataTable =\n",
              "            await google.colab.kernel.invokeFunction('convertToInteractive',\n",
              "                                                     [key], {});\n",
              "          if (!dataTable) return;\n",
              "\n",
              "          const docLinkHtml = 'Like what you see? Visit the ' +\n",
              "            '<a target=\"_blank\" href=https://colab.research.google.com/notebooks/data_table.ipynb>data table notebook</a>'\n",
              "            + ' to learn more about interactive tables.';\n",
              "          element.innerHTML = '';\n",
              "          dataTable['output_type'] = 'display_data';\n",
              "          await google.colab.output.renderOutput(dataTable, element);\n",
              "          const docLink = document.createElement('div');\n",
              "          docLink.innerHTML = docLinkHtml;\n",
              "          element.appendChild(docLink);\n",
              "        }\n",
              "      </script>\n",
              "    </div>\n",
              "  </div>\n",
              "  "
            ]
          },
          "metadata": {},
          "execution_count": 248
        }
      ]
    },
    {
      "cell_type": "code",
      "source": [
        "df_total['matches'] = df_total['win'] + df_total['loss']\n",
        "df_total['%win'] = (df_total['win']/df_total['matches']) * 100\n",
        "df_total.head()"
      ],
      "metadata": {
        "colab": {
          "base_uri": "https://localhost:8080/",
          "height": 206
        },
        "id": "2xurx11utOb2",
        "outputId": "866703f7-bb07-497c-a25c-8cf7bfb41cae"
      },
      "execution_count": 249,
      "outputs": [
        {
          "output_type": "execute_result",
          "data": {
            "text/plain": [
              "                      name  win  loss  matches       %win\n",
              "0              A Galbraith    1     1        2  50.000000\n",
              "1         Aaron Krickstein  395   258      653  60.490046\n",
              "2  Abd Hazli Bin Zainuddin    1     3        4  25.000000\n",
              "3      Abdel Majid Soudani    2     4        6  33.333333\n",
              "4     Abdelhak Hameurlaine    3    12       15  20.000000"
            ],
            "text/html": [
              "\n",
              "  <div id=\"df-1a03ece9-5db7-4e38-94de-15e51c84d6c7\">\n",
              "    <div class=\"colab-df-container\">\n",
              "      <div>\n",
              "<style scoped>\n",
              "    .dataframe tbody tr th:only-of-type {\n",
              "        vertical-align: middle;\n",
              "    }\n",
              "\n",
              "    .dataframe tbody tr th {\n",
              "        vertical-align: top;\n",
              "    }\n",
              "\n",
              "    .dataframe thead th {\n",
              "        text-align: right;\n",
              "    }\n",
              "</style>\n",
              "<table border=\"1\" class=\"dataframe\">\n",
              "  <thead>\n",
              "    <tr style=\"text-align: right;\">\n",
              "      <th></th>\n",
              "      <th>name</th>\n",
              "      <th>win</th>\n",
              "      <th>loss</th>\n",
              "      <th>matches</th>\n",
              "      <th>%win</th>\n",
              "    </tr>\n",
              "  </thead>\n",
              "  <tbody>\n",
              "    <tr>\n",
              "      <th>0</th>\n",
              "      <td>A Galbraith</td>\n",
              "      <td>1</td>\n",
              "      <td>1</td>\n",
              "      <td>2</td>\n",
              "      <td>50.000000</td>\n",
              "    </tr>\n",
              "    <tr>\n",
              "      <th>1</th>\n",
              "      <td>Aaron Krickstein</td>\n",
              "      <td>395</td>\n",
              "      <td>258</td>\n",
              "      <td>653</td>\n",
              "      <td>60.490046</td>\n",
              "    </tr>\n",
              "    <tr>\n",
              "      <th>2</th>\n",
              "      <td>Abd Hazli Bin Zainuddin</td>\n",
              "      <td>1</td>\n",
              "      <td>3</td>\n",
              "      <td>4</td>\n",
              "      <td>25.000000</td>\n",
              "    </tr>\n",
              "    <tr>\n",
              "      <th>3</th>\n",
              "      <td>Abdel Majid Soudani</td>\n",
              "      <td>2</td>\n",
              "      <td>4</td>\n",
              "      <td>6</td>\n",
              "      <td>33.333333</td>\n",
              "    </tr>\n",
              "    <tr>\n",
              "      <th>4</th>\n",
              "      <td>Abdelhak Hameurlaine</td>\n",
              "      <td>3</td>\n",
              "      <td>12</td>\n",
              "      <td>15</td>\n",
              "      <td>20.000000</td>\n",
              "    </tr>\n",
              "  </tbody>\n",
              "</table>\n",
              "</div>\n",
              "      <button class=\"colab-df-convert\" onclick=\"convertToInteractive('df-1a03ece9-5db7-4e38-94de-15e51c84d6c7')\"\n",
              "              title=\"Convert this dataframe to an interactive table.\"\n",
              "              style=\"display:none;\">\n",
              "        \n",
              "  <svg xmlns=\"http://www.w3.org/2000/svg\" height=\"24px\"viewBox=\"0 0 24 24\"\n",
              "       width=\"24px\">\n",
              "    <path d=\"M0 0h24v24H0V0z\" fill=\"none\"/>\n",
              "    <path d=\"M18.56 5.44l.94 2.06.94-2.06 2.06-.94-2.06-.94-.94-2.06-.94 2.06-2.06.94zm-11 1L8.5 8.5l.94-2.06 2.06-.94-2.06-.94L8.5 2.5l-.94 2.06-2.06.94zm10 10l.94 2.06.94-2.06 2.06-.94-2.06-.94-.94-2.06-.94 2.06-2.06.94z\"/><path d=\"M17.41 7.96l-1.37-1.37c-.4-.4-.92-.59-1.43-.59-.52 0-1.04.2-1.43.59L10.3 9.45l-7.72 7.72c-.78.78-.78 2.05 0 2.83L4 21.41c.39.39.9.59 1.41.59.51 0 1.02-.2 1.41-.59l7.78-7.78 2.81-2.81c.8-.78.8-2.07 0-2.86zM5.41 20L4 18.59l7.72-7.72 1.47 1.35L5.41 20z\"/>\n",
              "  </svg>\n",
              "      </button>\n",
              "      \n",
              "  <style>\n",
              "    .colab-df-container {\n",
              "      display:flex;\n",
              "      flex-wrap:wrap;\n",
              "      gap: 12px;\n",
              "    }\n",
              "\n",
              "    .colab-df-convert {\n",
              "      background-color: #E8F0FE;\n",
              "      border: none;\n",
              "      border-radius: 50%;\n",
              "      cursor: pointer;\n",
              "      display: none;\n",
              "      fill: #1967D2;\n",
              "      height: 32px;\n",
              "      padding: 0 0 0 0;\n",
              "      width: 32px;\n",
              "    }\n",
              "\n",
              "    .colab-df-convert:hover {\n",
              "      background-color: #E2EBFA;\n",
              "      box-shadow: 0px 1px 2px rgba(60, 64, 67, 0.3), 0px 1px 3px 1px rgba(60, 64, 67, 0.15);\n",
              "      fill: #174EA6;\n",
              "    }\n",
              "\n",
              "    [theme=dark] .colab-df-convert {\n",
              "      background-color: #3B4455;\n",
              "      fill: #D2E3FC;\n",
              "    }\n",
              "\n",
              "    [theme=dark] .colab-df-convert:hover {\n",
              "      background-color: #434B5C;\n",
              "      box-shadow: 0px 1px 3px 1px rgba(0, 0, 0, 0.15);\n",
              "      filter: drop-shadow(0px 1px 2px rgba(0, 0, 0, 0.3));\n",
              "      fill: #FFFFFF;\n",
              "    }\n",
              "  </style>\n",
              "\n",
              "      <script>\n",
              "        const buttonEl =\n",
              "          document.querySelector('#df-1a03ece9-5db7-4e38-94de-15e51c84d6c7 button.colab-df-convert');\n",
              "        buttonEl.style.display =\n",
              "          google.colab.kernel.accessAllowed ? 'block' : 'none';\n",
              "\n",
              "        async function convertToInteractive(key) {\n",
              "          const element = document.querySelector('#df-1a03ece9-5db7-4e38-94de-15e51c84d6c7');\n",
              "          const dataTable =\n",
              "            await google.colab.kernel.invokeFunction('convertToInteractive',\n",
              "                                                     [key], {});\n",
              "          if (!dataTable) return;\n",
              "\n",
              "          const docLinkHtml = 'Like what you see? Visit the ' +\n",
              "            '<a target=\"_blank\" href=https://colab.research.google.com/notebooks/data_table.ipynb>data table notebook</a>'\n",
              "            + ' to learn more about interactive tables.';\n",
              "          element.innerHTML = '';\n",
              "          dataTable['output_type'] = 'display_data';\n",
              "          await google.colab.output.renderOutput(dataTable, element);\n",
              "          const docLink = document.createElement('div');\n",
              "          docLink.innerHTML = docLinkHtml;\n",
              "          element.appendChild(docLink);\n",
              "        }\n",
              "      </script>\n",
              "    </div>\n",
              "  </div>\n",
              "  "
            ]
          },
          "metadata": {},
          "execution_count": 249
        }
      ]
    },
    {
      "cell_type": "code",
      "source": [
        "# сделаем тоже самое для матчей, где разница была более 20 рангов между соперниками\n",
        "df_20 = df[df['delta_rank'] > 20]\n",
        "df_20.head()"
      ],
      "metadata": {
        "colab": {
          "base_uri": "https://localhost:8080/",
          "height": 299
        },
        "id": "IQOTR-vJuG1W",
        "outputId": "90d377ee-eba1-47f1-e4e3-91e5d12c9c2e"
      },
      "execution_count": 251,
      "outputs": [
        {
          "output_type": "execute_result",
          "data": {
            "text/plain": [
              "   tourney_id tourney_name surface  draw_size tourney_level tourney_date  \\\n",
              "0   2017-M020     Brisbane    Hard         32             A   2017-01-02   \n",
              "1   2017-M020     Brisbane    Hard         32             A   2017-01-02   \n",
              "4   2017-M020     Brisbane    Hard         32             A   2017-01-02   \n",
              "9   2017-M020     Brisbane    Hard         32             A   2017-01-02   \n",
              "10  2017-M020     Brisbane    Hard         32             A   2017-01-02   \n",
              "\n",
              "    match_num  winner_id winner_seed winner_entry  ... l_bpFaced winner_rank  \\\n",
              "0         271     104678         NaN          NaN  ...      10.0        29.0   \n",
              "1         272     106378         NaN          NaN  ...      10.0        45.0   \n",
              "4         276     111442         NaN           WC  ...      15.0        79.0   \n",
              "9         282     104745         5.0          NaN  ...       4.0         9.0   \n",
              "10        283     104999         NaN          NaN  ...       3.0        51.0   \n",
              "\n",
              "    winner_rank_points loser_rank  loser_rank_points  year sets_num  \\\n",
              "0               1385.0      100.0              604.0  2017        2   \n",
              "1               1001.0      141.0              443.0  2017        2   \n",
              "4                689.0      160.0              372.0  2017        2   \n",
              "9               3300.0       62.0              760.0  2017        2   \n",
              "10               874.0      351.0              132.0  2017        2   \n",
              "\n",
              "   w_bpSaved% l_bpSaved% delta_rank  \n",
              "0   25.000000  37.500000       71.0  \n",
              "1   40.000000  47.368421       96.0  \n",
              "4   33.333333  40.000000       81.0  \n",
              "9   40.000000   0.000000       53.0  \n",
              "10  50.000000   0.000000      300.0  \n",
              "\n",
              "[5 rows x 54 columns]"
            ],
            "text/html": [
              "\n",
              "  <div id=\"df-7e05cc54-c215-4ff0-8575-ad444ab75038\">\n",
              "    <div class=\"colab-df-container\">\n",
              "      <div>\n",
              "<style scoped>\n",
              "    .dataframe tbody tr th:only-of-type {\n",
              "        vertical-align: middle;\n",
              "    }\n",
              "\n",
              "    .dataframe tbody tr th {\n",
              "        vertical-align: top;\n",
              "    }\n",
              "\n",
              "    .dataframe thead th {\n",
              "        text-align: right;\n",
              "    }\n",
              "</style>\n",
              "<table border=\"1\" class=\"dataframe\">\n",
              "  <thead>\n",
              "    <tr style=\"text-align: right;\">\n",
              "      <th></th>\n",
              "      <th>tourney_id</th>\n",
              "      <th>tourney_name</th>\n",
              "      <th>surface</th>\n",
              "      <th>draw_size</th>\n",
              "      <th>tourney_level</th>\n",
              "      <th>tourney_date</th>\n",
              "      <th>match_num</th>\n",
              "      <th>winner_id</th>\n",
              "      <th>winner_seed</th>\n",
              "      <th>winner_entry</th>\n",
              "      <th>...</th>\n",
              "      <th>l_bpFaced</th>\n",
              "      <th>winner_rank</th>\n",
              "      <th>winner_rank_points</th>\n",
              "      <th>loser_rank</th>\n",
              "      <th>loser_rank_points</th>\n",
              "      <th>year</th>\n",
              "      <th>sets_num</th>\n",
              "      <th>w_bpSaved%</th>\n",
              "      <th>l_bpSaved%</th>\n",
              "      <th>delta_rank</th>\n",
              "    </tr>\n",
              "  </thead>\n",
              "  <tbody>\n",
              "    <tr>\n",
              "      <th>0</th>\n",
              "      <td>2017-M020</td>\n",
              "      <td>Brisbane</td>\n",
              "      <td>Hard</td>\n",
              "      <td>32</td>\n",
              "      <td>A</td>\n",
              "      <td>2017-01-02</td>\n",
              "      <td>271</td>\n",
              "      <td>104678</td>\n",
              "      <td>NaN</td>\n",
              "      <td>NaN</td>\n",
              "      <td>...</td>\n",
              "      <td>10.0</td>\n",
              "      <td>29.0</td>\n",
              "      <td>1385.0</td>\n",
              "      <td>100.0</td>\n",
              "      <td>604.0</td>\n",
              "      <td>2017</td>\n",
              "      <td>2</td>\n",
              "      <td>25.000000</td>\n",
              "      <td>37.500000</td>\n",
              "      <td>71.0</td>\n",
              "    </tr>\n",
              "    <tr>\n",
              "      <th>1</th>\n",
              "      <td>2017-M020</td>\n",
              "      <td>Brisbane</td>\n",
              "      <td>Hard</td>\n",
              "      <td>32</td>\n",
              "      <td>A</td>\n",
              "      <td>2017-01-02</td>\n",
              "      <td>272</td>\n",
              "      <td>106378</td>\n",
              "      <td>NaN</td>\n",
              "      <td>NaN</td>\n",
              "      <td>...</td>\n",
              "      <td>10.0</td>\n",
              "      <td>45.0</td>\n",
              "      <td>1001.0</td>\n",
              "      <td>141.0</td>\n",
              "      <td>443.0</td>\n",
              "      <td>2017</td>\n",
              "      <td>2</td>\n",
              "      <td>40.000000</td>\n",
              "      <td>47.368421</td>\n",
              "      <td>96.0</td>\n",
              "    </tr>\n",
              "    <tr>\n",
              "      <th>4</th>\n",
              "      <td>2017-M020</td>\n",
              "      <td>Brisbane</td>\n",
              "      <td>Hard</td>\n",
              "      <td>32</td>\n",
              "      <td>A</td>\n",
              "      <td>2017-01-02</td>\n",
              "      <td>276</td>\n",
              "      <td>111442</td>\n",
              "      <td>NaN</td>\n",
              "      <td>WC</td>\n",
              "      <td>...</td>\n",
              "      <td>15.0</td>\n",
              "      <td>79.0</td>\n",
              "      <td>689.0</td>\n",
              "      <td>160.0</td>\n",
              "      <td>372.0</td>\n",
              "      <td>2017</td>\n",
              "      <td>2</td>\n",
              "      <td>33.333333</td>\n",
              "      <td>40.000000</td>\n",
              "      <td>81.0</td>\n",
              "    </tr>\n",
              "    <tr>\n",
              "      <th>9</th>\n",
              "      <td>2017-M020</td>\n",
              "      <td>Brisbane</td>\n",
              "      <td>Hard</td>\n",
              "      <td>32</td>\n",
              "      <td>A</td>\n",
              "      <td>2017-01-02</td>\n",
              "      <td>282</td>\n",
              "      <td>104745</td>\n",
              "      <td>5.0</td>\n",
              "      <td>NaN</td>\n",
              "      <td>...</td>\n",
              "      <td>4.0</td>\n",
              "      <td>9.0</td>\n",
              "      <td>3300.0</td>\n",
              "      <td>62.0</td>\n",
              "      <td>760.0</td>\n",
              "      <td>2017</td>\n",
              "      <td>2</td>\n",
              "      <td>40.000000</td>\n",
              "      <td>0.000000</td>\n",
              "      <td>53.0</td>\n",
              "    </tr>\n",
              "    <tr>\n",
              "      <th>10</th>\n",
              "      <td>2017-M020</td>\n",
              "      <td>Brisbane</td>\n",
              "      <td>Hard</td>\n",
              "      <td>32</td>\n",
              "      <td>A</td>\n",
              "      <td>2017-01-02</td>\n",
              "      <td>283</td>\n",
              "      <td>104999</td>\n",
              "      <td>NaN</td>\n",
              "      <td>NaN</td>\n",
              "      <td>...</td>\n",
              "      <td>3.0</td>\n",
              "      <td>51.0</td>\n",
              "      <td>874.0</td>\n",
              "      <td>351.0</td>\n",
              "      <td>132.0</td>\n",
              "      <td>2017</td>\n",
              "      <td>2</td>\n",
              "      <td>50.000000</td>\n",
              "      <td>0.000000</td>\n",
              "      <td>300.0</td>\n",
              "    </tr>\n",
              "  </tbody>\n",
              "</table>\n",
              "<p>5 rows × 54 columns</p>\n",
              "</div>\n",
              "      <button class=\"colab-df-convert\" onclick=\"convertToInteractive('df-7e05cc54-c215-4ff0-8575-ad444ab75038')\"\n",
              "              title=\"Convert this dataframe to an interactive table.\"\n",
              "              style=\"display:none;\">\n",
              "        \n",
              "  <svg xmlns=\"http://www.w3.org/2000/svg\" height=\"24px\"viewBox=\"0 0 24 24\"\n",
              "       width=\"24px\">\n",
              "    <path d=\"M0 0h24v24H0V0z\" fill=\"none\"/>\n",
              "    <path d=\"M18.56 5.44l.94 2.06.94-2.06 2.06-.94-2.06-.94-.94-2.06-.94 2.06-2.06.94zm-11 1L8.5 8.5l.94-2.06 2.06-.94-2.06-.94L8.5 2.5l-.94 2.06-2.06.94zm10 10l.94 2.06.94-2.06 2.06-.94-2.06-.94-.94-2.06-.94 2.06-2.06.94z\"/><path d=\"M17.41 7.96l-1.37-1.37c-.4-.4-.92-.59-1.43-.59-.52 0-1.04.2-1.43.59L10.3 9.45l-7.72 7.72c-.78.78-.78 2.05 0 2.83L4 21.41c.39.39.9.59 1.41.59.51 0 1.02-.2 1.41-.59l7.78-7.78 2.81-2.81c.8-.78.8-2.07 0-2.86zM5.41 20L4 18.59l7.72-7.72 1.47 1.35L5.41 20z\"/>\n",
              "  </svg>\n",
              "      </button>\n",
              "      \n",
              "  <style>\n",
              "    .colab-df-container {\n",
              "      display:flex;\n",
              "      flex-wrap:wrap;\n",
              "      gap: 12px;\n",
              "    }\n",
              "\n",
              "    .colab-df-convert {\n",
              "      background-color: #E8F0FE;\n",
              "      border: none;\n",
              "      border-radius: 50%;\n",
              "      cursor: pointer;\n",
              "      display: none;\n",
              "      fill: #1967D2;\n",
              "      height: 32px;\n",
              "      padding: 0 0 0 0;\n",
              "      width: 32px;\n",
              "    }\n",
              "\n",
              "    .colab-df-convert:hover {\n",
              "      background-color: #E2EBFA;\n",
              "      box-shadow: 0px 1px 2px rgba(60, 64, 67, 0.3), 0px 1px 3px 1px rgba(60, 64, 67, 0.15);\n",
              "      fill: #174EA6;\n",
              "    }\n",
              "\n",
              "    [theme=dark] .colab-df-convert {\n",
              "      background-color: #3B4455;\n",
              "      fill: #D2E3FC;\n",
              "    }\n",
              "\n",
              "    [theme=dark] .colab-df-convert:hover {\n",
              "      background-color: #434B5C;\n",
              "      box-shadow: 0px 1px 3px 1px rgba(0, 0, 0, 0.15);\n",
              "      filter: drop-shadow(0px 1px 2px rgba(0, 0, 0, 0.3));\n",
              "      fill: #FFFFFF;\n",
              "    }\n",
              "  </style>\n",
              "\n",
              "      <script>\n",
              "        const buttonEl =\n",
              "          document.querySelector('#df-7e05cc54-c215-4ff0-8575-ad444ab75038 button.colab-df-convert');\n",
              "        buttonEl.style.display =\n",
              "          google.colab.kernel.accessAllowed ? 'block' : 'none';\n",
              "\n",
              "        async function convertToInteractive(key) {\n",
              "          const element = document.querySelector('#df-7e05cc54-c215-4ff0-8575-ad444ab75038');\n",
              "          const dataTable =\n",
              "            await google.colab.kernel.invokeFunction('convertToInteractive',\n",
              "                                                     [key], {});\n",
              "          if (!dataTable) return;\n",
              "\n",
              "          const docLinkHtml = 'Like what you see? Visit the ' +\n",
              "            '<a target=\"_blank\" href=https://colab.research.google.com/notebooks/data_table.ipynb>data table notebook</a>'\n",
              "            + ' to learn more about interactive tables.';\n",
              "          element.innerHTML = '';\n",
              "          dataTable['output_type'] = 'display_data';\n",
              "          await google.colab.output.renderOutput(dataTable, element);\n",
              "          const docLink = document.createElement('div');\n",
              "          docLink.innerHTML = docLinkHtml;\n",
              "          element.appendChild(docLink);\n",
              "        }\n",
              "      </script>\n",
              "    </div>\n",
              "  </div>\n",
              "  "
            ]
          },
          "metadata": {},
          "execution_count": 251
        }
      ]
    },
    {
      "cell_type": "code",
      "source": [
        "df_win_20 = df_20.groupby(['winner_name'])['tourney_id'].count().reset_index()\n",
        "df_win_20 = df_win_20.rename(columns={'winner_name': 'name', 'tourney_id': 'win'})"
      ],
      "metadata": {
        "id": "xpC3XXAMuhBS"
      },
      "execution_count": 252,
      "outputs": []
    },
    {
      "cell_type": "code",
      "source": [
        "df['delta_rank'].unique()"
      ],
      "metadata": {
        "colab": {
          "base_uri": "https://localhost:8080/"
        },
        "id": "x1TbpdDHApxW",
        "outputId": "956f4f52-668c-49d5-ba83-321080823eea"
      },
      "execution_count": 274,
      "outputs": [
        {
          "output_type": "execute_result",
          "data": {
            "text/plain": [
              "array([  71.,   96.,   10., ..., -830.,  914.,  984.])"
            ]
          },
          "metadata": {},
          "execution_count": 274
        }
      ]
    },
    {
      "cell_type": "code",
      "source": [
        "df_loss_20 = df_20.groupby(['loser_name'])['tourney_id'].count().reset_index()\n",
        "df_loss_20 = df_loss_20.rename(columns={'loser_name': 'name', 'tourney_id': 'loss'})"
      ],
      "metadata": {
        "id": "PtTyOOnLutOL"
      },
      "execution_count": 253,
      "outputs": []
    },
    {
      "cell_type": "code",
      "source": [
        "df_total_20 = df_win_20.merge(df_loss_20, left_on='name', right_on='name')\n",
        "df_total_20[df_total_20['name'] == 'Roger Federer']"
      ],
      "metadata": {
        "colab": {
          "base_uri": "https://localhost:8080/",
          "height": 81
        },
        "id": "MS7R3G9Tu0_m",
        "outputId": "ad7b2560-fccc-47ab-c150-606b76d2d25e"
      },
      "execution_count": 254,
      "outputs": [
        {
          "output_type": "execute_result",
          "data": {
            "text/plain": [
              "               name  win  loss\n",
              "1366  Roger Federer  802    26"
            ],
            "text/html": [
              "\n",
              "  <div id=\"df-41de9953-8c2c-4ced-b56e-5fdd1598bf02\">\n",
              "    <div class=\"colab-df-container\">\n",
              "      <div>\n",
              "<style scoped>\n",
              "    .dataframe tbody tr th:only-of-type {\n",
              "        vertical-align: middle;\n",
              "    }\n",
              "\n",
              "    .dataframe tbody tr th {\n",
              "        vertical-align: top;\n",
              "    }\n",
              "\n",
              "    .dataframe thead th {\n",
              "        text-align: right;\n",
              "    }\n",
              "</style>\n",
              "<table border=\"1\" class=\"dataframe\">\n",
              "  <thead>\n",
              "    <tr style=\"text-align: right;\">\n",
              "      <th></th>\n",
              "      <th>name</th>\n",
              "      <th>win</th>\n",
              "      <th>loss</th>\n",
              "    </tr>\n",
              "  </thead>\n",
              "  <tbody>\n",
              "    <tr>\n",
              "      <th>1366</th>\n",
              "      <td>Roger Federer</td>\n",
              "      <td>802</td>\n",
              "      <td>26</td>\n",
              "    </tr>\n",
              "  </tbody>\n",
              "</table>\n",
              "</div>\n",
              "      <button class=\"colab-df-convert\" onclick=\"convertToInteractive('df-41de9953-8c2c-4ced-b56e-5fdd1598bf02')\"\n",
              "              title=\"Convert this dataframe to an interactive table.\"\n",
              "              style=\"display:none;\">\n",
              "        \n",
              "  <svg xmlns=\"http://www.w3.org/2000/svg\" height=\"24px\"viewBox=\"0 0 24 24\"\n",
              "       width=\"24px\">\n",
              "    <path d=\"M0 0h24v24H0V0z\" fill=\"none\"/>\n",
              "    <path d=\"M18.56 5.44l.94 2.06.94-2.06 2.06-.94-2.06-.94-.94-2.06-.94 2.06-2.06.94zm-11 1L8.5 8.5l.94-2.06 2.06-.94-2.06-.94L8.5 2.5l-.94 2.06-2.06.94zm10 10l.94 2.06.94-2.06 2.06-.94-2.06-.94-.94-2.06-.94 2.06-2.06.94z\"/><path d=\"M17.41 7.96l-1.37-1.37c-.4-.4-.92-.59-1.43-.59-.52 0-1.04.2-1.43.59L10.3 9.45l-7.72 7.72c-.78.78-.78 2.05 0 2.83L4 21.41c.39.39.9.59 1.41.59.51 0 1.02-.2 1.41-.59l7.78-7.78 2.81-2.81c.8-.78.8-2.07 0-2.86zM5.41 20L4 18.59l7.72-7.72 1.47 1.35L5.41 20z\"/>\n",
              "  </svg>\n",
              "      </button>\n",
              "      \n",
              "  <style>\n",
              "    .colab-df-container {\n",
              "      display:flex;\n",
              "      flex-wrap:wrap;\n",
              "      gap: 12px;\n",
              "    }\n",
              "\n",
              "    .colab-df-convert {\n",
              "      background-color: #E8F0FE;\n",
              "      border: none;\n",
              "      border-radius: 50%;\n",
              "      cursor: pointer;\n",
              "      display: none;\n",
              "      fill: #1967D2;\n",
              "      height: 32px;\n",
              "      padding: 0 0 0 0;\n",
              "      width: 32px;\n",
              "    }\n",
              "\n",
              "    .colab-df-convert:hover {\n",
              "      background-color: #E2EBFA;\n",
              "      box-shadow: 0px 1px 2px rgba(60, 64, 67, 0.3), 0px 1px 3px 1px rgba(60, 64, 67, 0.15);\n",
              "      fill: #174EA6;\n",
              "    }\n",
              "\n",
              "    [theme=dark] .colab-df-convert {\n",
              "      background-color: #3B4455;\n",
              "      fill: #D2E3FC;\n",
              "    }\n",
              "\n",
              "    [theme=dark] .colab-df-convert:hover {\n",
              "      background-color: #434B5C;\n",
              "      box-shadow: 0px 1px 3px 1px rgba(0, 0, 0, 0.15);\n",
              "      filter: drop-shadow(0px 1px 2px rgba(0, 0, 0, 0.3));\n",
              "      fill: #FFFFFF;\n",
              "    }\n",
              "  </style>\n",
              "\n",
              "      <script>\n",
              "        const buttonEl =\n",
              "          document.querySelector('#df-41de9953-8c2c-4ced-b56e-5fdd1598bf02 button.colab-df-convert');\n",
              "        buttonEl.style.display =\n",
              "          google.colab.kernel.accessAllowed ? 'block' : 'none';\n",
              "\n",
              "        async function convertToInteractive(key) {\n",
              "          const element = document.querySelector('#df-41de9953-8c2c-4ced-b56e-5fdd1598bf02');\n",
              "          const dataTable =\n",
              "            await google.colab.kernel.invokeFunction('convertToInteractive',\n",
              "                                                     [key], {});\n",
              "          if (!dataTable) return;\n",
              "\n",
              "          const docLinkHtml = 'Like what you see? Visit the ' +\n",
              "            '<a target=\"_blank\" href=https://colab.research.google.com/notebooks/data_table.ipynb>data table notebook</a>'\n",
              "            + ' to learn more about interactive tables.';\n",
              "          element.innerHTML = '';\n",
              "          dataTable['output_type'] = 'display_data';\n",
              "          await google.colab.output.renderOutput(dataTable, element);\n",
              "          const docLink = document.createElement('div');\n",
              "          docLink.innerHTML = docLinkHtml;\n",
              "          element.appendChild(docLink);\n",
              "        }\n",
              "      </script>\n",
              "    </div>\n",
              "  </div>\n",
              "  "
            ]
          },
          "metadata": {},
          "execution_count": 254
        }
      ]
    },
    {
      "cell_type": "code",
      "source": [
        "df_total_20['matches'] = df_total_20['win'] + df_total_20['loss']\n",
        "df_total_20['%win'] = (df_total_20['win']/df_total_20['matches']) * 100\n",
        "df_total_20.head()"
      ],
      "metadata": {
        "colab": {
          "base_uri": "https://localhost:8080/",
          "height": 206
        },
        "id": "dHjLbeyvu8kF",
        "outputId": "1da69987-d58d-4130-a8a3-66247832c7cd"
      },
      "execution_count": 255,
      "outputs": [
        {
          "output_type": "execute_result",
          "data": {
            "text/plain": [
              "               name  win  loss  matches       %win\n",
              "0  Aaron Krickstein  256    63      319  80.250784\n",
              "1   Abdullah Maqdas    3     7       10  30.000000\n",
              "2       Adam Chadaj    1     1        2  50.000000\n",
              "3      Adam Kellner    3     4        7  42.857143\n",
              "4        Adam Malik    2     3        5  40.000000"
            ],
            "text/html": [
              "\n",
              "  <div id=\"df-424297e0-eac1-44de-bbbd-f2f243064668\">\n",
              "    <div class=\"colab-df-container\">\n",
              "      <div>\n",
              "<style scoped>\n",
              "    .dataframe tbody tr th:only-of-type {\n",
              "        vertical-align: middle;\n",
              "    }\n",
              "\n",
              "    .dataframe tbody tr th {\n",
              "        vertical-align: top;\n",
              "    }\n",
              "\n",
              "    .dataframe thead th {\n",
              "        text-align: right;\n",
              "    }\n",
              "</style>\n",
              "<table border=\"1\" class=\"dataframe\">\n",
              "  <thead>\n",
              "    <tr style=\"text-align: right;\">\n",
              "      <th></th>\n",
              "      <th>name</th>\n",
              "      <th>win</th>\n",
              "      <th>loss</th>\n",
              "      <th>matches</th>\n",
              "      <th>%win</th>\n",
              "    </tr>\n",
              "  </thead>\n",
              "  <tbody>\n",
              "    <tr>\n",
              "      <th>0</th>\n",
              "      <td>Aaron Krickstein</td>\n",
              "      <td>256</td>\n",
              "      <td>63</td>\n",
              "      <td>319</td>\n",
              "      <td>80.250784</td>\n",
              "    </tr>\n",
              "    <tr>\n",
              "      <th>1</th>\n",
              "      <td>Abdullah Maqdas</td>\n",
              "      <td>3</td>\n",
              "      <td>7</td>\n",
              "      <td>10</td>\n",
              "      <td>30.000000</td>\n",
              "    </tr>\n",
              "    <tr>\n",
              "      <th>2</th>\n",
              "      <td>Adam Chadaj</td>\n",
              "      <td>1</td>\n",
              "      <td>1</td>\n",
              "      <td>2</td>\n",
              "      <td>50.000000</td>\n",
              "    </tr>\n",
              "    <tr>\n",
              "      <th>3</th>\n",
              "      <td>Adam Kellner</td>\n",
              "      <td>3</td>\n",
              "      <td>4</td>\n",
              "      <td>7</td>\n",
              "      <td>42.857143</td>\n",
              "    </tr>\n",
              "    <tr>\n",
              "      <th>4</th>\n",
              "      <td>Adam Malik</td>\n",
              "      <td>2</td>\n",
              "      <td>3</td>\n",
              "      <td>5</td>\n",
              "      <td>40.000000</td>\n",
              "    </tr>\n",
              "  </tbody>\n",
              "</table>\n",
              "</div>\n",
              "      <button class=\"colab-df-convert\" onclick=\"convertToInteractive('df-424297e0-eac1-44de-bbbd-f2f243064668')\"\n",
              "              title=\"Convert this dataframe to an interactive table.\"\n",
              "              style=\"display:none;\">\n",
              "        \n",
              "  <svg xmlns=\"http://www.w3.org/2000/svg\" height=\"24px\"viewBox=\"0 0 24 24\"\n",
              "       width=\"24px\">\n",
              "    <path d=\"M0 0h24v24H0V0z\" fill=\"none\"/>\n",
              "    <path d=\"M18.56 5.44l.94 2.06.94-2.06 2.06-.94-2.06-.94-.94-2.06-.94 2.06-2.06.94zm-11 1L8.5 8.5l.94-2.06 2.06-.94-2.06-.94L8.5 2.5l-.94 2.06-2.06.94zm10 10l.94 2.06.94-2.06 2.06-.94-2.06-.94-.94-2.06-.94 2.06-2.06.94z\"/><path d=\"M17.41 7.96l-1.37-1.37c-.4-.4-.92-.59-1.43-.59-.52 0-1.04.2-1.43.59L10.3 9.45l-7.72 7.72c-.78.78-.78 2.05 0 2.83L4 21.41c.39.39.9.59 1.41.59.51 0 1.02-.2 1.41-.59l7.78-7.78 2.81-2.81c.8-.78.8-2.07 0-2.86zM5.41 20L4 18.59l7.72-7.72 1.47 1.35L5.41 20z\"/>\n",
              "  </svg>\n",
              "      </button>\n",
              "      \n",
              "  <style>\n",
              "    .colab-df-container {\n",
              "      display:flex;\n",
              "      flex-wrap:wrap;\n",
              "      gap: 12px;\n",
              "    }\n",
              "\n",
              "    .colab-df-convert {\n",
              "      background-color: #E8F0FE;\n",
              "      border: none;\n",
              "      border-radius: 50%;\n",
              "      cursor: pointer;\n",
              "      display: none;\n",
              "      fill: #1967D2;\n",
              "      height: 32px;\n",
              "      padding: 0 0 0 0;\n",
              "      width: 32px;\n",
              "    }\n",
              "\n",
              "    .colab-df-convert:hover {\n",
              "      background-color: #E2EBFA;\n",
              "      box-shadow: 0px 1px 2px rgba(60, 64, 67, 0.3), 0px 1px 3px 1px rgba(60, 64, 67, 0.15);\n",
              "      fill: #174EA6;\n",
              "    }\n",
              "\n",
              "    [theme=dark] .colab-df-convert {\n",
              "      background-color: #3B4455;\n",
              "      fill: #D2E3FC;\n",
              "    }\n",
              "\n",
              "    [theme=dark] .colab-df-convert:hover {\n",
              "      background-color: #434B5C;\n",
              "      box-shadow: 0px 1px 3px 1px rgba(0, 0, 0, 0.15);\n",
              "      filter: drop-shadow(0px 1px 2px rgba(0, 0, 0, 0.3));\n",
              "      fill: #FFFFFF;\n",
              "    }\n",
              "  </style>\n",
              "\n",
              "      <script>\n",
              "        const buttonEl =\n",
              "          document.querySelector('#df-424297e0-eac1-44de-bbbd-f2f243064668 button.colab-df-convert');\n",
              "        buttonEl.style.display =\n",
              "          google.colab.kernel.accessAllowed ? 'block' : 'none';\n",
              "\n",
              "        async function convertToInteractive(key) {\n",
              "          const element = document.querySelector('#df-424297e0-eac1-44de-bbbd-f2f243064668');\n",
              "          const dataTable =\n",
              "            await google.colab.kernel.invokeFunction('convertToInteractive',\n",
              "                                                     [key], {});\n",
              "          if (!dataTable) return;\n",
              "\n",
              "          const docLinkHtml = 'Like what you see? Visit the ' +\n",
              "            '<a target=\"_blank\" href=https://colab.research.google.com/notebooks/data_table.ipynb>data table notebook</a>'\n",
              "            + ' to learn more about interactive tables.';\n",
              "          element.innerHTML = '';\n",
              "          dataTable['output_type'] = 'display_data';\n",
              "          await google.colab.output.renderOutput(dataTable, element);\n",
              "          const docLink = document.createElement('div');\n",
              "          docLink.innerHTML = docLinkHtml;\n",
              "          element.appendChild(docLink);\n",
              "        }\n",
              "      </script>\n",
              "    </div>\n",
              "  </div>\n",
              "  "
            ]
          },
          "metadata": {},
          "execution_count": 255
        }
      ]
    },
    {
      "cell_type": "code",
      "source": [
        "sns.displot(df_total['%win']);"
      ],
      "metadata": {
        "colab": {
          "base_uri": "https://localhost:8080/",
          "height": 365
        },
        "id": "oJLK4zrXvEJJ",
        "outputId": "3666d8d6-3f4a-4b6f-e344-49916ecafe9d"
      },
      "execution_count": 256,
      "outputs": [
        {
          "output_type": "display_data",
          "data": {
            "text/plain": [
              "<Figure size 360x360 with 1 Axes>"
            ],
            "image/png": "[encoded data removed]"
          },
          "metadata": {}
        }
      ]
    },
    {
      "cell_type": "code",
      "source": [
        "# очень похоже распределение на нормальное, поэтому проверим еще с помощью qq-plot"
      ],
      "metadata": {
        "id": "g11L7CCg2s1A"
      },
      "execution_count": 257,
      "outputs": []
    },
    {
      "cell_type": "code",
      "source": [
        "fig = sm.qqplot(df_total['%win'], line='45')\n",
        "plt.show()"
      ],
      "metadata": {
        "colab": {
          "base_uri": "https://localhost:8080/",
          "height": 285
        },
        "id": "WnvpCq0-23i3",
        "outputId": "02825e87-5a37-4b94-edfc-b2be2330c104"
      },
      "execution_count": 258,
      "outputs": [
        {
          "output_type": "display_data",
          "data": {
            "text/plain": [
              "<Figure size 432x288 with 1 Axes>"
            ],
            "image/png": "[encoded data removed]"
          },
          "metadata": {}
        }
      ]
    },
    {
      "cell_type": "code",
      "source": [
        "sns.displot(df_total_20['%win']);"
      ],
      "metadata": {
        "colab": {
          "base_uri": "https://localhost:8080/",
          "height": 365
        },
        "id": "Bk0sD2fg2n_0",
        "outputId": "050d6884-7b50-4f3b-b15a-ca2abe34e133"
      },
      "execution_count": 259,
      "outputs": [
        {
          "output_type": "display_data",
          "data": {
            "text/plain": [
              "<Figure size 360x360 with 1 Axes>"
            ],
            "image/png": "[encoded data removed]"
          },
          "metadata": {}
        }
      ]
    },
    {
      "cell_type": "code",
      "source": [
        "fig = sm.qqplot(df_total_20['%win'], line='45')\n",
        "plt.show()"
      ],
      "metadata": {
        "colab": {
          "base_uri": "https://localhost:8080/",
          "height": 285
        },
        "id": "QBDlKFyY23q1",
        "outputId": "3ac750b0-69b8-4fd0-b47a-fb946f63fe53"
      },
      "execution_count": 260,
      "outputs": [
        {
          "output_type": "display_data",
          "data": {
            "text/plain": [
              "<Figure size 432x288 with 1 Axes>"
            ],
            "image/png": "[encoded data removed]"
          },
          "metadata": {}
        }
      ]
    },
    {
      "cell_type": "code",
      "source": [
        "# посмотрим на разницу в боксплотах\n",
        "fig, axes = plt.subplots(1, 2)\n",
        "sns.boxplot(data=df_total, y='%win', ax=axes[0])\n",
        "sns.boxplot(data=df_total_20, y='%win', ax=axes[1])"
      ],
      "metadata": {
        "colab": {
          "base_uri": "https://localhost:8080/",
          "height": 266
        },
        "id": "uYbv0wpB0M_b",
        "outputId": "1262138d-63bb-4307-efd0-3cb1e271c250"
      },
      "execution_count": 261,
      "outputs": [
        {
          "output_type": "execute_result",
          "data": {
            "text/plain": [
              "<matplotlib.axes._subplots.AxesSubplot at 0x7f7e50e34940>"
            ]
          },
          "metadata": {},
          "execution_count": 261
        },
        {
          "output_type": "display_data",
          "data": {
            "text/plain": [
              "<Figure size 432x288 with 2 Axes>"
            ],
            "image/png": "[encoded data removed]"
          },
          "metadata": {}
        }
      ]
    },
    {
      "cell_type": "markdown",
      "source": [
        "Все выборки распределены ненормально.\n",
        "Выборки независимые\n",
        "\n",
        "Для проверки выборк будет использован тест Манна-Уитни https://docs.scipy.org/doc/scipy/reference/generated/scipy.stats.mannwhitneyu.html?highlight=mann#scipy.stats.mannwhitneyu"
      ],
      "metadata": {
        "id": "mj0NvD_C3R_Q"
      }
    },
    {
      "cell_type": "code",
      "source": [
        "_, p = stats.mannwhitneyu(df_total_20['%win'], df_total['%win'], alternative='less')\n",
        "p"
      ],
      "metadata": {
        "colab": {
          "base_uri": "https://localhost:8080/"
        },
        "id": "yVqoNXf_2jB9",
        "outputId": "20133e1b-6f1c-45af-f133-b6d873bea4ee"
      },
      "execution_count": 262,
      "outputs": [
        {
          "output_type": "execute_result",
          "data": {
            "text/plain": [
              "1.9629672561118716e-62"
            ]
          },
          "metadata": {},
          "execution_count": 262
        }
      ]
    },
    {
      "cell_type": "markdown",
      "source": [
        "Таким образом, статистически подтверждено, что если у игрока ранг на 20 пунктов выше соперника, то возможность победить ниже, чем в среднестатистической выборке. "
      ],
      "metadata": {
        "id": "ivDTOE5_4-0y"
      }
    },
    {
      "cell_type": "markdown",
      "source": [
        "б) Если ранг игрока находится в окне +-5 позиций, то вероятность победы будет значительно отличаться от гипотезы из предыдущего случая. Для проверки статистической значимости выборку можно сделать как среднее по годам (например, с 1980 по 2022г.). Подумайте, как правильно сформировать репрезентативную выборку."
      ],
      "metadata": {
        "id": "iFn4_oZC0STO"
      }
    },
    {
      "cell_type": "code",
      "source": [
        "#сделаем тоже самое для матчей, где разница была более 20 рангов между соперниками\n",
        "df_5 = df[abs(df['delta_rank']) <= 5]\n",
        "df_5.head()"
      ],
      "metadata": {
        "colab": {
          "base_uri": "https://localhost:8080/",
          "height": 299
        },
        "id": "UZnON2pW0TDZ",
        "outputId": "883a4b26-7666-4d0d-b14f-8a6a83fbe80c"
      },
      "execution_count": 263,
      "outputs": [
        {
          "output_type": "execute_result",
          "data": {
            "text/plain": [
              "   tourney_id tourney_name surface  draw_size tourney_level tourney_date  \\\n",
              "5   2017-M020     Brisbane    Hard         32             A   2017-01-02   \n",
              "24  2017-M020     Brisbane    Hard         32             A   2017-01-02   \n",
              "27  2017-0891      Chennai    Hard         32             A   2017-01-02   \n",
              "52  2017-0891      Chennai    Hard         32             A   2017-01-02   \n",
              "67  2017-0451         Doha    Hard         32             A   2017-01-02   \n",
              "\n",
              "    match_num  winner_id winner_seed winner_entry  ... l_bpFaced winner_rank  \\\n",
              "5         277     103970         8.0          NaN  ...       9.0        21.0   \n",
              "24        298     105453         3.0          NaN  ...       2.0         5.0   \n",
              "27        271     104297         NaN          NaN  ...      12.0        98.0   \n",
              "52        299     106421         NaN          NaN  ...       7.0        99.0   \n",
              "67        283     104597         NaN          NaN  ...       7.0        44.0   \n",
              "\n",
              "    winner_rank_points loser_rank  loser_rank_points  year sets_num  \\\n",
              "5               1785.0       26.0             1465.0  2017        2   \n",
              "24              4905.0        4.0             5315.0  2017        2   \n",
              "27               613.0       93.0              627.0  2017        3   \n",
              "52               611.0       96.0              616.0  2017        3   \n",
              "67              1013.0       40.0             1090.0  2017        3   \n",
              "\n",
              "   w_bpSaved% l_bpSaved% delta_rank  \n",
              "5   40.000000  35.714286        5.0  \n",
              "24  44.444444   0.000000       -1.0  \n",
              "27  33.333333  42.857143       -5.0  \n",
              "52  40.000000  30.000000       -3.0  \n",
              "67  33.333333  36.363636       -4.0  \n",
              "\n",
              "[5 rows x 54 columns]"
            ],
            "text/html": [
              "\n",
              "  <div id=\"df-9d274ea7-b433-4b9e-b488-8e7b8c896328\">\n",
              "    <div class=\"colab-df-container\">\n",
              "      <div>\n",
              "<style scoped>\n",
              "    .dataframe tbody tr th:only-of-type {\n",
              "        vertical-align: middle;\n",
              "    }\n",
              "\n",
              "    .dataframe tbody tr th {\n",
              "        vertical-align: top;\n",
              "    }\n",
              "\n",
              "    .dataframe thead th {\n",
              "        text-align: right;\n",
              "    }\n",
              "</style>\n",
              "<table border=\"1\" class=\"dataframe\">\n",
              "  <thead>\n",
              "    <tr style=\"text-align: right;\">\n",
              "      <th></th>\n",
              "      <th>tourney_id</th>\n",
              "      <th>tourney_name</th>\n",
              "      <th>surface</th>\n",
              "      <th>draw_size</th>\n",
              "      <th>tourney_level</th>\n",
              "      <th>tourney_date</th>\n",
              "      <th>match_num</th>\n",
              "      <th>winner_id</th>\n",
              "      <th>winner_seed</th>\n",
              "      <th>winner_entry</th>\n",
              "      <th>...</th>\n",
              "      <th>l_bpFaced</th>\n",
              "      <th>winner_rank</th>\n",
              "      <th>winner_rank_points</th>\n",
              "      <th>loser_rank</th>\n",
              "      <th>loser_rank_points</th>\n",
              "      <th>year</th>\n",
              "      <th>sets_num</th>\n",
              "      <th>w_bpSaved%</th>\n",
              "      <th>l_bpSaved%</th>\n",
              "      <th>delta_rank</th>\n",
              "    </tr>\n",
              "  </thead>\n",
              "  <tbody>\n",
              "    <tr>\n",
              "      <th>5</th>\n",
              "      <td>2017-M020</td>\n",
              "      <td>Brisbane</td>\n",
              "      <td>Hard</td>\n",
              "      <td>32</td>\n",
              "      <td>A</td>\n",
              "      <td>2017-01-02</td>\n",
              "      <td>277</td>\n",
              "      <td>103970</td>\n",
              "      <td>8.0</td>\n",
              "      <td>NaN</td>\n",
              "      <td>...</td>\n",
              "      <td>9.0</td>\n",
              "      <td>21.0</td>\n",
              "      <td>1785.0</td>\n",
              "      <td>26.0</td>\n",
              "      <td>1465.0</td>\n",
              "      <td>2017</td>\n",
              "      <td>2</td>\n",
              "      <td>40.000000</td>\n",
              "      <td>35.714286</td>\n",
              "      <td>5.0</td>\n",
              "    </tr>\n",
              "    <tr>\n",
              "      <th>24</th>\n",
              "      <td>2017-M020</td>\n",
              "      <td>Brisbane</td>\n",
              "      <td>Hard</td>\n",
              "      <td>32</td>\n",
              "      <td>A</td>\n",
              "      <td>2017-01-02</td>\n",
              "      <td>298</td>\n",
              "      <td>105453</td>\n",
              "      <td>3.0</td>\n",
              "      <td>NaN</td>\n",
              "      <td>...</td>\n",
              "      <td>2.0</td>\n",
              "      <td>5.0</td>\n",
              "      <td>4905.0</td>\n",
              "      <td>4.0</td>\n",
              "      <td>5315.0</td>\n",
              "      <td>2017</td>\n",
              "      <td>2</td>\n",
              "      <td>44.444444</td>\n",
              "      <td>0.000000</td>\n",
              "      <td>-1.0</td>\n",
              "    </tr>\n",
              "    <tr>\n",
              "      <th>27</th>\n",
              "      <td>2017-0891</td>\n",
              "      <td>Chennai</td>\n",
              "      <td>Hard</td>\n",
              "      <td>32</td>\n",
              "      <td>A</td>\n",
              "      <td>2017-01-02</td>\n",
              "      <td>271</td>\n",
              "      <td>104297</td>\n",
              "      <td>NaN</td>\n",
              "      <td>NaN</td>\n",
              "      <td>...</td>\n",
              "      <td>12.0</td>\n",
              "      <td>98.0</td>\n",
              "      <td>613.0</td>\n",
              "      <td>93.0</td>\n",
              "      <td>627.0</td>\n",
              "      <td>2017</td>\n",
              "      <td>3</td>\n",
              "      <td>33.333333</td>\n",
              "      <td>42.857143</td>\n",
              "      <td>-5.0</td>\n",
              "    </tr>\n",
              "    <tr>\n",
              "      <th>52</th>\n",
              "      <td>2017-0891</td>\n",
              "      <td>Chennai</td>\n",
              "      <td>Hard</td>\n",
              "      <td>32</td>\n",
              "      <td>A</td>\n",
              "      <td>2017-01-02</td>\n",
              "      <td>299</td>\n",
              "      <td>106421</td>\n",
              "      <td>NaN</td>\n",
              "      <td>NaN</td>\n",
              "      <td>...</td>\n",
              "      <td>7.0</td>\n",
              "      <td>99.0</td>\n",
              "      <td>611.0</td>\n",
              "      <td>96.0</td>\n",
              "      <td>616.0</td>\n",
              "      <td>2017</td>\n",
              "      <td>3</td>\n",
              "      <td>40.000000</td>\n",
              "      <td>30.000000</td>\n",
              "      <td>-3.0</td>\n",
              "    </tr>\n",
              "    <tr>\n",
              "      <th>67</th>\n",
              "      <td>2017-0451</td>\n",
              "      <td>Doha</td>\n",
              "      <td>Hard</td>\n",
              "      <td>32</td>\n",
              "      <td>A</td>\n",
              "      <td>2017-01-02</td>\n",
              "      <td>283</td>\n",
              "      <td>104597</td>\n",
              "      <td>NaN</td>\n",
              "      <td>NaN</td>\n",
              "      <td>...</td>\n",
              "      <td>7.0</td>\n",
              "      <td>44.0</td>\n",
              "      <td>1013.0</td>\n",
              "      <td>40.0</td>\n",
              "      <td>1090.0</td>\n",
              "      <td>2017</td>\n",
              "      <td>3</td>\n",
              "      <td>33.333333</td>\n",
              "      <td>36.363636</td>\n",
              "      <td>-4.0</td>\n",
              "    </tr>\n",
              "  </tbody>\n",
              "</table>\n",
              "<p>5 rows × 54 columns</p>\n",
              "</div>\n",
              "      <button class=\"colab-df-convert\" onclick=\"convertToInteractive('df-9d274ea7-b433-4b9e-b488-8e7b8c896328')\"\n",
              "              title=\"Convert this dataframe to an interactive table.\"\n",
              "              style=\"display:none;\">\n",
              "        \n",
              "  <svg xmlns=\"http://www.w3.org/2000/svg\" height=\"24px\"viewBox=\"0 0 24 24\"\n",
              "       width=\"24px\">\n",
              "    <path d=\"M0 0h24v24H0V0z\" fill=\"none\"/>\n",
              "    <path d=\"M18.56 5.44l.94 2.06.94-2.06 2.06-.94-2.06-.94-.94-2.06-.94 2.06-2.06.94zm-11 1L8.5 8.5l.94-2.06 2.06-.94-2.06-.94L8.5 2.5l-.94 2.06-2.06.94zm10 10l.94 2.06.94-2.06 2.06-.94-2.06-.94-.94-2.06-.94 2.06-2.06.94z\"/><path d=\"M17.41 7.96l-1.37-1.37c-.4-.4-.92-.59-1.43-.59-.52 0-1.04.2-1.43.59L10.3 9.45l-7.72 7.72c-.78.78-.78 2.05 0 2.83L4 21.41c.39.39.9.59 1.41.59.51 0 1.02-.2 1.41-.59l7.78-7.78 2.81-2.81c.8-.78.8-2.07 0-2.86zM5.41 20L4 18.59l7.72-7.72 1.47 1.35L5.41 20z\"/>\n",
              "  </svg>\n",
              "      </button>\n",
              "      \n",
              "  <style>\n",
              "    .colab-df-container {\n",
              "      display:flex;\n",
              "      flex-wrap:wrap;\n",
              "      gap: 12px;\n",
              "    }\n",
              "\n",
              "    .colab-df-convert {\n",
              "      background-color: #E8F0FE;\n",
              "      border: none;\n",
              "      border-radius: 50%;\n",
              "      cursor: pointer;\n",
              "      display: none;\n",
              "      fill: #1967D2;\n",
              "      height: 32px;\n",
              "      padding: 0 0 0 0;\n",
              "      width: 32px;\n",
              "    }\n",
              "\n",
              "    .colab-df-convert:hover {\n",
              "      background-color: #E2EBFA;\n",
              "      box-shadow: 0px 1px 2px rgba(60, 64, 67, 0.3), 0px 1px 3px 1px rgba(60, 64, 67, 0.15);\n",
              "      fill: #174EA6;\n",
              "    }\n",
              "\n",
              "    [theme=dark] .colab-df-convert {\n",
              "      background-color: #3B4455;\n",
              "      fill: #D2E3FC;\n",
              "    }\n",
              "\n",
              "    [theme=dark] .colab-df-convert:hover {\n",
              "      background-color: #434B5C;\n",
              "      box-shadow: 0px 1px 3px 1px rgba(0, 0, 0, 0.15);\n",
              "      filter: drop-shadow(0px 1px 2px rgba(0, 0, 0, 0.3));\n",
              "      fill: #FFFFFF;\n",
              "    }\n",
              "  </style>\n",
              "\n",
              "      <script>\n",
              "        const buttonEl =\n",
              "          document.querySelector('#df-9d274ea7-b433-4b9e-b488-8e7b8c896328 button.colab-df-convert');\n",
              "        buttonEl.style.display =\n",
              "          google.colab.kernel.accessAllowed ? 'block' : 'none';\n",
              "\n",
              "        async function convertToInteractive(key) {\n",
              "          const element = document.querySelector('#df-9d274ea7-b433-4b9e-b488-8e7b8c896328');\n",
              "          const dataTable =\n",
              "            await google.colab.kernel.invokeFunction('convertToInteractive',\n",
              "                                                     [key], {});\n",
              "          if (!dataTable) return;\n",
              "\n",
              "          const docLinkHtml = 'Like what you see? Visit the ' +\n",
              "            '<a target=\"_blank\" href=https://colab.research.google.com/notebooks/data_table.ipynb>data table notebook</a>'\n",
              "            + ' to learn more about interactive tables.';\n",
              "          element.innerHTML = '';\n",
              "          dataTable['output_type'] = 'display_data';\n",
              "          await google.colab.output.renderOutput(dataTable, element);\n",
              "          const docLink = document.createElement('div');\n",
              "          docLink.innerHTML = docLinkHtml;\n",
              "          element.appendChild(docLink);\n",
              "        }\n",
              "      </script>\n",
              "    </div>\n",
              "  </div>\n",
              "  "
            ]
          },
          "metadata": {},
          "execution_count": 263
        }
      ]
    },
    {
      "cell_type": "code",
      "source": [
        "df_win_5 = df_5.groupby(['winner_name'])['tourney_id'].count().reset_index()\n",
        "df_win_5 = df_win_5.rename(columns={'winner_name': 'name', 'tourney_id': 'win'})"
      ],
      "metadata": {
        "id": "m-pYuASP0Zno"
      },
      "execution_count": 264,
      "outputs": []
    },
    {
      "cell_type": "code",
      "source": [
        "df_loss_5 = df_5.groupby(['loser_name'])['tourney_id'].count().reset_index()\n",
        "df_loss_5 = df_loss_5.rename(columns={'loser_name': 'name', 'tourney_id': 'loss'})"
      ],
      "metadata": {
        "id": "WTvAb-hK0hMc"
      },
      "execution_count": 265,
      "outputs": []
    },
    {
      "cell_type": "code",
      "source": [
        "df_total_5 = df_win_5.merge(df_loss_5, left_on='name', right_on='name')\n",
        "df_total_5[df_total_5['name'] == 'Roger Federer']"
      ],
      "metadata": {
        "colab": {
          "base_uri": "https://localhost:8080/",
          "height": 81
        },
        "id": "8aoPhdCt0myR",
        "outputId": "39e478fd-3259-46db-e4a2-132c5b86185f"
      },
      "execution_count": 266,
      "outputs": [
        {
          "output_type": "execute_result",
          "data": {
            "text/plain": [
              "              name  win  loss\n",
              "680  Roger Federer  165    95"
            ],
            "text/html": [
              "\n",
              "  <div id=\"df-0bd8826b-7150-46f0-b087-d4842ba9227e\">\n",
              "    <div class=\"colab-df-container\">\n",
              "      <div>\n",
              "<style scoped>\n",
              "    .dataframe tbody tr th:only-of-type {\n",
              "        vertical-align: middle;\n",
              "    }\n",
              "\n",
              "    .dataframe tbody tr th {\n",
              "        vertical-align: top;\n",
              "    }\n",
              "\n",
              "    .dataframe thead th {\n",
              "        text-align: right;\n",
              "    }\n",
              "</style>\n",
              "<table border=\"1\" class=\"dataframe\">\n",
              "  <thead>\n",
              "    <tr style=\"text-align: right;\">\n",
              "      <th></th>\n",
              "      <th>name</th>\n",
              "      <th>win</th>\n",
              "      <th>loss</th>\n",
              "    </tr>\n",
              "  </thead>\n",
              "  <tbody>\n",
              "    <tr>\n",
              "      <th>680</th>\n",
              "      <td>Roger Federer</td>\n",
              "      <td>165</td>\n",
              "      <td>95</td>\n",
              "    </tr>\n",
              "  </tbody>\n",
              "</table>\n",
              "</div>\n",
              "      <button class=\"colab-df-convert\" onclick=\"convertToInteractive('df-0bd8826b-7150-46f0-b087-d4842ba9227e')\"\n",
              "              title=\"Convert this dataframe to an interactive table.\"\n",
              "              style=\"display:none;\">\n",
              "        \n",
              "  <svg xmlns=\"http://www.w3.org/2000/svg\" height=\"24px\"viewBox=\"0 0 24 24\"\n",
              "       width=\"24px\">\n",
              "    <path d=\"M0 0h24v24H0V0z\" fill=\"none\"/>\n",
              "    <path d=\"M18.56 5.44l.94 2.06.94-2.06 2.06-.94-2.06-.94-.94-2.06-.94 2.06-2.06.94zm-11 1L8.5 8.5l.94-2.06 2.06-.94-2.06-.94L8.5 2.5l-.94 2.06-2.06.94zm10 10l.94 2.06.94-2.06 2.06-.94-2.06-.94-.94-2.06-.94 2.06-2.06.94z\"/><path d=\"M17.41 7.96l-1.37-1.37c-.4-.4-.92-.59-1.43-.59-.52 0-1.04.2-1.43.59L10.3 9.45l-7.72 7.72c-.78.78-.78 2.05 0 2.83L4 21.41c.39.39.9.59 1.41.59.51 0 1.02-.2 1.41-.59l7.78-7.78 2.81-2.81c.8-.78.8-2.07 0-2.86zM5.41 20L4 18.59l7.72-7.72 1.47 1.35L5.41 20z\"/>\n",
              "  </svg>\n",
              "      </button>\n",
              "      \n",
              "  <style>\n",
              "    .colab-df-container {\n",
              "      display:flex;\n",
              "      flex-wrap:wrap;\n",
              "      gap: 12px;\n",
              "    }\n",
              "\n",
              "    .colab-df-convert {\n",
              "      background-color: #E8F0FE;\n",
              "      border: none;\n",
              "      border-radius: 50%;\n",
              "      cursor: pointer;\n",
              "      display: none;\n",
              "      fill: #1967D2;\n",
              "      height: 32px;\n",
              "      padding: 0 0 0 0;\n",
              "      width: 32px;\n",
              "    }\n",
              "\n",
              "    .colab-df-convert:hover {\n",
              "      background-color: #E2EBFA;\n",
              "      box-shadow: 0px 1px 2px rgba(60, 64, 67, 0.3), 0px 1px 3px 1px rgba(60, 64, 67, 0.15);\n",
              "      fill: #174EA6;\n",
              "    }\n",
              "\n",
              "    [theme=dark] .colab-df-convert {\n",
              "      background-color: #3B4455;\n",
              "      fill: #D2E3FC;\n",
              "    }\n",
              "\n",
              "    [theme=dark] .colab-df-convert:hover {\n",
              "      background-color: #434B5C;\n",
              "      box-shadow: 0px 1px 3px 1px rgba(0, 0, 0, 0.15);\n",
              "      filter: drop-shadow(0px 1px 2px rgba(0, 0, 0, 0.3));\n",
              "      fill: #FFFFFF;\n",
              "    }\n",
              "  </style>\n",
              "\n",
              "      <script>\n",
              "        const buttonEl =\n",
              "          document.querySelector('#df-0bd8826b-7150-46f0-b087-d4842ba9227e button.colab-df-convert');\n",
              "        buttonEl.style.display =\n",
              "          google.colab.kernel.accessAllowed ? 'block' : 'none';\n",
              "\n",
              "        async function convertToInteractive(key) {\n",
              "          const element = document.querySelector('#df-0bd8826b-7150-46f0-b087-d4842ba9227e');\n",
              "          const dataTable =\n",
              "            await google.colab.kernel.invokeFunction('convertToInteractive',\n",
              "                                                     [key], {});\n",
              "          if (!dataTable) return;\n",
              "\n",
              "          const docLinkHtml = 'Like what you see? Visit the ' +\n",
              "            '<a target=\"_blank\" href=https://colab.research.google.com/notebooks/data_table.ipynb>data table notebook</a>'\n",
              "            + ' to learn more about interactive tables.';\n",
              "          element.innerHTML = '';\n",
              "          dataTable['output_type'] = 'display_data';\n",
              "          await google.colab.output.renderOutput(dataTable, element);\n",
              "          const docLink = document.createElement('div');\n",
              "          docLink.innerHTML = docLinkHtml;\n",
              "          element.appendChild(docLink);\n",
              "        }\n",
              "      </script>\n",
              "    </div>\n",
              "  </div>\n",
              "  "
            ]
          },
          "metadata": {},
          "execution_count": 266
        }
      ]
    },
    {
      "cell_type": "code",
      "source": [
        "df_total_5['matches'] = df_total_5['win'] + df_total_5['loss']\n",
        "df_total_5['%win'] = (df_total_5['win']/df_total_5['matches']) * 100\n",
        "df_total_5.head()"
      ],
      "metadata": {
        "colab": {
          "base_uri": "https://localhost:8080/",
          "height": 206
        },
        "id": "oHKheHGS0tfC",
        "outputId": "1730b180-d015-4f60-9272-c699e882323a"
      },
      "execution_count": 267,
      "outputs": [
        {
          "output_type": "execute_result",
          "data": {
            "text/plain": [
              "               name  win  loss  matches       %win\n",
              "0  Aaron Krickstein   20    17       37  54.054054\n",
              "1     Adrian Garcia    2     4        6  33.333333\n",
              "2  Adrian Mannarino   13    19       32  40.625000\n",
              "3     Adrian Voinea   12     5       17  70.588235\n",
              "4   Adriano Panatta    3     3        6  50.000000"
            ],
            "text/html": [
              "\n",
              "  <div id=\"df-523edc04-745a-4165-bbd8-49ec362f88ac\">\n",
              "    <div class=\"colab-df-container\">\n",
              "      <div>\n",
              "<style scoped>\n",
              "    .dataframe tbody tr th:only-of-type {\n",
              "        vertical-align: middle;\n",
              "    }\n",
              "\n",
              "    .dataframe tbody tr th {\n",
              "        vertical-align: top;\n",
              "    }\n",
              "\n",
              "    .dataframe thead th {\n",
              "        text-align: right;\n",
              "    }\n",
              "</style>\n",
              "<table border=\"1\" class=\"dataframe\">\n",
              "  <thead>\n",
              "    <tr style=\"text-align: right;\">\n",
              "      <th></th>\n",
              "      <th>name</th>\n",
              "      <th>win</th>\n",
              "      <th>loss</th>\n",
              "      <th>matches</th>\n",
              "      <th>%win</th>\n",
              "    </tr>\n",
              "  </thead>\n",
              "  <tbody>\n",
              "    <tr>\n",
              "      <th>0</th>\n",
              "      <td>Aaron Krickstein</td>\n",
              "      <td>20</td>\n",
              "      <td>17</td>\n",
              "      <td>37</td>\n",
              "      <td>54.054054</td>\n",
              "    </tr>\n",
              "    <tr>\n",
              "      <th>1</th>\n",
              "      <td>Adrian Garcia</td>\n",
              "      <td>2</td>\n",
              "      <td>4</td>\n",
              "      <td>6</td>\n",
              "      <td>33.333333</td>\n",
              "    </tr>\n",
              "    <tr>\n",
              "      <th>2</th>\n",
              "      <td>Adrian Mannarino</td>\n",
              "      <td>13</td>\n",
              "      <td>19</td>\n",
              "      <td>32</td>\n",
              "      <td>40.625000</td>\n",
              "    </tr>\n",
              "    <tr>\n",
              "      <th>3</th>\n",
              "      <td>Adrian Voinea</td>\n",
              "      <td>12</td>\n",
              "      <td>5</td>\n",
              "      <td>17</td>\n",
              "      <td>70.588235</td>\n",
              "    </tr>\n",
              "    <tr>\n",
              "      <th>4</th>\n",
              "      <td>Adriano Panatta</td>\n",
              "      <td>3</td>\n",
              "      <td>3</td>\n",
              "      <td>6</td>\n",
              "      <td>50.000000</td>\n",
              "    </tr>\n",
              "  </tbody>\n",
              "</table>\n",
              "</div>\n",
              "      <button class=\"colab-df-convert\" onclick=\"convertToInteractive('df-523edc04-745a-4165-bbd8-49ec362f88ac')\"\n",
              "              title=\"Convert this dataframe to an interactive table.\"\n",
              "              style=\"display:none;\">\n",
              "        \n",
              "  <svg xmlns=\"http://www.w3.org/2000/svg\" height=\"24px\"viewBox=\"0 0 24 24\"\n",
              "       width=\"24px\">\n",
              "    <path d=\"M0 0h24v24H0V0z\" fill=\"none\"/>\n",
              "    <path d=\"M18.56 5.44l.94 2.06.94-2.06 2.06-.94-2.06-.94-.94-2.06-.94 2.06-2.06.94zm-11 1L8.5 8.5l.94-2.06 2.06-.94-2.06-.94L8.5 2.5l-.94 2.06-2.06.94zm10 10l.94 2.06.94-2.06 2.06-.94-2.06-.94-.94-2.06-.94 2.06-2.06.94z\"/><path d=\"M17.41 7.96l-1.37-1.37c-.4-.4-.92-.59-1.43-.59-.52 0-1.04.2-1.43.59L10.3 9.45l-7.72 7.72c-.78.78-.78 2.05 0 2.83L4 21.41c.39.39.9.59 1.41.59.51 0 1.02-.2 1.41-.59l7.78-7.78 2.81-2.81c.8-.78.8-2.07 0-2.86zM5.41 20L4 18.59l7.72-7.72 1.47 1.35L5.41 20z\"/>\n",
              "  </svg>\n",
              "      </button>\n",
              "      \n",
              "  <style>\n",
              "    .colab-df-container {\n",
              "      display:flex;\n",
              "      flex-wrap:wrap;\n",
              "      gap: 12px;\n",
              "    }\n",
              "\n",
              "    .colab-df-convert {\n",
              "      background-color: #E8F0FE;\n",
              "      border: none;\n",
              "      border-radius: 50%;\n",
              "      cursor: pointer;\n",
              "      display: none;\n",
              "      fill: #1967D2;\n",
              "      height: 32px;\n",
              "      padding: 0 0 0 0;\n",
              "      width: 32px;\n",
              "    }\n",
              "\n",
              "    .colab-df-convert:hover {\n",
              "      background-color: #E2EBFA;\n",
              "      box-shadow: 0px 1px 2px rgba(60, 64, 67, 0.3), 0px 1px 3px 1px rgba(60, 64, 67, 0.15);\n",
              "      fill: #174EA6;\n",
              "    }\n",
              "\n",
              "    [theme=dark] .colab-df-convert {\n",
              "      background-color: #3B4455;\n",
              "      fill: #D2E3FC;\n",
              "    }\n",
              "\n",
              "    [theme=dark] .colab-df-convert:hover {\n",
              "      background-color: #434B5C;\n",
              "      box-shadow: 0px 1px 3px 1px rgba(0, 0, 0, 0.15);\n",
              "      filter: drop-shadow(0px 1px 2px rgba(0, 0, 0, 0.3));\n",
              "      fill: #FFFFFF;\n",
              "    }\n",
              "  </style>\n",
              "\n",
              "      <script>\n",
              "        const buttonEl =\n",
              "          document.querySelector('#df-523edc04-745a-4165-bbd8-49ec362f88ac button.colab-df-convert');\n",
              "        buttonEl.style.display =\n",
              "          google.colab.kernel.accessAllowed ? 'block' : 'none';\n",
              "\n",
              "        async function convertToInteractive(key) {\n",
              "          const element = document.querySelector('#df-523edc04-745a-4165-bbd8-49ec362f88ac');\n",
              "          const dataTable =\n",
              "            await google.colab.kernel.invokeFunction('convertToInteractive',\n",
              "                                                     [key], {});\n",
              "          if (!dataTable) return;\n",
              "\n",
              "          const docLinkHtml = 'Like what you see? Visit the ' +\n",
              "            '<a target=\"_blank\" href=https://colab.research.google.com/notebooks/data_table.ipynb>data table notebook</a>'\n",
              "            + ' to learn more about interactive tables.';\n",
              "          element.innerHTML = '';\n",
              "          dataTable['output_type'] = 'display_data';\n",
              "          await google.colab.output.renderOutput(dataTable, element);\n",
              "          const docLink = document.createElement('div');\n",
              "          docLink.innerHTML = docLinkHtml;\n",
              "          element.appendChild(docLink);\n",
              "        }\n",
              "      </script>\n",
              "    </div>\n",
              "  </div>\n",
              "  "
            ]
          },
          "metadata": {},
          "execution_count": 267
        }
      ]
    },
    {
      "cell_type": "code",
      "source": [
        "# смотрим распределение выборки"
      ],
      "metadata": {
        "id": "Y2sGLXe003lF"
      },
      "execution_count": 268,
      "outputs": []
    },
    {
      "cell_type": "code",
      "source": [
        "sns.displot(df_total_5['%win']);"
      ],
      "metadata": {
        "colab": {
          "base_uri": "https://localhost:8080/",
          "height": 365
        },
        "id": "wKCRLLvi6a_F",
        "outputId": "1efd9660-ab06-4eea-ee0a-beb7f6a286d6"
      },
      "execution_count": 269,
      "outputs": [
        {
          "output_type": "display_data",
          "data": {
            "text/plain": [
              "<Figure size 360x360 with 1 Axes>"
            ],
            "image/png": "[encoded data removed]"
          },
          "metadata": {}
        }
      ]
    },
    {
      "cell_type": "code",
      "source": [
        "# очень похоже распределение на нормальное, поэтому проверим еще с помощью qq-plot"
      ],
      "metadata": {
        "id": "MWYfvNSS6cb_"
      },
      "execution_count": 270,
      "outputs": []
    },
    {
      "cell_type": "code",
      "source": [
        "fig = sm.qqplot(df_total_5['%win'], line='45')\n",
        "plt.show()"
      ],
      "metadata": {
        "colab": {
          "base_uri": "https://localhost:8080/",
          "height": 285
        },
        "id": "VUROy56I6g-U",
        "outputId": "891f9d08-eb92-487a-8aaa-8247174ea64a"
      },
      "execution_count": 271,
      "outputs": [
        {
          "output_type": "display_data",
          "data": {
            "text/plain": [
              "<Figure size 432x288 with 1 Axes>"
            ],
            "image/png": "[encoded data removed]"
          },
          "metadata": {}
        }
      ]
    },
    {
      "cell_type": "code",
      "source": [
        "# посмотрим на разницу в боксплотах\n",
        "fig, axes = plt.subplots(1, 2)\n",
        "sns.boxplot(data=df_total, y='%win', ax=axes[0])\n",
        "sns.boxplot(data=df_total_5, y='%win', ax=axes[1])"
      ],
      "metadata": {
        "colab": {
          "base_uri": "https://localhost:8080/",
          "height": 268
        },
        "id": "ttycaa-n6lQd",
        "outputId": "4585ec37-7f5a-4fd1-8743-31f8351f4cef"
      },
      "execution_count": 272,
      "outputs": [
        {
          "output_type": "execute_result",
          "data": {
            "text/plain": [
              "<matplotlib.axes._subplots.AxesSubplot at 0x7f7e507b1070>"
            ]
          },
          "metadata": {},
          "execution_count": 272
        },
        {
          "output_type": "display_data",
          "data": {
            "text/plain": [
              "<Figure size 432x288 with 2 Axes>"
            ],
            "image/png": "[encoded data removed]"
          },
          "metadata": {}
        }
      ]
    },
    {
      "cell_type": "markdown",
      "source": [
        "Все выборки распределены ненормально.\n",
        "Выборки независимые\n",
        "\n",
        "Для проверки выборк будет использован тест Манна-Уитни https://docs.scipy.org/doc/scipy/reference/generated/scipy.stats.mannwhitneyu.html?highlight=mann#scipy.stats.mannwhitneyu"
      ],
      "metadata": {
        "id": "hBciwO-e6xWs"
      }
    },
    {
      "cell_type": "code",
      "source": [
        "_, p = stats.mannwhitneyu(df_total_5['%win'], df_total['%win'], alternative='greater')\n",
        "p"
      ],
      "metadata": {
        "colab": {
          "base_uri": "https://localhost:8080/"
        },
        "id": "G7CStMZW6x3M",
        "outputId": "bd2ebf85-7e8a-4d67-c366-3c92eeed04a8"
      },
      "execution_count": 273,
      "outputs": [
        {
          "output_type": "execute_result",
          "data": {
            "text/plain": [
              "1.3025213789638334e-50"
            ]
          },
          "metadata": {},
          "execution_count": 273
        }
      ]
    },
    {
      "cell_type": "markdown",
      "source": [
        "Таким образом, статистически подтверждено, что если у соперника ранг на +/-5 пунктов больше, то возможность победить выше, чем в среднестатистической выборке"
      ],
      "metadata": {
        "id": "cxrJZVLl9CPM"
      }
    },
    {
      "cell_type": "code",
      "source": [],
      "metadata": {
        "id": "jT2TnD5R9Hu3"
      },
      "execution_count": null,
      "outputs": []
    }
  ]
}